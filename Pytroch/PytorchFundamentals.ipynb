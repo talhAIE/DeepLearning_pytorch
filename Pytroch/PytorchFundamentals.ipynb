{
  "nbformat": 4,
  "nbformat_minor": 0,
  "metadata": {
    "colab": {
      "provenance": [],
      "gpuType": "T4"
    },
    "kernelspec": {
      "name": "python3",
      "display_name": "Python 3"
    },
    "language_info": {
      "name": "python"
    },
    "accelerator": "GPU"
  },
  "cells": [
    {
      "cell_type": "code",
      "execution_count": null,
      "metadata": {
        "colab": {
          "base_uri": "https://localhost:8080/"
        },
        "id": "RjnlyLD1hodZ",
        "outputId": "f16ae494-cbc1-439d-b0b6-5e08db2973ae"
      },
      "outputs": [
        {
          "output_type": "stream",
          "name": "stdout",
          "text": [
            "Sun Nov 24 09:18:41 2024       \n",
            "+---------------------------------------------------------------------------------------+\n",
            "| NVIDIA-SMI 535.104.05             Driver Version: 535.104.05   CUDA Version: 12.2     |\n",
            "|-----------------------------------------+----------------------+----------------------+\n",
            "| GPU  Name                 Persistence-M | Bus-Id        Disp.A | Volatile Uncorr. ECC |\n",
            "| Fan  Temp   Perf          Pwr:Usage/Cap |         Memory-Usage | GPU-Util  Compute M. |\n",
            "|                                         |                      |               MIG M. |\n",
            "|=========================================+======================+======================|\n",
            "|   0  Tesla T4                       Off | 00000000:00:04.0 Off |                    0 |\n",
            "| N/A   51C    P8              10W /  70W |      0MiB / 15360MiB |      0%      Default |\n",
            "|                                         |                      |                  N/A |\n",
            "+-----------------------------------------+----------------------+----------------------+\n",
            "                                                                                         \n",
            "+---------------------------------------------------------------------------------------+\n",
            "| Processes:                                                                            |\n",
            "|  GPU   GI   CI        PID   Type   Process name                            GPU Memory |\n",
            "|        ID   ID                                                             Usage      |\n",
            "|=======================================================================================|\n",
            "|  No running processes found                                                           |\n",
            "+---------------------------------------------------------------------------------------+\n"
          ]
        }
      ],
      "source": [
        "!nvidia-smi"
      ]
    },
    {
      "cell_type": "code",
      "source": [
        "import torch\n",
        "import pandas as pd\n",
        "import numpy as np\n",
        "import matplotlib.pyplot as plt\n"
      ],
      "metadata": {
        "id": "QPcf4ZF7hubv"
      },
      "execution_count": null,
      "outputs": []
    },
    {
      "cell_type": "code",
      "source": [
        "print(torch.__version__)"
      ],
      "metadata": {
        "colab": {
          "base_uri": "https://localhost:8080/"
        },
        "id": "wBDHlRWkjLrt",
        "outputId": "e660442d-ce5c-4972-8aab-c4194b79e413"
      },
      "execution_count": null,
      "outputs": [
        {
          "output_type": "stream",
          "name": "stdout",
          "text": [
            "2.5.1+cu121\n"
          ]
        }
      ]
    },
    {
      "cell_type": "markdown",
      "source": [
        "#Cuda is a parallel computing platform"
      ],
      "metadata": {
        "id": "MOhxvgyEi0Nr"
      }
    },
    {
      "cell_type": "markdown",
      "source": [
        "#Introduction to Tensors"
      ],
      "metadata": {
        "id": "N5cKbVWvjnbL"
      }
    },
    {
      "cell_type": "markdown",
      "source": [
        "#Scalar"
      ],
      "metadata": {
        "id": "xgGCgYWsmGhC"
      }
    },
    {
      "cell_type": "code",
      "source": [
        "#scalar\n",
        "scalar=torch.tensor(7)\n",
        "scalar"
      ],
      "metadata": {
        "colab": {
          "base_uri": "https://localhost:8080/"
        },
        "id": "VkYw44mUizjz",
        "outputId": "fb6966d3-6224-465d-894a-af7051032c17"
      },
      "execution_count": null,
      "outputs": [
        {
          "output_type": "execute_result",
          "data": {
            "text/plain": [
              "tensor(7)"
            ]
          },
          "metadata": {},
          "execution_count": 5
        }
      ]
    },
    {
      "cell_type": "code",
      "source": [
        "#checking dimention\n",
        "scalar.ndim\n"
      ],
      "metadata": {
        "colab": {
          "base_uri": "https://localhost:8080/"
        },
        "id": "Be5iD3nniQHb",
        "outputId": "1afdf3d1-72f6-47a5-9a00-9570321f0f31"
      },
      "execution_count": null,
      "outputs": [
        {
          "output_type": "execute_result",
          "data": {
            "text/plain": [
              "0"
            ]
          },
          "metadata": {},
          "execution_count": 6
        }
      ]
    },
    {
      "cell_type": "code",
      "source": [
        "#get tensor items\n",
        "scalar.item()\n"
      ],
      "metadata": {
        "colab": {
          "base_uri": "https://localhost:8080/"
        },
        "id": "6T0pXP5Hl0WB",
        "outputId": "ea12980d-7197-4970-8761-a774b6e6754b"
      },
      "execution_count": null,
      "outputs": [
        {
          "output_type": "execute_result",
          "data": {
            "text/plain": [
              "7"
            ]
          },
          "metadata": {},
          "execution_count": 7
        }
      ]
    },
    {
      "cell_type": "code",
      "source": [
        "scalar.shape"
      ],
      "metadata": {
        "colab": {
          "base_uri": "https://localhost:8080/"
        },
        "id": "s6eluViHd8Bb",
        "outputId": "cfe342e2-78e2-4e27-c791-ba73a81ce6d5"
      },
      "execution_count": null,
      "outputs": [
        {
          "output_type": "execute_result",
          "data": {
            "text/plain": [
              "torch.Size([])"
            ]
          },
          "metadata": {},
          "execution_count": 9
        }
      ]
    },
    {
      "cell_type": "code",
      "source": [
        "s=torch.tensor([1,2,3,4])\n",
        "s[0].item()"
      ],
      "metadata": {
        "colab": {
          "base_uri": "https://localhost:8080/"
        },
        "id": "wzu6kWdM7xTF",
        "outputId": "de1ffd63-46d0-4bb4-97d6-a7270a977712"
      },
      "execution_count": null,
      "outputs": [
        {
          "output_type": "execute_result",
          "data": {
            "text/plain": [
              "1"
            ]
          },
          "metadata": {},
          "execution_count": 12
        }
      ]
    },
    {
      "cell_type": "markdown",
      "source": [
        "#Vector"
      ],
      "metadata": {
        "id": "G7juIkmumIHS"
      }
    },
    {
      "cell_type": "code",
      "source": [
        "vector=torch.tensor([2,3,4])"
      ],
      "metadata": {
        "id": "DwDRVA7El4nq"
      },
      "execution_count": null,
      "outputs": []
    },
    {
      "cell_type": "code",
      "source": [
        "vector"
      ],
      "metadata": {
        "colab": {
          "base_uri": "https://localhost:8080/"
        },
        "id": "822QMmNfmLtp",
        "outputId": "82dc1faa-1441-4e91-cfed-751656c7c658"
      },
      "execution_count": null,
      "outputs": [
        {
          "output_type": "execute_result",
          "data": {
            "text/plain": [
              "tensor([2, 3, 4])"
            ]
          },
          "metadata": {},
          "execution_count": 11
        }
      ]
    },
    {
      "cell_type": "code",
      "source": [
        "vector.ndim"
      ],
      "metadata": {
        "colab": {
          "base_uri": "https://localhost:8080/"
        },
        "id": "FcYDiFJbmMPT",
        "outputId": "3bc8a14d-83e9-4c35-ced8-5f007dba9c61"
      },
      "execution_count": null,
      "outputs": [
        {
          "output_type": "execute_result",
          "data": {
            "text/plain": [
              "1"
            ]
          },
          "metadata": {},
          "execution_count": 12
        }
      ]
    },
    {
      "cell_type": "code",
      "source": [
        "vector.shape"
      ],
      "metadata": {
        "colab": {
          "base_uri": "https://localhost:8080/"
        },
        "id": "28dNgebPmNLb",
        "outputId": "1a1b9e3d-2d3d-4ee9-c7b9-7d18098997c0"
      },
      "execution_count": null,
      "outputs": [
        {
          "output_type": "execute_result",
          "data": {
            "text/plain": [
              "torch.Size([3])"
            ]
          },
          "metadata": {},
          "execution_count": 13
        }
      ]
    },
    {
      "cell_type": "code",
      "source": [
        "vector[1]"
      ],
      "metadata": {
        "colab": {
          "base_uri": "https://localhost:8080/"
        },
        "id": "KvAQKh3imOdP",
        "outputId": "e76a49f6-db36-4d4b-c34c-030a2585ce54"
      },
      "execution_count": null,
      "outputs": [
        {
          "output_type": "execute_result",
          "data": {
            "text/plain": [
              "tensor(3)"
            ]
          },
          "metadata": {},
          "execution_count": 14
        }
      ]
    },
    {
      "cell_type": "markdown",
      "source": [
        "#Matrix\n"
      ],
      "metadata": {
        "id": "Jr5urRK1mxUL"
      }
    },
    {
      "cell_type": "code",
      "source": [
        "MATRIX=torch.tensor([[1,2,3],[4,5,6]])"
      ],
      "metadata": {
        "id": "CM8j9Re7mzBb"
      },
      "execution_count": null,
      "outputs": []
    },
    {
      "cell_type": "code",
      "source": [
        "MATRIX"
      ],
      "metadata": {
        "colab": {
          "base_uri": "https://localhost:8080/"
        },
        "id": "YEgoqC5jm3T9",
        "outputId": "27b98dea-aa7f-49a6-d966-9f601674e747"
      },
      "execution_count": null,
      "outputs": [
        {
          "output_type": "execute_result",
          "data": {
            "text/plain": [
              "tensor([[1, 2, 3],\n",
              "        [4, 5, 6]])"
            ]
          },
          "metadata": {},
          "execution_count": 16
        }
      ]
    },
    {
      "cell_type": "code",
      "source": [
        "MATRIX.ndim"
      ],
      "metadata": {
        "colab": {
          "base_uri": "https://localhost:8080/"
        },
        "id": "T5gXLlk2m4a2",
        "outputId": "5ecdc816-baff-4dac-efef-80f2bbe8a94b"
      },
      "execution_count": null,
      "outputs": [
        {
          "output_type": "execute_result",
          "data": {
            "text/plain": [
              "2"
            ]
          },
          "metadata": {},
          "execution_count": 17
        }
      ]
    },
    {
      "cell_type": "code",
      "source": [
        "MATRIX.shape"
      ],
      "metadata": {
        "colab": {
          "base_uri": "https://localhost:8080/"
        },
        "id": "Lu65xqTMm6AJ",
        "outputId": "245331f6-1cfd-49eb-bc87-a5a538281b65"
      },
      "execution_count": null,
      "outputs": [
        {
          "output_type": "execute_result",
          "data": {
            "text/plain": [
              "torch.Size([2, 3])"
            ]
          },
          "metadata": {},
          "execution_count": 18
        }
      ]
    },
    {
      "cell_type": "code",
      "source": [
        "MATRIX[0]"
      ],
      "metadata": {
        "colab": {
          "base_uri": "https://localhost:8080/"
        },
        "id": "XVRiJITnm8ev",
        "outputId": "7a0c3435-0314-4adc-c4cc-38ad3627a89e"
      },
      "execution_count": null,
      "outputs": [
        {
          "output_type": "execute_result",
          "data": {
            "text/plain": [
              "tensor([1, 2, 3])"
            ]
          },
          "metadata": {},
          "execution_count": 19
        }
      ]
    },
    {
      "cell_type": "code",
      "source": [
        "MATRIX[1]"
      ],
      "metadata": {
        "colab": {
          "base_uri": "https://localhost:8080/"
        },
        "id": "mMaqLX9KnAbu",
        "outputId": "08cdeb86-d3d2-4154-a362-e742a2abdf89"
      },
      "execution_count": null,
      "outputs": [
        {
          "output_type": "execute_result",
          "data": {
            "text/plain": [
              "tensor([4, 5, 6])"
            ]
          },
          "metadata": {},
          "execution_count": 20
        }
      ]
    },
    {
      "cell_type": "code",
      "source": [
        "#TENSOR\n",
        "tenSor=torch.tensor([[[2,3,4],[5,6,7]]])"
      ],
      "metadata": {
        "id": "sYIt87lmnBvY"
      },
      "execution_count": null,
      "outputs": []
    },
    {
      "cell_type": "code",
      "source": [
        "tenSor.ndim"
      ],
      "metadata": {
        "colab": {
          "base_uri": "https://localhost:8080/"
        },
        "id": "sSi42NPHnFmY",
        "outputId": "981bfa2b-b48c-4694-ba22-fb2100448807"
      },
      "execution_count": null,
      "outputs": [
        {
          "output_type": "execute_result",
          "data": {
            "text/plain": [
              "3"
            ]
          },
          "metadata": {},
          "execution_count": 22
        }
      ]
    },
    {
      "cell_type": "code",
      "source": [
        "tenSor.shape"
      ],
      "metadata": {
        "colab": {
          "base_uri": "https://localhost:8080/"
        },
        "id": "BTN4erxGnZYQ",
        "outputId": "6db9ad73-1c98-4739-99fb-ad718ac0d75f"
      },
      "execution_count": null,
      "outputs": [
        {
          "output_type": "execute_result",
          "data": {
            "text/plain": [
              "torch.Size([1, 2, 3])"
            ]
          },
          "metadata": {},
          "execution_count": 23
        }
      ]
    },
    {
      "cell_type": "markdown",
      "source": [
        "#Random Tensors\n",
        "**Why :** Important because the way many neural network learn is that they start with tensors full of random numbers and then adjust those random numbers to better represent the data\n",
        "\n",
        "\n",
        "---\n",
        "\n",
        "\n",
        "start with random number -> look at data -> upate random number -> look at data -> update random number\n",
        "\n",
        "\n",
        "---\n",
        "\n"
      ],
      "metadata": {
        "id": "jH7hEc2poYxj"
      }
    },
    {
      "cell_type": "code",
      "source": [
        " #create random tensor of size 4,5\n",
        " ran_num=torch.rand(4,5)\n",
        " print(ran_num)"
      ],
      "metadata": {
        "colab": {
          "base_uri": "https://localhost:8080/"
        },
        "id": "grr2a_nPnahE",
        "outputId": "4afe3e18-8065-40f9-fc3b-258926ac8296"
      },
      "execution_count": null,
      "outputs": [
        {
          "output_type": "stream",
          "name": "stdout",
          "text": [
            "tensor([[0.8115, 0.4610, 0.0182, 0.0522, 0.7519],\n",
            "        [0.5094, 0.3686, 0.1981, 0.0362, 0.8529],\n",
            "        [0.0496, 0.5203, 0.7123, 0.4117, 0.9307],\n",
            "        [0.9502, 0.0444, 0.6137, 0.4950, 0.0690]])\n"
          ]
        }
      ]
    },
    {
      "cell_type": "code",
      "source": [
        "ran_num.ndim"
      ],
      "metadata": {
        "colab": {
          "base_uri": "https://localhost:8080/"
        },
        "id": "UBLp2wOTqIa1",
        "outputId": "cca0ba5b-2bd3-4ae8-fcac-3deba4f2181a"
      },
      "execution_count": null,
      "outputs": [
        {
          "output_type": "execute_result",
          "data": {
            "text/plain": [
              "2"
            ]
          },
          "metadata": {},
          "execution_count": 25
        }
      ]
    },
    {
      "cell_type": "code",
      "source": [
        "ran_num.shape"
      ],
      "metadata": {
        "colab": {
          "base_uri": "https://localhost:8080/"
        },
        "id": "-gr-9GF4qPch",
        "outputId": "9c8e5863-2dd4-4e4e-dfa6-6ba3479f2bca"
      },
      "execution_count": null,
      "outputs": [
        {
          "output_type": "execute_result",
          "data": {
            "text/plain": [
              "torch.Size([4, 5])"
            ]
          },
          "metadata": {},
          "execution_count": 26
        }
      ]
    },
    {
      "cell_type": "code",
      "source": [
        "ran_num2=torch.rand(1,2,3)"
      ],
      "metadata": {
        "id": "LHxdTQZOqQSI"
      },
      "execution_count": null,
      "outputs": []
    },
    {
      "cell_type": "code",
      "source": [
        "ran_num2\n"
      ],
      "metadata": {
        "colab": {
          "base_uri": "https://localhost:8080/"
        },
        "id": "cNuKLkKTz6wh",
        "outputId": "e54f3b36-a273-475a-d799-7f34afb11dce"
      },
      "execution_count": null,
      "outputs": [
        {
          "output_type": "execute_result",
          "data": {
            "text/plain": [
              "tensor([[[0.5791, 0.2050, 0.5013],\n",
              "         [0.6825, 0.4095, 0.4865]]])"
            ]
          },
          "metadata": {},
          "execution_count": 28
        }
      ]
    },
    {
      "cell_type": "code",
      "source": [
        "ran_num2.ndim"
      ],
      "metadata": {
        "colab": {
          "base_uri": "https://localhost:8080/"
        },
        "id": "M8N8K8Zez8es",
        "outputId": "faf3cda2-75db-4c1f-c76a-9b95b8be3bcd"
      },
      "execution_count": null,
      "outputs": [
        {
          "output_type": "execute_result",
          "data": {
            "text/plain": [
              "3"
            ]
          },
          "metadata": {},
          "execution_count": 30
        }
      ]
    },
    {
      "cell_type": "code",
      "source": [
        "ran_num2.shape"
      ],
      "metadata": {
        "colab": {
          "base_uri": "https://localhost:8080/"
        },
        "id": "mUMZaxbCz97b",
        "outputId": "4d0b844a-0a2e-45e6-d83e-af7910887c19"
      },
      "execution_count": null,
      "outputs": [
        {
          "output_type": "execute_result",
          "data": {
            "text/plain": [
              "torch.Size([1, 2, 3])"
            ]
          },
          "metadata": {},
          "execution_count": 29
        }
      ]
    },
    {
      "cell_type": "code",
      "source": [
        "#create random tensor with similar to shape of image tensor\n",
        "tensor_image=torch.rand(size=(224,224,3)) #height width , color channel (R,G,B)\n",
        "tensor_image.shape,tensor_image.ndim"
      ],
      "metadata": {
        "colab": {
          "base_uri": "https://localhost:8080/"
        },
        "id": "8avJIZ7u0ZbX",
        "outputId": "2fa23525-0445-41cf-9837-47ad8ca770d2"
      },
      "execution_count": null,
      "outputs": [
        {
          "output_type": "execute_result",
          "data": {
            "text/plain": [
              "(torch.Size([224, 224, 3]), 3)"
            ]
          },
          "metadata": {},
          "execution_count": 31
        }
      ]
    },
    {
      "cell_type": "code",
      "source": [
        "print(tensor_image)"
      ],
      "metadata": {
        "colab": {
          "base_uri": "https://localhost:8080/"
        },
        "id": "qo_RIlOReaeK",
        "outputId": "0e3e451c-6707-4287-d6b5-4d3fdbda0adf"
      },
      "execution_count": null,
      "outputs": [
        {
          "output_type": "stream",
          "name": "stdout",
          "text": [
            "tensor([[[0.3321, 0.1210, 0.2502],\n",
            "         [0.0137, 0.4762, 0.4192],\n",
            "         [0.8695, 0.5237, 0.0957],\n",
            "         ...,\n",
            "         [0.2482, 0.6682, 0.7356],\n",
            "         [0.4985, 0.1825, 0.0539],\n",
            "         [0.5618, 0.3191, 0.3328]],\n",
            "\n",
            "        [[0.7100, 0.4125, 0.5078],\n",
            "         [0.5048, 0.3549, 0.0140],\n",
            "         [0.9810, 0.6084, 0.9248],\n",
            "         ...,\n",
            "         [0.2576, 0.5367, 0.8738],\n",
            "         [0.0349, 0.1973, 0.9195],\n",
            "         [0.7380, 0.0334, 0.5164]],\n",
            "\n",
            "        [[0.6567, 0.6254, 0.0838],\n",
            "         [0.1699, 0.3005, 0.5521],\n",
            "         [0.1797, 0.4175, 0.9020],\n",
            "         ...,\n",
            "         [0.1151, 0.9779, 0.8938],\n",
            "         [0.7133, 0.8677, 0.8135],\n",
            "         [0.9395, 0.5283, 0.0975]],\n",
            "\n",
            "        ...,\n",
            "\n",
            "        [[0.0044, 0.8537, 0.6536],\n",
            "         [0.5507, 0.9625, 0.0849],\n",
            "         [0.3718, 0.2352, 0.7571],\n",
            "         ...,\n",
            "         [0.9000, 0.6316, 0.3821],\n",
            "         [0.0418, 0.1890, 0.3248],\n",
            "         [0.3435, 0.4846, 0.3418]],\n",
            "\n",
            "        [[0.1047, 0.5742, 0.2997],\n",
            "         [0.9770, 0.7781, 0.3485],\n",
            "         [0.0183, 0.0951, 0.1595],\n",
            "         ...,\n",
            "         [0.3647, 0.6552, 0.1002],\n",
            "         [0.2156, 0.6432, 0.5887],\n",
            "         [0.2131, 0.0738, 0.2640]],\n",
            "\n",
            "        [[0.0345, 0.5573, 0.0612],\n",
            "         [0.2774, 0.3204, 0.7182],\n",
            "         [0.0549, 0.7837, 0.2346],\n",
            "         ...,\n",
            "         [0.2020, 0.8412, 0.1768],\n",
            "         [0.0721, 0.5580, 0.6495],\n",
            "         [0.7041, 0.0416, 0.0946]]])\n"
          ]
        }
      ]
    },
    {
      "cell_type": "code",
      "source": [
        "#create random tensor with similar to shape of image tensor\n",
        "tensor_image=torch.rand(size=(3,224,224)) #height width , color channel (R,G,B)\n",
        "tensor_image.shape,tensor_image.ndim"
      ],
      "metadata": {
        "colab": {
          "base_uri": "https://localhost:8080/",
          "height": 176
        },
        "id": "XHrdlF810_i8",
        "outputId": "63e68efa-6c6c-4794-d055-4ec7227ea38c"
      },
      "execution_count": null,
      "outputs": [
        {
          "output_type": "error",
          "ename": "NameError",
          "evalue": "name 'torch' is not defined",
          "traceback": [
            "\u001b[0;31m---------------------------------------------------------------------------\u001b[0m",
            "\u001b[0;31mNameError\u001b[0m                                 Traceback (most recent call last)",
            "\u001b[0;32m<ipython-input-1-134494b65afe>\u001b[0m in \u001b[0;36m<cell line: 2>\u001b[0;34m()\u001b[0m\n\u001b[1;32m      1\u001b[0m \u001b[0;31m#create random tensor with similar to shape of image tensor\u001b[0m\u001b[0;34m\u001b[0m\u001b[0;34m\u001b[0m\u001b[0m\n\u001b[0;32m----> 2\u001b[0;31m \u001b[0mtensor_image\u001b[0m\u001b[0;34m=\u001b[0m\u001b[0mtorch\u001b[0m\u001b[0;34m.\u001b[0m\u001b[0mrand\u001b[0m\u001b[0;34m(\u001b[0m\u001b[0msize\u001b[0m\u001b[0;34m=\u001b[0m\u001b[0;34m(\u001b[0m\u001b[0;36m3\u001b[0m\u001b[0;34m,\u001b[0m\u001b[0;36m224\u001b[0m\u001b[0;34m,\u001b[0m\u001b[0;36m224\u001b[0m\u001b[0;34m)\u001b[0m\u001b[0;34m)\u001b[0m \u001b[0;31m#height width , color channel (R,G,B)\u001b[0m\u001b[0;34m\u001b[0m\u001b[0;34m\u001b[0m\u001b[0m\n\u001b[0m\u001b[1;32m      3\u001b[0m \u001b[0mtensor_image\u001b[0m\u001b[0;34m.\u001b[0m\u001b[0mshape\u001b[0m\u001b[0;34m,\u001b[0m\u001b[0mtensor_image\u001b[0m\u001b[0;34m.\u001b[0m\u001b[0mndim\u001b[0m\u001b[0;34m\u001b[0m\u001b[0;34m\u001b[0m\u001b[0m\n",
            "\u001b[0;31mNameError\u001b[0m: name 'torch' is not defined"
          ]
        }
      ]
    },
    {
      "cell_type": "markdown",
      "source": [
        "#Zeros and Ones Tensors"
      ],
      "metadata": {
        "id": "YnPGSYyb1tnH"
      }
    },
    {
      "cell_type": "code",
      "source": [
        "#create tensor of all zeros\n",
        "zeros=torch.zeros(size=(3,4))"
      ],
      "metadata": {
        "id": "LEIPTZcq1U6u"
      },
      "execution_count": null,
      "outputs": []
    },
    {
      "cell_type": "code",
      "source": [
        "zeros*torch.rand(3,4)"
      ],
      "metadata": {
        "colab": {
          "base_uri": "https://localhost:8080/"
        },
        "id": "z-5O8Dbx1zNX",
        "outputId": "93bc7cb1-cdd7-4e83-c4ab-f95e6377419c"
      },
      "execution_count": null,
      "outputs": [
        {
          "output_type": "execute_result",
          "data": {
            "text/plain": [
              "tensor([[0., 0., 0., 0.],\n",
              "        [0., 0., 0., 0.],\n",
              "        [0., 0., 0., 0.]])"
            ]
          },
          "metadata": {},
          "execution_count": 35
        }
      ]
    },
    {
      "cell_type": "code",
      "source": [
        "#Tensors of all ones\n",
        "ones=torch.ones(size=(3,4))\n",
        "ones"
      ],
      "metadata": {
        "colab": {
          "base_uri": "https://localhost:8080/"
        },
        "id": "mUMXZxhZ1zuc",
        "outputId": "4b439535-d8d8-4755-9aa6-e9a8c45660b7"
      },
      "execution_count": null,
      "outputs": [
        {
          "output_type": "execute_result",
          "data": {
            "text/plain": [
              "tensor([[1., 1., 1., 1.],\n",
              "        [1., 1., 1., 1.],\n",
              "        [1., 1., 1., 1.]])"
            ]
          },
          "metadata": {},
          "execution_count": 36
        }
      ]
    },
    {
      "cell_type": "code",
      "source": [
        "ones.dtype"
      ],
      "metadata": {
        "colab": {
          "base_uri": "https://localhost:8080/"
        },
        "id": "9fqTss-d13fC",
        "outputId": "796bb51e-1e04-438c-e9db-782943fda1a9"
      },
      "execution_count": null,
      "outputs": [
        {
          "output_type": "execute_result",
          "data": {
            "text/plain": [
              "torch.float32"
            ]
          },
          "metadata": {},
          "execution_count": 28
        }
      ]
    },
    {
      "cell_type": "code",
      "source": [
        "zeros.dtype"
      ],
      "metadata": {
        "colab": {
          "base_uri": "https://localhost:8080/"
        },
        "id": "IpuQaMKZ2KzI",
        "outputId": "8b834a4d-9b01-4a31-f4c0-b92b48480530"
      },
      "execution_count": null,
      "outputs": [
        {
          "output_type": "execute_result",
          "data": {
            "text/plain": [
              "torch.float32"
            ]
          },
          "metadata": {},
          "execution_count": 37
        }
      ]
    },
    {
      "cell_type": "markdown",
      "source": [
        "#tensor Range"
      ],
      "metadata": {
        "id": "gLSWxk_S2Zdm"
      }
    },
    {
      "cell_type": "code",
      "source": [
        "#create of range of tensors and tensors-like\n",
        "torch.arange(1,10)"
      ],
      "metadata": {
        "colab": {
          "base_uri": "https://localhost:8080/"
        },
        "id": "YyMnwbcv2NvA",
        "outputId": "f9ca0889-363b-4597-8bb2-230ba2a92a5b"
      },
      "execution_count": null,
      "outputs": [
        {
          "output_type": "execute_result",
          "data": {
            "text/plain": [
              "tensor([1, 2, 3, 4, 5, 6, 7, 8, 9])"
            ]
          },
          "metadata": {},
          "execution_count": 38
        }
      ]
    },
    {
      "cell_type": "code",
      "source": [
        "torch.range(1,10,2)"
      ],
      "metadata": {
        "colab": {
          "base_uri": "https://localhost:8080/"
        },
        "id": "fzx-6kep2qPM",
        "outputId": "5e087a06-934b-4875-b670-ffac8364c978"
      },
      "execution_count": null,
      "outputs": [
        {
          "output_type": "stream",
          "name": "stderr",
          "text": [
            "<ipython-input-39-404a9775ca29>:1: UserWarning: torch.range is deprecated and will be removed in a future release because its behavior is inconsistent with Python's range builtin. Instead, use torch.arange, which produces values in [start, end).\n",
            "  torch.range(1,10,2)\n"
          ]
        },
        {
          "output_type": "execute_result",
          "data": {
            "text/plain": [
              "tensor([1., 3., 5., 7., 9.])"
            ]
          },
          "metadata": {},
          "execution_count": 39
        }
      ]
    },
    {
      "cell_type": "code",
      "source": [
        "#create of range of tensors and tensors-like\n",
        "torch.arange(start=1,end=20,step=2)"
      ],
      "metadata": {
        "colab": {
          "base_uri": "https://localhost:8080/"
        },
        "id": "dzDPYPSg2uCH",
        "outputId": "b6926530-a372-48f0-866d-c5a2a35331e0"
      },
      "execution_count": null,
      "outputs": [
        {
          "output_type": "execute_result",
          "data": {
            "text/plain": [
              "tensor([ 1,  3,  5,  7,  9, 11, 13, 15, 17, 19])"
            ]
          },
          "metadata": {},
          "execution_count": 40
        }
      ]
    },
    {
      "cell_type": "code",
      "source": [
        "#createing tensors like shape of any existing tensor\n",
        "tensor_like=torch.zeros_like(input=torch.arange(start=1,end=20,step=2))\n",
        "tensor_like"
      ],
      "metadata": {
        "colab": {
          "base_uri": "https://localhost:8080/"
        },
        "id": "CCx3Z0xE3Txd",
        "outputId": "6ae1d4a3-7b47-43f7-8116-4363c2427dbd"
      },
      "execution_count": null,
      "outputs": [
        {
          "output_type": "execute_result",
          "data": {
            "text/plain": [
              "tensor([0, 0, 0, 0, 0, 0, 0, 0, 0, 0])"
            ]
          },
          "metadata": {},
          "execution_count": 41
        }
      ]
    },
    {
      "cell_type": "markdown",
      "source": [
        "#Tensor datatypes\n"
      ],
      "metadata": {
        "id": "u2DGF9_k49wV"
      }
    },
    {
      "cell_type": "code",
      "source": [
        "#float 32\n",
        "float_32_tensor=torch.tensor([3.0,4.0,7.0],dtype=None)\n",
        "float_32_tensor"
      ],
      "metadata": {
        "colab": {
          "base_uri": "https://localhost:8080/"
        },
        "id": "T3OaGajX38Kp",
        "outputId": "749e16a7-85fe-45d6-b3ff-ab07d714acab"
      },
      "execution_count": null,
      "outputs": [
        {
          "output_type": "execute_result",
          "data": {
            "text/plain": [
              "tensor([3., 4., 7.])"
            ]
          },
          "metadata": {},
          "execution_count": 42
        }
      ]
    },
    {
      "cell_type": "code",
      "source": [
        "float_32_tensor.dtype"
      ],
      "metadata": {
        "colab": {
          "base_uri": "https://localhost:8080/"
        },
        "id": "2AoyxgfM5ty_",
        "outputId": "96d62c14-11c0-41b4-f207-7022c314fcf0"
      },
      "execution_count": null,
      "outputs": [
        {
          "output_type": "execute_result",
          "data": {
            "text/plain": [
              "torch.float32"
            ]
          },
          "metadata": {},
          "execution_count": 43
        }
      ]
    },
    {
      "cell_type": "code",
      "source": [
        "#float 32\n",
        "float_32_tensor=torch.tensor([3.0,4.0,7.0],dtype=torch.float16)\n",
        "float_32_tensor"
      ],
      "metadata": {
        "colab": {
          "base_uri": "https://localhost:8080/"
        },
        "id": "WRo6NmVh5zZs",
        "outputId": "0f592abc-ed56-4fc6-811b-f00c3b9985fc"
      },
      "execution_count": null,
      "outputs": [
        {
          "output_type": "execute_result",
          "data": {
            "text/plain": [
              "tensor([3., 4., 7.], dtype=torch.float16)"
            ]
          },
          "metadata": {},
          "execution_count": 44
        }
      ]
    },
    {
      "cell_type": "code",
      "source": [
        "float_32_tensor.dtype"
      ],
      "metadata": {
        "colab": {
          "base_uri": "https://localhost:8080/"
        },
        "id": "1IXiqZ7i53w8",
        "outputId": "357f8671-216b-4df3-befb-ad2ef0e15d04"
      },
      "execution_count": null,
      "outputs": [
        {
          "output_type": "execute_result",
          "data": {
            "text/plain": [
              "torch.float16"
            ]
          },
          "metadata": {},
          "execution_count": 45
        }
      ]
    },
    {
      "cell_type": "markdown",
      "source": [
        "### Tensor Datatypes\n",
        "**Note:** Tensor datatype is one of the 3 big errors you will run into with pytorch and deep learning\n",
        "\n",
        "1- Tensors not right datatype\n",
        "\n",
        "2- Tensors not right shape\n",
        "\n",
        "3- Tensors not on the right device"
      ],
      "metadata": {
        "id": "yHMCXDEF7rbV"
      }
    },
    {
      "cell_type": "code",
      "source": [
        "#float 32\n",
        "float_32_tensor=torch.tensor([3.0,4.0,7.0],\n",
        "                             dtype=torch.float16, #datatype of tensor\n",
        "                             device=None, #by default its none Tensor that lives on cpu and gpu for gpu device is 'cuda'\n",
        "                             requires_grad=True) #if true operations performed on the tensors are recorded whether or not to track gradients on this tensor\n",
        "float_32_tensor"
      ],
      "metadata": {
        "colab": {
          "base_uri": "https://localhost:8080/"
        },
        "id": "J7FUcNaT5950",
        "outputId": "c3b216fe-2b06-4927-84e2-3e967816b6b9"
      },
      "execution_count": null,
      "outputs": [
        {
          "output_type": "execute_result",
          "data": {
            "text/plain": [
              "tensor([3., 4., 7.], dtype=torch.float16, requires_grad=True)"
            ]
          },
          "metadata": {},
          "execution_count": 46
        }
      ]
    },
    {
      "cell_type": "code",
      "source": [
        "#float 32\n",
        "float_32_tensor=torch.tensor([3.0,4.0,7.0],\n",
        "                             dtype=torch.float32,\n",
        "                             device=None,\n",
        "                             requires_grad=True)\n",
        "float_32_tensor"
      ],
      "metadata": {
        "colab": {
          "base_uri": "https://localhost:8080/"
        },
        "id": "wFcgbYOk6Gq8",
        "outputId": "c1e1e4ad-a2b3-4828-a3a1-fd1ed222177f"
      },
      "execution_count": null,
      "outputs": [
        {
          "output_type": "execute_result",
          "data": {
            "text/plain": [
              "tensor([3., 4., 7.], requires_grad=True)"
            ]
          },
          "metadata": {},
          "execution_count": 47
        }
      ]
    },
    {
      "cell_type": "markdown",
      "source": [
        "**device:**\n",
        "In your case: None\n",
        "\n",
        "Specifies where the tensor will be created — either on the\n",
        "CPU or GPU. If set to None, it defaults to the CPU. If you\n",
        "wanted to create the tensor on a GPU, you’d set it like torch.device('cuda').\n",
        "\n",
        "\n",
        "**requires_grad:**\n",
        "\n",
        "In your case: True\n",
        "\n",
        "This determines whether the tensor will track its gradient during operations. If True, PyTorch will track all operations on this tensor for automatic differentiation (useful for backpropagation in neural networks)."
      ],
      "metadata": {
        "id": "rv_wMsLj9QIX"
      }
    },
    {
      "cell_type": "code",
      "source": [
        "t1=torch.rand(size=(1,2),dtype=torch.float)\n",
        "print(t1.dtype)\n",
        "t2=t1.type(torch.int)\n",
        "print(t2.dtype)"
      ],
      "metadata": {
        "colab": {
          "base_uri": "https://localhost:8080/"
        },
        "id": "Oa0Enqa1fCo8",
        "outputId": "a523bf37-6430-43eb-d668-66d49d631952"
      },
      "execution_count": null,
      "outputs": [
        {
          "output_type": "stream",
          "name": "stdout",
          "text": [
            "torch.float32\n",
            "torch.int32\n"
          ]
        }
      ]
    },
    {
      "cell_type": "code",
      "source": [
        "float_16_tensor=float_32_tensor.type(torch.float16)\n",
        "float_16_tensor.dtype"
      ],
      "metadata": {
        "colab": {
          "base_uri": "https://localhost:8080/"
        },
        "id": "O9qbcVq16K0p",
        "outputId": "7014ef9f-dddb-4eb7-cb88-56970d4fdb96"
      },
      "execution_count": null,
      "outputs": [
        {
          "output_type": "execute_result",
          "data": {
            "text/plain": [
              "torch.float16"
            ]
          },
          "metadata": {},
          "execution_count": 51
        }
      ]
    },
    {
      "cell_type": "code",
      "source": [
        "float_int_tensor=torch.tensor([3,4,5],\n",
        "                              dtype=torch.int64,\n",
        "                              device=None,\n",
        "                              requires_grad=False)\n",
        "float_int_tensor"
      ],
      "metadata": {
        "colab": {
          "base_uri": "https://localhost:8080/"
        },
        "id": "0y5tEcUV-iZU",
        "outputId": "ba766604-2d7f-41b0-87f4-19f95326c9f4"
      },
      "execution_count": null,
      "outputs": [
        {
          "output_type": "execute_result",
          "data": {
            "text/plain": [
              "tensor([3, 4, 5])"
            ]
          },
          "metadata": {},
          "execution_count": 52
        }
      ]
    },
    {
      "cell_type": "code",
      "source": [
        "float_32_tensor * float_int_tensor"
      ],
      "metadata": {
        "colab": {
          "base_uri": "https://localhost:8080/"
        },
        "id": "qvmDgDTvAQHs",
        "outputId": "b14235bd-fb3e-440a-c2d9-74515a65156c"
      },
      "execution_count": null,
      "outputs": [
        {
          "output_type": "execute_result",
          "data": {
            "text/plain": [
              "tensor([ 9., 16., 35.], grad_fn=<MulBackward0>)"
            ]
          },
          "metadata": {},
          "execution_count": 53
        }
      ]
    },
    {
      "cell_type": "markdown",
      "source": [
        "#getting information from tensor\n",
        "\n",
        "tensor.shape\n",
        "\n",
        "tensor.dtype\n",
        "\n",
        "tensor.device"
      ],
      "metadata": {
        "id": "vvRQJx4LA4Cz"
      }
    },
    {
      "cell_type": "code",
      "source": [
        "#create tensor\n",
        "some_tensor=torch.rand(3,4)\n",
        "some_tensor"
      ],
      "metadata": {
        "colab": {
          "base_uri": "https://localhost:8080/"
        },
        "id": "5sIhUYgCAiX8",
        "outputId": "3d17028b-099b-4792-fa27-13e9da2b5b3b"
      },
      "execution_count": null,
      "outputs": [
        {
          "output_type": "execute_result",
          "data": {
            "text/plain": [
              "tensor([[0.1842, 0.7577, 0.1245, 0.9671],\n",
              "        [0.8592, 0.5970, 0.4457, 0.2820],\n",
              "        [0.9195, 0.6636, 0.6198, 0.1607]])"
            ]
          },
          "metadata": {},
          "execution_count": 54
        }
      ]
    },
    {
      "cell_type": "code",
      "source": [
        "print(f\"data type of tensor {some_tensor.dtype}\\n\")\n",
        "print(f\"shape of tensor {some_tensor.shape}\\n\")\n",
        "print(f\"device of tensor {some_tensor.device}\")"
      ],
      "metadata": {
        "colab": {
          "base_uri": "https://localhost:8080/"
        },
        "id": "EjYLlOVHBQax",
        "outputId": "e3aae6e8-4cfb-48b8-c4f7-4eafdc425e44"
      },
      "execution_count": null,
      "outputs": [
        {
          "output_type": "stream",
          "name": "stdout",
          "text": [
            "data type of tensor torch.float32\n",
            "\n",
            "shape of tensor torch.Size([3, 4])\n",
            "\n",
            "device of tensor cpu\n"
          ]
        }
      ]
    },
    {
      "cell_type": "code",
      "source": [
        "some_tensor.size()"
      ],
      "metadata": {
        "colab": {
          "base_uri": "https://localhost:8080/"
        },
        "id": "faIzkCOeBXhW",
        "outputId": "f39aa2b8-73b7-494a-ee95-198964a32e66"
      },
      "execution_count": null,
      "outputs": [
        {
          "output_type": "execute_result",
          "data": {
            "text/plain": [
              "torch.Size([3, 4])"
            ]
          },
          "metadata": {},
          "execution_count": 55
        }
      ]
    },
    {
      "cell_type": "markdown",
      "source": [
        "#2:10:24"
      ],
      "metadata": {
        "id": "pcKkryuvB-qr"
      }
    },
    {
      "cell_type": "markdown",
      "source": [
        "#Manipulating Tensors\n",
        "\n",
        "Tensors Operations:\n",
        "\n",
        "Addition\n",
        "\n",
        "Subtraction\n",
        "\n",
        "Multiplication\n",
        "\n",
        "Devision\n",
        "\n",
        "Matrix Multiplication\n"
      ],
      "metadata": {
        "id": "1JQWRfULQYYn"
      }
    },
    {
      "cell_type": "code",
      "source": [
        "tm1=torch.tensor([[2,4,7],[6,7,8]])\n",
        "tm1+10\n"
      ],
      "metadata": {
        "id": "vwr0PwDnCApr",
        "colab": {
          "base_uri": "https://localhost:8080/"
        },
        "outputId": "c9d8c416-6642-4940-b71a-5248cd12f8f4"
      },
      "execution_count": null,
      "outputs": [
        {
          "output_type": "execute_result",
          "data": {
            "text/plain": [
              "tensor([[12, 14, 17],\n",
              "        [16, 17, 18]])"
            ]
          },
          "metadata": {},
          "execution_count": 56
        }
      ]
    },
    {
      "cell_type": "code",
      "source": [
        "tm2=torch.tensor([[2,4,7],[6,7,8]])\n",
        "tm2*10"
      ],
      "metadata": {
        "colab": {
          "base_uri": "https://localhost:8080/"
        },
        "id": "jClaOKhGQudh",
        "outputId": "c22ad078-e6d1-46da-91b4-cb7a0e52e5a3"
      },
      "execution_count": null,
      "outputs": [
        {
          "output_type": "execute_result",
          "data": {
            "text/plain": [
              "tensor([[20, 40, 70],\n",
              "        [60, 70, 80]])"
            ]
          },
          "metadata": {},
          "execution_count": 57
        }
      ]
    },
    {
      "cell_type": "code",
      "source": [
        "tm1+tm2"
      ],
      "metadata": {
        "colab": {
          "base_uri": "https://localhost:8080/"
        },
        "id": "jWZ0lLQURE3g",
        "outputId": "35a983ad-70ff-4711-d5f2-32c7b6cbf4db"
      },
      "execution_count": null,
      "outputs": [
        {
          "output_type": "execute_result",
          "data": {
            "text/plain": [
              "tensor([[ 4,  8, 14],\n",
              "        [12, 14, 16]])"
            ]
          },
          "metadata": {},
          "execution_count": 58
        }
      ]
    },
    {
      "cell_type": "code",
      "source": [
        "tm1*tm2"
      ],
      "metadata": {
        "colab": {
          "base_uri": "https://localhost:8080/"
        },
        "id": "zMruHRnTRGZH",
        "outputId": "e0aa5133-ae00-4a67-c19d-6f9abdde1aab"
      },
      "execution_count": null,
      "outputs": [
        {
          "output_type": "execute_result",
          "data": {
            "text/plain": [
              "tensor([[ 4, 16, 49],\n",
              "        [36, 49, 64]])"
            ]
          },
          "metadata": {},
          "execution_count": 59
        }
      ]
    },
    {
      "cell_type": "code",
      "source": [
        "tm1-tm2"
      ],
      "metadata": {
        "colab": {
          "base_uri": "https://localhost:8080/"
        },
        "id": "eCSaVmEgRIAI",
        "outputId": "222a53e9-6ac3-413b-a48c-9e87ffa8db15"
      },
      "execution_count": null,
      "outputs": [
        {
          "output_type": "execute_result",
          "data": {
            "text/plain": [
              "tensor([[0, 0, 0],\n",
              "        [0, 0, 0]])"
            ]
          },
          "metadata": {},
          "execution_count": 60
        }
      ]
    },
    {
      "cell_type": "code",
      "source": [
        "#tryout pytroch inbuilt functions\n",
        "torch.mul(tm1,10)"
      ],
      "metadata": {
        "colab": {
          "base_uri": "https://localhost:8080/"
        },
        "id": "n_QMdN5tTvp2",
        "outputId": "523e8b97-cbe4-4d89-d40f-75fd168d3a51"
      },
      "execution_count": null,
      "outputs": [
        {
          "output_type": "execute_result",
          "data": {
            "text/plain": [
              "tensor([[20, 40, 70],\n",
              "        [60, 70, 80]])"
            ]
          },
          "metadata": {},
          "execution_count": 61
        }
      ]
    },
    {
      "cell_type": "code",
      "source": [
        "torch.sub(tm1,tm2)"
      ],
      "metadata": {
        "colab": {
          "base_uri": "https://localhost:8080/"
        },
        "id": "5wed11mIT2VI",
        "outputId": "91de1ca4-bc95-47db-f497-693ffbade21d"
      },
      "execution_count": null,
      "outputs": [
        {
          "output_type": "execute_result",
          "data": {
            "text/plain": [
              "tensor([[0, 0, 0],\n",
              "        [0, 0, 0]])"
            ]
          },
          "metadata": {},
          "execution_count": 62
        }
      ]
    },
    {
      "cell_type": "code",
      "source": [
        "torch.divide(tm1,2)"
      ],
      "metadata": {
        "colab": {
          "base_uri": "https://localhost:8080/"
        },
        "id": "ItGP4sfpT4IC",
        "outputId": "a017c494-8008-4cc2-a2c7-98e0e4afb492"
      },
      "execution_count": null,
      "outputs": [
        {
          "output_type": "execute_result",
          "data": {
            "text/plain": [
              "tensor([[1.0000, 2.0000, 3.5000],\n",
              "        [3.0000, 3.5000, 4.0000]])"
            ]
          },
          "metadata": {},
          "execution_count": 63
        }
      ]
    },
    {
      "cell_type": "code",
      "source": [
        "torch.multiply(tm1,tm2)"
      ],
      "metadata": {
        "colab": {
          "base_uri": "https://localhost:8080/"
        },
        "id": "T7b5hNyLT-ZG",
        "outputId": "5302ed57-f38a-48a9-a049-53154208c611"
      },
      "execution_count": null,
      "outputs": [
        {
          "output_type": "execute_result",
          "data": {
            "text/plain": [
              "tensor([[ 4, 16, 49],\n",
              "        [36, 49, 64]])"
            ]
          },
          "metadata": {},
          "execution_count": 64
        }
      ]
    },
    {
      "cell_type": "markdown",
      "source": [
        "#matrix multiplication\n",
        "two wayst to multiply\n",
        "\n",
        "element wise multiplication\n",
        "\n",
        "matrix multiplication (dot product)"
      ],
      "metadata": {
        "id": "0c7eIOvfUm5G"
      }
    },
    {
      "cell_type": "code",
      "source": [
        "##Element Wise\n",
        "tm1*tm2"
      ],
      "metadata": {
        "colab": {
          "base_uri": "https://localhost:8080/"
        },
        "id": "OfnngSWTUQq0",
        "outputId": "3c27f7b0-059e-4aec-e4b4-5bc038db98ab"
      },
      "execution_count": null,
      "outputs": [
        {
          "output_type": "execute_result",
          "data": {
            "text/plain": [
              "tensor([[ 4, 16, 49],\n",
              "        [36, 49, 64]])"
            ]
          },
          "metadata": {},
          "execution_count": 65
        }
      ]
    },
    {
      "cell_type": "code",
      "source": [
        "#matrix wise\n",
        "ten1=torch.rand(2)\n",
        "ten2=torch.rand(2)"
      ],
      "metadata": {
        "id": "aW92Z3kEVPzg"
      },
      "execution_count": null,
      "outputs": []
    },
    {
      "cell_type": "code",
      "source": [
        "torch.matmul(ten1,ten2)"
      ],
      "metadata": {
        "colab": {
          "base_uri": "https://localhost:8080/"
        },
        "id": "XlpofXJ1VU4u",
        "outputId": "b3be4826-07f5-4fac-9376-3923c5beef91"
      },
      "execution_count": null,
      "outputs": [
        {
          "output_type": "execute_result",
          "data": {
            "text/plain": [
              "tensor(0.9558)"
            ]
          },
          "metadata": {},
          "execution_count": 67
        }
      ]
    },
    {
      "cell_type": "code",
      "source": [
        "%%time\n",
        "torch.matmul(ten1,ten2)"
      ],
      "metadata": {
        "colab": {
          "base_uri": "https://localhost:8080/"
        },
        "id": "1KYSjQwzVe51",
        "outputId": "2e4520e8-f253-4135-8657-7ac003fa055b"
      },
      "execution_count": null,
      "outputs": [
        {
          "output_type": "stream",
          "name": "stdout",
          "text": [
            "CPU times: user 481 µs, sys: 0 ns, total: 481 µs\n",
            "Wall time: 427 µs\n"
          ]
        },
        {
          "output_type": "execute_result",
          "data": {
            "text/plain": [
              "tensor(0.9558)"
            ]
          },
          "metadata": {},
          "execution_count": 68
        }
      ]
    },
    {
      "cell_type": "code",
      "source": [
        "%%time\n",
        "torch.matmul(ten1,ten2)"
      ],
      "metadata": {
        "colab": {
          "base_uri": "https://localhost:8080/"
        },
        "id": "99UdEcIAhqRs",
        "outputId": "bf654b1f-5a69-4394-9b12-8d0d695732de"
      },
      "execution_count": null,
      "outputs": [
        {
          "output_type": "stream",
          "name": "stdout",
          "text": [
            "CPU times: user 86 µs, sys: 5 µs, total: 91 µs\n",
            "Wall time: 95.1 µs\n"
          ]
        },
        {
          "output_type": "execute_result",
          "data": {
            "text/plain": [
              "tensor(0.9558)"
            ]
          },
          "metadata": {},
          "execution_count": 70
        }
      ]
    },
    {
      "cell_type": "markdown",
      "source": [
        "#Commong errors in deepLearning is shape errors\n"
      ],
      "metadata": {
        "id": "xvJbEngQYg6Q"
      }
    },
    {
      "cell_type": "markdown",
      "source": [
        "![image.png](data:image/png;base64,iVBORw0KGgoAAAANSUhEUgAAAqcAAAEgCAYAAACJuNr5AAAAAXNSR0IArs4c6QAAAARnQU1BAACxjwv8YQUAAAAJcEhZcwAADsMAAA7DAcdvqGQAANvTSURBVHhe7N0FmC5JkT38GgbXwd3dbXDXwV0XZ3Ff3BYWXxwWd7fBGdwdZnB3txF8DAb5f/xyOXeD+t63u6923ztxniefysqMjIiMzKo8lVVv927/7x+YZvj73/8+7bbbbtPvfve76W1ve9t0nOMcZ7re9a43He1oR5uIqzviiCOmffbZZzr00ENH3R577DHa/eY3v5ne9773Tcc//vGnq1zlKqPNUY5ylOlXv/rV9MlPfnL6zne+M+ROc5rTTJe5zGWms5zlLNPf/va3ab/99pu++c1vTle96lWnM5zhDKOM3O677z4deOCBo17b3//+99NJT3rS6ZKXvOR0/vOff5N+8mT5J/HjE5/4xPT1r399nJ/nPOeZTn3qU0/f+MY3plOe8pTT5S9/+emXv/zl9PGPf3w617nONV3sYhcb9v76178OfX/+85+nL3/5yyP9+te/no5xjGNMF7jABaZLXOISo6/VXmImffvb357e+973Tocccsh0xStecfTxL3/5y/THP/5x+tjHPjYd+9jHni53uctNxzrWsUb5AQccMH3qU58afb74xS8+dNDpGB+++MUvjn4f73jHmy560YuOfh/3uMcd41DtZ8zE2fiIP1/1af/99x/2T37yk4++66Py7373u9O+++47ne9855sudKELDZ9+/OMfj7j87Gc/m0584hNPF7zgBafDDjts+v73vz/6xFdtvvWtbw0bpz/96Ue/P/e5zw3fLnKRiwx/Dj/88FGWdmc605lGOdvp589//vPpIx/5yHTa0552+BWoFxvj/rWvfW2UnfWsZ51OdrKTjTb8Nabf+973pq9+9atDN/+j96c//en02c9+dvRFXPgo7qc73enG2ImPtmToO+Yxjzl0mAdk61yqcRbfT3/609NXvvKV4ctee+01roHPf/7z03nPe97Rf/rF1lxjY8899xy+H3zwwaPdF77whTGn9Pmc5zzndNBBB01/+tOfpitc4QpDp7nypS99acTOvBNjcvoG/HE9Pe95zxvxueUtbzn6o8/GVxz4YY4B310PfGTfuLCjr+c+97mHDWOk/sxnPvMoT98l48wfMadXGR/MFTb58MMf/nCUi6HxN0eOetSjDrvq+XepS11qOslJTjL68Yc//OFfys0z7c058XWNX/rSlx7jknnqWjjb2c42rkPn/D3jGc84rhtzxZx0r3JvcK3Qxy92xNo46Ktrky52+EEHP51f97rXnW51q1uN8TdPA3LGQ+zcA/gHv/jFL8YcYk8/XN/8da8Sa+NuPMwJMabDfCPvviMWbJs75zjHOTb11b3LXDNnlZsz4m1sjB0khuaV+4L7hRic8IQnHOeO4uu+6hox95W7N4uNxC/ja64aO2MsRuaj+457pHgbTzFhkw31fDnVqU415r948sV96hSnOMW4htwz+OD+4WhekzFuxvtKV7rSuH+LCZ+Mj3PxdH3Qbzyf9axnDf+tDerF70QnOtHoC3/JiJsY/eAHPxj2xEy82bPW0G0u6a85qw+uTWNM3pjyybzWH7r4aa6Ii/ljrI0vWX3UV/rjP//MeefG6MIXvvC4Bul0//3MZz4zxpav5kXipw2b6o2hcvoh14PrxnV1ghOcYJQDvcZBvXHSjq9HOcru//D74DGH2FKub+YaP/TN/fqQQw79x5w47Zi3/Nl996P+Q+c0fLFuGlPy4uu633PPi/xjHPcYMTMXzat9993vH9fe/mNNde9wHbo29F1MzBfziE3x4r/5JObGUN/1A8xHPjr/0Y9+NNYFR/2+7GUvO/S5VxoXts0vY+v6Z5suqV63QG/GXL/FWDzNH9eg/pnbP/nJT8YYmENHP/rRR9z44x7CX+uN+WdeWUutLe5R7jf6p+/Wez6JO33mh3uB6zBrvFjTD+kLW+5tfDem+mGeP/zhDx9z5N73vveIsb7w1Rxz3ZqL6XviuKtgITmtUK3TmTTgmGYpUz+fFMG8LjrBzSJ10Zs6+ZwvsqOtcue1vOarvpWQNrEJ0bES1qp/kdxKbePHIh9q3bLYOsJafAuq3s1BbAZzPfP6IL47Rj6+p03OYZGOinm7tSJtgtgL4kPVPW8TrFQeLKqHuY2UBeY7qLNovPCFLxwLyCMe8Yhxw1fv5qk+MXUjk4dF4xr92tQ8VNuLdGT8Ih9oJy2yB+rmbYK0TT0b8nO7Fepqu0X+gHILpIUKOURKwcPvy172srGY//u///t0rWtda8iKXXRVnyrm5bEF1e6yWFVU+Ypl5SuhtpFP27muWhcoS/lqcjAvr1hJZlGdsiTxQtyf+9znjoX4rne961j8YTWb6hcdl41D5lkwr6+IvjmUQ+qc17J5GzZTX32K/rm+YF4PcxmIXPK177UO6joMy/TlqD56IPLOU1/rUh9EpiJtYVEbhI+P1U/QZt43SF5apA/CIZbVV1S9FdFfkXgu0rlMD9S6t7/97dMLXvCC6WY3u9nYAPRgpHyZ3l0Nu//XP/DP/ELMJ0SC4iiQGdzUK8tFV9uQqxejc/m6AChzHiivddpHF7/IsqE8iLyy2JAnL68M0s4TYPUV6FCmTeSjA+ayFeSkIPWOyumtZdWnqiv5qs+RrLoa2znIkCVT9SzyX7kYxEbtt7ykLnn6JGXxm77oj2/Vbm1X4Vzdsj5FZ2ynXxIssytVueSlWq+dY3Snz1UPJJ/z+BFoU3WnrMopl69lOScL87hJ0Smpjy27ZXYC7OZ4evdUbRwTE/L1Wqr+1Hz0yisD56AOyEvKpfgjpV3VG1n11VaF8oxtBbnoqvZjB+JfdFa5tEtZ2qWtXQ9k541vfOPYhbEz86Y3vWm87bBzcc1rXnPTrmj6AI7pR9UPyqtdiVyVTVlkk69ytV8SuWBR36C2jw0J6IutKlPby0e3lLLI1L7BXB/Iz/uVvkHtV+RiC5RHFiIHdpHsZmUH19uv6Jf4EP0pg2oT0ieJjPLqb/Q4Ko9M6pOHeX9SXts6Rh9ETnlkIGsYpC7naVv1z4+SNnOZlEmRk5zHP8fksw5XGcfIVT3xL22rzFxOXcqTJwuRC3IuRV4K+Jj2VZd8/IfoSB7IVp3xl4/pzyLdaQPk6JuXK5ufRy76qs7Up52ywHnenHhgtsN64xvfeOzc01Fjn/tndO1qWHHnVKBgWedTn4AFUbmozWp1KwW5urqSXMVK9mAt9VVmLXbFRZtM5tVAdiW5zfWhys7z87bRXctrO0jdXFfaLaoPFsnNsahdxVxH8sFK7VMHy+qrvkUyi1BtVh1pv6gsmNfJwyK5lMnnegOvkF7+8peP17H3ve99x8LtZpWd07muYG67YpEfkV1UF6Rukd5cCzC/HpTP20Teeb2vLJJ1DvU8MjmXTzndXln6jAYh9YrPTd5rPa/4LAJeE+cVWfQEdMDWlMcXiI1FcvN7SNqlTTAvl4cqA8vaB4vaLWuT8kXjA5HPecUiGSnn4Fz/nfu0wSJtrG5961uPV6iRrW2gtuNbtVURm9IiPZB6mNfV87metIHVdC6qh1q+kr5gUTtYqbzWraRXWiazSE89D6ocLNM3R9rN5au+teqCtbSby4DzubyyzZlrMNcBtR7cw83317/+9WOn9Pa3v/34rMtnfJD2aRf7uyJWJKfp/M6AdKP6W7umfH6+K8IFk8la+5uxTBxStywOu2p8dgUYOztKdk19d2U3yTd9Gd9ticybjYw6nysWxYMcQor0IPi+P/Mtm28E8x33onaNLUcdn3lsazk4l8/R2wDf3vnW17d3vlms7SH6lc/rIHWNxkaGtVvyzatPj7wN8w1xvlsGc3mOXXVur/rN6c6KebcM4KKyXRl5sqt9l6/lje0HMd8RMUa22LLjt62xrfuwPa5BOud+LtNr7sN8tyELQ3092Ng61DGpY7RaWfJzLKtTDiu1g2X1jcZGhbmbeX9km79NTo+EyGQ/smBH9HeRjW1pN3M3+pxXUro9+je3uaXYlnHYXKQP1Qck1Hke0kJU5ZMa2waL5lDKgmV1KVeW8vlDhfJ5e+eRr3WNxs4Av+wHc3dX/BX+WrFDyCkTuWkswryu5he5t9bBStvIz/1Yq55dDTUGi+K7COR21m9ban+3B+jfnvFZ5H/KHGF79G976l4J28NudEJil/jNSWpj2yGxrlhpfBfJByu1azR2dmTur3QNHJmwy+6cNhrBrn6x981s89Dx2jnR49ZoHHnQ5LTRaDQajUajsWHQ77EajUaj0Wg0GhsGTU4bjUaj0Wg0GhsGTU4bjUaj0Wg0GhsGTU4bjUaj0Wg0GhsGTU4bjUaj0Wg0GhsGTU4bjUaj0Wg0GhsGTU4bjUaj0Wg0GhsGTU4bjUaj0Wg0GhsGRwpymv8z4FjTtsIi/bs6/MtHqXHkwmrze73m/9yufP6H/mr+rFbfaDQajR2LnZKcLltwli0y+Zd3jjW/rTDXtS11ryfmcZ6T0V2ln+uJZXMWVqpbD2Q+JM2xrHxrEH2LdKesltcy8zNpjtqm0Wg0GhsLO+W/L0WS6qJTuzBfiObdW7RQbS1C2o5ylP/l+mxuDzs7GrUf8ol7+tn4V8zjBZs7D7a03Y7A3Lcd4Wti6pjkPDbntlNfsais0Wg0GhsXO5ScVlPJ10VjSxaQqnPevpJGcqmv+a1B1VNtzcnqzohF4wPbKnYbAdu6L4lZxebo1z4+bcQYz+NV+1vrUr618z96ltlcLUa5DslJ1ceg6oPVdDYajUZj+2PdyClYCCwgf/3rX0c+JNIxi8SyxSK6tJciV21UHVXnImi3Uv0i1DbxQ5l01KMedaclp/NYODdGsPvuu4+6zY3VekMfMkbGZbX5sCVgY47NsaF9dKxHjMUGNmfeJq6QmKYfWzL/03+IrmCleMRm4va3v/1tlMeH6Ek91Da1baPRaDTWF+v2Wp9ZC4h0jGMc45+l/4ssdssWiywkmwvt/vKXvwyCJVVsqc5l2Nb6dhT4Lf7Vf7EKqQN5ZPVoRzvaOCe3kfs79805bC9/ox/mdnO+reO1LfQZV9ejcc71sbl6t9QP7STI9V/Jbs6TT7k0J6CgH/SYo2v1R/st8b3RaDQa2xbrQk6ZzCIoyR9wwAHT8Y9//Om4xz3ukKkL1DKQ+cMf/jD98Y9/nI5+9KNPRxxxxNBFv8XVwoREOT/5yU8+ff3rX5/e+c53Tle96lWnS17ykoOo1sWL3KLFSbkUX9itfqmj65vf/Ob0jW98Yzr72c8+nf/85x8+zP2vuhxXWgw3R3ZrQb9+iZc4ve1tbxt2r3GNa4y+6Nt3v/vd6SxnOct0gQtcYJNPc5IfqMsxMUhZ4udcn7akX9qmPcx1pC7z6E9/+tMYmx/+8IfTec973ulsZzvb2N1ehvi6Jb5B/Es/az5YpFt94qM+8stka3mVndfBvL7KzGWh1qdt1VGPQdrog3ztR4417zgvr3pyHigPqmzFwQcfPH3iE5+YfvzjH09XvOIVp3Oc4xyjfC26Go1Go7H+2P2//oF/5ncYsugceuih05e//OXpDW94w/SOd7xjOsEJTjCd8Yxn/JdXyIuAgCKDSOnzn//86QlPeMK0zz77DEIl0SW9+c1vHslCRe/Pf/7zIX/uc597EBRkNr4EIQYhuSmri2XyqZP/5S9/Of33f//39PKXv3z69a9/PV30ohedjne8423SQ4ZsEF2gnpyUc3DOF4gdSb3z6EtZ7KR9yqpcReQg9sX1s5/97PS85z1v+ta3vjWd73znm050ohNNT3nKU6YXv/jFo29ip8w4Vb9qHwLlsR+ikiOoi59B6lKeOsdqby6XfHRWG4i18XnNa14zfLzQhS40HetYx9rkL3n56Jnrr37mXIK5XFDPzWXnVa86sYicY81Dxj/n0ec4jzVEDqIvefLVjsSX+GDsja+kzBsN9ZGt41aR+jki6yixXZOy+BS5qgfJ/NWvfjUeLPgS+xI4moN0pA90aed+8LGPfWzM39Oc5jTjWk+bitV8bzQajcaOx79u6+0AWEwOOeSQ6V3vetd0pzvdabrXve41COPHP/7xsQhZKCw2y4gpWIjseCIX5zznOaerXOUq0+Uud7mRtLOgXfCCF5z22muvUWaX9GQnO9nYXUUYLTzs0EFXFjjlIRFZsNRLyucLoWQxjL8WUOmEJzzh2JVTr5w8OXmoi6pUbUUfGToWLb7K5MmkjZR85HIEsnOkjP6010Y69rGPPXay8+2sfom3nW15iH2gQ/8S02o35ymD+J/4JDZzOSCnTJvYq2MmySMgkZHIpEw/9Mn46wM/lUsQHxyVxR6kD45pExuRq4ldsvTFN+XyIK+d+rRRl34n5soRRvqgyqlPzGIj5bHjGPnkQbvY0O7Pf/7zsIHUeah73OMeNx4atYvttAV+aCepj9/ykQf604/4ELs5Nw6ZM9EZ2Ol++tOfPnziI0QXOXn6tE+dBK5185VeMs7Z0y7+OlcP2tU+NhqNRmP9sMN2TrNoWBgsYG95y1vGbtYNbnCDaY899hiv56985SuPHU6yWTQWLRjKJIsScnqFK1xhkFC7YQcddNDYxXz4wx8+3fCGNxx1F7/4xafjHOc4YycQCUZW7f4hw4cddtimBdLCxW5sWsSRA3IWOAliH8jzF/Hx+vsyl7nM6McpTnGK0df0l375ww8/fBAm59HDRhbbLKJ2lZU5ryQkuhyj65jHPOa/LLIWcraUSfwni1RmHKD2gT7khK2f/OQn04c//OFRL1bi6jW4V6RXutKVptOe9rRDP/8COtiQ4jNbbNf4Kas+yGvDZzrIOCqv8VPGH7L0iUHKJPacp6+gv9FlV96Y64M5ceITn3jIaKe9OGoL8QHUsa+Onowbef3P2EBirlws9UkbJCnQNsfkM/4h/WxpS3cSGf2S50NFiFviwSYd5nb6oSz94rs2ZJXxGzw0esvwta99bTzcuRah6pXI80cZX5yzpS6+iZk3G/xQn36QgcwFfarjpSzzCjl93/veN+4PF7nIRUZ7viSRc53oT/QDm5/73OfGPL7EJS4xdk7ZiH/ayseWI39An6RGo9ForB926DenFqmY84odibE799KXvnR65StfOT3+8Y8fxM5ik4V6NdBnIbRYSk972tOmD3zgA+O1NDKCJFh4LDhvfetbR/1NbnKTQSY/+clPDh1e/V33utedznWuc41Fm20k1/epZCy8pz71qTftxFrg2LUYZnH7zW9+M73uda+bvv/9749v3G52s5tNX/nKV6Y3velNY7fuwhe+8PSjH/1o+s53vjPae+1/rWtda+yy7rfffuPTBj7tueeeIzba8gOxvt71rjfk9BOB+NSnPjV95CMfGa9fER9+2z0+61nPOvxA/LU/wxnOMEhZyMZtb3vbYTvEQhIfffzQhz40/fa3v51OdapTjXK7VWQf9rCHTZe//OWHf9/73vfG97TXvva1B/F41ateNeJ1nvOcZyz+X/ziF8fYiScSq69Irvjx5ZrXvOboH/1i5vtPY2WXThxPecpTThe72MWGPXNDe31BQBB/epAObcXzOte5zhgXNn/xi19M73//+4cP5MTLt7Hm0+lPf/oR07333nscEW7f0iL1vnVGyOj9/e9/P/oc/31fq38+czAXjIe+2pn3Xa72yI9xNI/54QFILPnOT33i62Uve9nxKYRrgI3MGzb5bd4g/T/4wQ9G3rhe6lKXGvrF54Mf/OCIAxl98hDEvm+BEThE0vw0h4wFnz/zmc8MObYRNvNPvL/whS+MOXCmM51pxJp//DbG+mVO0CdOYnzmM595+AqIHT3iQSeS/6UvfWnaf//9x9wxD8XbuJtX+up6uNrVrjYecoy9eWzs+c0XehBIfprv+ula9SBJr51uPpo/4iHOYqIvHnD5ZH74lty1IKYvfOELp09/+tOjzHwQJ3NCTF3DJznJSabf/e53wwfz3nzQT/6F5DYajUZjfbDDvzm1kFgAkCaLq4XKIopMWVwtEJDFkOwiqE+CLHp0WfgQKD+CCtRb+BGBb3/722NhUm8hs5Ba0BEjpAjBe85znjO+H0U67IJ+9atfHXIWYASNXX0BhANZQ7It2nTYndMn32myh1DyzWKK5NkVsrDb+VX3spe9bNiIHIJCzqJ60pOedHwnyway+6QnPWlTP+m2wCMMdLGNJPvmTh05xANJsiiHqPPdov2e97xnfIuJzNCHnJDXJ+ODLIgT/xBWBO3Sl770IHXPfvazB6mTkGX2+KFv7IqFvB+mIMgIv34gCfr65Cc/eXr1q189+ok0ktEXhAbJoO8lL3nJ0L/vvvsOsiJ+bPBRX5Hun/3sZ9OznvWsQZbpOvDAA0e9PtlFt+uLZCIsxtAnHkiyeLL/3Oc+dzwgaCshPnQignbtkBxyiC+dxijjaHdOf9jgu29z9Vs522kDxgfpDPkxDuYaecRQf8WdjPFnB/ETFzExHvQZI2Sff+KIdGtj/pLTV/EyB8ggbvS94AUvGONtPukXfxFz5M88F1excy2QQV7Ndf0Dvkli49tdn+boo/4gjMYJIXVEzs1vRFP/6XVtK3NdeF2PcLu2kHZ91F95RFX8PHC4PhFuZJkv2vuW9JnPfOaYWx5O4POf//wYD3HRH33jizmdB07XkrjoK11ib07zVYzY1b/coxqNRqOxPtih5NQNPzd/RzsmyrIA2xGyINpVIrPSIqFcIoMoIqbahdiFnIa8gkUIibJr+eAHP3i61a1uNXaHLIKIgcXd4mjnC8Gj41GPetTYVbELGxJo98UCaPcJ+GG3ySKMgNnBtCP105/+dCzUSJSyO9zhDmMHyM4bcoxQsG93CAECiyQ5R3IIVHaOLL4WZYsqgniXu9xl7OTxny12LLr8sLhb1E93utMNUqrPCF99fYkQIs8Wbf7d5ja3GQ8ICAEyYcfXTpWdMHFFSO2C6Vt2cC38SMftbne7Qcjt5uobsmLXzm6tfrKlzPgaF2QPUUL2b37zm083vvGNx1iJr1gicoBgiLN+3frWtx590X929Ff/jd1rX/vaYUcf7ne/+w3yJQb8ZBPZQm71TWwlfUJ++eV1P/1IkHb8oB+ZlkdexcxurD7ZXdVPu27IjtjSj7Cxd+9733u6xS1uMea4hyJx0idkEfQ11wCSJba3vOUtp/vf//5jhxDpQrB97sIv5XYl9REh1T87kcYeMaPXq28+uw74bL6bt+witea1HWFz2k6m2CNvrh3n5rU+ie0d73jH4X+Iaa41ia9IHrJ8z3vec3w3buzNN9cI3x7wgAdMd7/73YdOY6Av5gkC6JrQZ7uyD3rQg8YRqVTmgckY08e2hwDXCBvam+eIvLgou8c97jHigny6hvhnTiDArhdvRPjibYmYmuvibhydG0djb/6Lnfbpb6PRaDTWB/97J97ByK6jxQCy8Fk0AmVSFvFaN4e2WVTIRx/Ih5CBb0+9PrRoW5SRUYsekmDHSLLY24HyShAZsBAiLQiihdviDLEFCAGSg0jxNb7Ta+G86U1vOt3+9rcfi6TFk5xdJaSFrHOLPUKMYF3/+tcfRFB7CzYfEHhkBLnzKtmnA0id3UP2EUCydrJCGh/60IdOj33sY8ciHeIi6bt+2NVkF5G8853vPPxkm6z+gH6Q54sy7UE/xVk8EWokQ1zJI5MIDv+QB0RXW/4h8EiCtsgBcsq/PFAg5SFNxkN86PADOjbserKtj/TRk91IbezKs+sTjkc+8pGDOJLXp/SFXoQJuUQmETFxRxARKn1Ub5fQ+GmPdNGrXze60Y0G6SOXecOHzDvlHgwQKJ+YIJcImL5kzvCFXmNvRxBhNh+Nh7HzUIA02b0WP4mv5jASaTyArYxJINbq9RX0gT1zxG6nWHgY9Jcu9Fvf+K/c9SLPt7QH5+w46iffXBOuFTE35sgn0qwv7CGYfCbPH/rNNbv1Ys1Pc5pNOhBZiR1x0S5jJnmQk1xD2SkWD6T73/7t38YONnkQfw9x5hTwA4k3Z8wdbfnr2s4Yp22j0Wg01g87nJxmYa5IWX3lnEU+53VBXwT16lKfowUtJCt6QlJSLl8XQeTIDo1NZQTQriBi6TUpcmpxhOiTLOaOWbyD2EMsLIhgIZRHaCqp0H8LLdAnn0WavB1DbRAqr9TtsP37v//72DGy8PMb4Y0fFmU7RMhO+geO6u1QhjDYRcsCbQcsOrSrUC7RkbjRH53OHemyo6hcvxAB/UAMkGJkW6w9CIR0PuMZzxhExa4t0kxPbNKhPX0eGBzp4i9SZIcT6fLqGtlCfrz+1i+kMLriM9viaQ4gZmJFBkFCcMjwQ4zk+aBPUnSIG5/oUI4wITvs+sU7EutTguyms6FtkDimfzVPv2QehChK6pXzX15d/HPUh8RJmTbyCBhSL978EnOfoRh/vmXMM49jSwrk4xcfq1ygvViIjTyQyVGZeW13+jGPecwYKw9FrjVvUPRLYoOs/tBPn/bGzBxH5l1TZMj6bMUDhoc2c02fU5cEyul3pC/52rfan0aj0WjseKwLOc3N36KQYxYw+STIAhKstHBkgZljbo9OZRZYUG5BtxCqo8MCaufSq1I7NI5Xv/rVx86ZhTC6gK5qI35Ehm7kMvbYsXBacCPHblL06XdICzhq6xgCQw8CZgfSTpF65dojTchs9CmXgsixSU/kwLmkDtK++hB5dqJDOTm+Iz7q04ck9dEL0aM9oolE+RYxbR0Ti/jgKGljl/EhD3nI2J20iyzevkv0TaudU6+LteUn35NCoOgHeoFvdCM5QfyNTI4gT485gnB5mEEGPSy8/vWvnx7xiEeM74QR78jHpiPd+ievznn1SZ4/+hDiBcrIJuU6UZ4jv7Sxa/gf//Efww87pj5vQE7ve9/7jk9YkHAxyViyGX/m4y0fUh5flINySXn8ij9p4ztXO7ZIvFfqPpPwlzXMX+3I1/aSczbSHzIZR6jlEtn4XVHP0x+p2mk0Go3G+mKHk9OKLARZTHKeBQPUhaCsFXWB0R4JAYuPcwsZVPuSc7K+T/SjGbuS//mf/zlejSM5j370o8f3jHbI4pcjvVkknYOyEA5yKUs7trQhozz1WVBztKCT4bNXvnYjvSrlm180+6cDSIbvCBE0Czx5diTtEjv65VNut4wv5O3uxV9EusYGnEePtsrjp7w6KX1VhiwoY5espJ7/dijlvf71gyS70n7s9dSnPnXsovm0IEQJ6JLno5R4y/u20nenXn/7YZTdSoTH7ppX83bk+JE+ORpnseSnnWjJDjBCbVdPDNRLQJ6/iWf671ydV9G+c6QH0eKD3W158nzgozZ8doyOxI2uisQNHKWMYfoTQhZCCNElRuTYY9tnIeJtTvPPfOG777DtOldoFzJJf+xlPJTFX3VsKos/8dM5ufQFCfbNLN98M+2BwqckCLO5G2grgbZ8AXPHOJmvdlBBPbLtG2JjoL9pLyUuOScvQfoUudSlTaPRaDR2PNaVnFrEwMJmkcxilwXCAmb3yXdyWSxWWzQsMiFFkAUHlLHBXs5BmTbglaRvFJEMO0pe7YLFDxH0Axo/UgJ66dCPLMz6ITlnJ4tzjuQlMiERjhbcnEOVSUKKkWYx8Stjf2YJsfCjJn+Gyw+UtOMXe3ndHn2JNyj3mtnuMALy0Y9+dPwi/41vfOP49TgywH78ZT/9TDyViVd8Tp9z1C7l5PjErj/joy/GF1ERZ/3wYyLkVH98UxnyrB0d7NCjX3xTjqD4oY8fIPmRmxggMHaT4wfwhbxzbf3IzDgjsMitH2jZ5fRjGySHvN1PekKE0099kOKXevND7PxAx+6kb2aNlb4C2bQH+ulwVE5P4hUoSzlZcee/zxqiS4yc+9TEnGUH0UTSsnPt8wfx9WfB+Gi88xcgfIaQ/gB5/bHjLk50B+xn7PnFB0nbEEL+qYPoleb9M7/4JRlr5N2DBLn4Ii/R7cgfMTVvkW3fLbOvXv98SvHe9753ky+BtokXHeZP9IqZa5w/kXOs7RuNRqOxY7Gu5DSLkF0qJCMLH6iz4Pt20K9tLfbqQxTmyCKYRS+6IXkLDlsSWITUWawt5Fn4vWqUkLQHPvCBg/j5VbHFD5kiqx1/qm4Lujr6s5Drl3JlfCfPR2XsameRtPPmGES/MvLOETo/qEKo/Frajq5fS9t59Orajh/72jnSGcRPyCLs1blf5yMqiIHX4H48hdiwSQcfteWHfHxkQ5+UydMZu/pW+wKJMRk7wH785IdHvuG1i3e3u91t9Ae58CMkO2NVH1tixRe6lPHRd4d+9OKHOb5T9Vrdpxf6QofPBHx3W/3VDkmx0+q7XWTl3e9+97Dvx0sIi79SINa+R9UXic2g+kafMfFXDHzf6pf9yLLdW39FQGx8buBBQB/MM/3ImJgXNdYpd2Sngqz5TV49oqaPfo1vx9m1YkfUn0zTX0DExYDsK17xilHvLYAdVPOGbz5VMffJ2N0k5yHBnErcHSGx1G95/UOKyWTslUU2Sb3xEgd5seaL5Fth4862a4Ytu+vGxt8i9dDiwcOc9UNF+lyX/tmGtwZ8VWcH1tjyL/cKtnLtKaef7/rmT1r57MKuMp3pE9lGo9ForA/W5X/rz2HXx2KALNipysJgIfFneCzm/pwMopBFb44snAitxdgvyPNKNnV+TGGXxjeN/sC6BUtdfuDEhp0Zu1F2lRz9SR6LJjLgz+14FWkRBL7wVUIsfFOYtn6xjBz64Q/CwqZfX1v8/CCIXWTT96z84JvvApEirzcREHIWffp8z2gXjt+SHUQkjy+ImR+WeIWMYNg5o58P2lngQVlNCCpb+gyOiIp+IlvO+WdMLOT6huSQQUD4R44dhCNl4Jfs2hoLY4Lw2aXjqx8c6Ut+nU4vW3T4YZS+IFz5s0YIE110Ggc7XQgEeXElqw7xEUv6xNI3wr7/FD+ERIwRHnbFnu9iiZhlV873q/4yAGJJxtjyHWkSK/47ImH6am6yrdxRe7pA35UZF3+RQP9B7APzQR+1EUd9hfSTT8rp0o4f+uFHTP4ygv5oI/beMKgz38yj7I7yKX0zT+0Um9d2mH0+Ieby5pprjE9259njvzgpy7zRd3bMPT7wzXjwzXwXU3bpA/3TRjz5oB2fja95pe+uV22MHZ1kzHHz2UOGtxX0GmvzUSyV+VNT9JsHxtrYmgPaGBtzlTy/XVNiqj/mMf/EjH3fbGeX23VNvtFoNBrrgx36H6IWgXkLnwXFIhHyqVxeubyFBiyCiwiqcgsKXUitRc15XufRIVn02aFPG/odLe7akHGunfZ0qbOQabNs4SIjaUtOe0TAOWiftnWHzAKszOKtDbnop09/lPOZLjok5foCeWWunE51Ej+W+UyXsujkk8XbD8Ho0j4yztWLFSRO6QcbZCBydMZnMomNvvDXuXbRwx6oUx7flEdWnTL64ws7yumRsnOnTALl9MUHeb6ljWSc2dIPdWRyrl7ekf8S0MX39Em9dsok+egD58B3ee20cU5Xxkm5stisY6g8NqNXnb6ZD4k7xH9l0a995o1xpDv26WRDLCR68mCTeqi+0Z9+OVeePtS+8C9xDZTpS8bWObvOE3d2+etobuqD8vSFPOgL1Dr62KcL6GCPDF8iB2w2Go1GY2Ng3clpYJGwWNTFi2vKHbMwArlFIGcBcszCGCgP0j5yaRN5NrNogfLo1tZ52knyyms+SLvIpy5ldMmn/0HKtYfUObfoOpfIJDm36JJBEpzH1zmil920BfnY1i4+ph/ygbL4HV/iH7noVBZdkZcnF9vRG38q4YydSjKkEIqc0xnd2ijLOdARX9JHSRnQJ8+vqssR0lbSLkRMOzIpk0/M0p+QRNAmIKM+toL4pC42Jed0yle/AuWxGz9qmaNyKb6RSfzVV33kqr56Tm/6WX0jE32QeiAjxYbYpV3iCOqlzPWMTfqivNpKedrTCcpTl/qcB/KRazQajcb6Y8OQ0ywQ8zzERWUWnZUWEvUWIG3mC6iUxQsioz4LXepjM/W1rTy9OS7DvD6+LcIyXcqrb87pceRX4pE6iJ3VfJPiT85BWY0jPY6L9MZ+yiKT8nlcFyG2Y1+/5khd9NHNRpWtOuKDhNgsAtn4m/PaD4itOWInfjivvijjq/q5fbK1/SL9EL1Vpsqqm8c38snnvB5rUialn1UO5KGe80vS33mb9Hk+hpEJ5n2TV5Z+AF30KFNf5cmm76AscjlPPsfUawvRFVlHqPlGo9Fo7HhsiNf6cWG+OGTRkLIIpW6OLHZZFOUD8hYyUJ+6lFfdQcpgmc2qB+bnsKztHOSkarcietaqby2oZCD26U65c5jLVR8j71j9mrddzWfy0SNvnJxDyuox+Xo+x7xNLQuc1/7BXNe8DXlli/q1kq1AedrPZRads7eI7MEi/RA9Oc59ru3nutImSH1Q65Ov8pDyuawUpP9S8jDXXcuTT92i+tRVmSD1ta7WNxqNRmP9sWF2TpfBopoFJIuKhWyOWlfbpK7m1WeRrpgv4EHVnXzVD1Wmnkcu+RwjM9dRUesWgbwUm5C+rRWxOfdlHsNgbm8RtAVyNV+xyB4oSx9q/VweyKU8KVAOypJ3lKJ7kQzIRxcb8jmvdclLVRfU80V1c71BPY/+5IPadq57UVmgPDojF5nappYHtb4i5UHVFz2RqceVxndeXqFO/5OHtJXk06aWVdQyuua+NBqNRmN9seHJaWNjok6burDPy52nvua3FNG/mp7qxzLEv5VQfYe1tFkJc7/pWq0vGxlb6v/mxHClmM/tryS7CDtz7BuNRmNXRZPTRqPRaDQajcaGwdrf/zYajUaj0Wg0GtsZTU4bjUaj0Wg0GhsGTU4bjUaj0Wg0GhsGTU4bjUaj0Wg0GhsGTU4bjUaj0Wg0GhsGTU4bjUaj0Wg0GhsGTU4bjUaj0Wg0GhsGTU4bjUaj0Wg0GhsGTU4bjUaj0Wg0GhsGTU4bjUaj0Wg0GhsGTU4bjUaj0Wg0GhsGTU4bjUaj0Wg0GhsGTU4bjUaj0Wg0GhsGTU4bjUaj0Wg0GhsGTU4bjUaj0Wg0GhsGTU4bjUaj0Wg0GhsGTU4bjUaj0Wg0GhsGTU4bjUaj0Wg0GhsGTU4bjUaj0Wg0GhsGuxw5/X//7//9M9doNBqNRqPR2Nmw05NTZPTvf//7P8/+D2shqetNZNlPamw+jgyx21nnSPW3+j/vh3PX77y80Wg0Gkde7PaPRWGnXxUsbkc5ylE2LXC77bbbODa2LRZNlY0Ya35KfJM2d4pvlD5Vv9Mf2IgxX4T4v5K/tV+NRqPRaMAu8VofMYVFi5zFry7ywaKyxsoQ33laL2T86vg6/u1vfxv5+Ffrd0bE98zxQHndcdzZ+hl/13MONRqNRmNjYqfdOY3bWdzyaj/nOc7l5t2d1+8IzG3xYZn9ub+bg2V93hJsq/hsC18geippq7pXqt+RY721WNQnSB/Me/mkjQK+5prMGCirediZxqLRaDQaOwY79Wv9LH6OUl34sug51nNyOU+ddo7S9kZsJh+/oJbHn/i2OajyVf8cm6t3GVaysQhzu2m/Vn/IS/OxhJxnLmRuQGQqIg/RMz/fCEhssjOsf3XebiRfgU+JOz/lHauPNfaNRqPRaATrTk5jfksWKQt1Uhbn2p05eZFSFmTBlOor4SD56NlcVFvyy/Qoq7ZCPFLO79Rnoa+InRwrlNVY7L777pvKo3MRan30pkyKT6lbSRfE57lc2kO1sxKiy5hV+/Gn+hXEbo5pe9SjHvVfdDgXo7n8liL+bCni24EHHjjtt99+0/GOd7zpUpe61HS0ox1tlEPta2xtrd21YG7DnIDf/OY306c//enpz3/+83SFK1xhOvGJT/wv81YbSfvo2N6+NhqNRmPnwL8ynHXAfFHK4rYSsqAlgXYhqspynqOynMem8z/96U8jWUSjS/lf//rXTfKxk3PHZWluF9JeUn7EEUf8S52y+JR2f/nLXzbpiS/KnKcseQkcyUWnVNvExrxt5ONjEqQOtJvXg3x8zzlZ/WTfcW6Ln0n1PHKrpaqXzpwby5TzqSJxjB31yFLOobZJHx3TJyll2gWRqUjZXKfEXnyX4peUenn2Moa//e1vp4985COD9Ck//PDDp4MOOmiUO9cutqr+HMGx5mMvSLug1snPdeWYdsnz6T3vec/0xje+cdp///03yfJPPmle1mg0Go3GupPTOeY7gouQxSz5pEVl9CXNYXfsmMc85nT84x9/HOsCafcsxGW+aFb980TWMQu887pos2nn67jHPe7Y+VIuVWISPTXxJTt8UnTGRi2rvrDHjiMCXkEmqPlFUH/0ox99JPmQodijX4oP4qmfxz72sUcbZdGTfNoHOZfIzRM4igVb4hHIsyWuEkSPI7/SzjH6Kqp9KWVBdlTpAnrUi0XK0hahNJ7VDpmMceKkPilt1Un0p53Etrhm3nz/+9+fnvGMZ0wvfOELp1//+tebZCF9JRdfIP7U+Rab6Uf1hUza13xABrRTHh3sG3c+QHSSie70W0pfG41Go9HYcCtCFjnHlZBFDbLYSfUcoi+LokVQHuw8ff3rX58++MEPTl/5ylcGeQt5yaKqfRJ70b0sBfFPGX0WbUck4pOf/OT03ve+d/ra1742fEE2yMYOueqDo1Tjkr6nDVSboFybz33uc9OjHvWo6b73ve/0vOc9b/rd7363STc7abcsRSb6HLVnR97RbiWQQ2C+/e1vTx/4wAemT3ziE2N3L/JpLwXxt9pchJSTr7J0G0tj+NGPfnT60pe+NP3xj38cNowp/yuxlLSjJ7qiV13KpUDeGPI/baGep54OttiUV64+ccxcIENevJQrg9RFHz3KyB166KGb9Ovb9773velHP/rRKIP4n7z20ZtyiD16kpfko0NSLylTd4xjHGP4M7dBJp8ZZOea/9qoi7y2saE+UK+80Wg0Go0N8YMoLmShssBZuKQsmMtgUcwCTkcWOEdl0uc///npD3/4w7TXXnttWiTp/vnPfz694AUvmL7zne+MHR7kxrdxt7rVraaTnvSkmxZW8trRxRfnKyELb2STP+yww4Yvb3nLW6Zf/OIX07GOdaxBNq50pStNN7nJTaYTnOAEm2SRDt8Wxie2s2NZfSIvL2mnjmzk9MHu2rOf/ezR/mxnO9v0qU99asTiFre4xaY+SashutmUxO+LX/zidLGLXWw64xnPOEgT4qGfXuW+4x3vGLt82pzylKecbnvb204XvvCFh0+xl1imT/F7LUi/JQTtta997fTNb35zU1wueMELTre73e2m05/+9ONVf+LxrW99a8j7ZvPkJz/5kJ3b5V9IVGAOfehDHxoPF9e5znWmU5ziFEMvEr7vvvtO5z//+Ucs2CCDmCNy17jGNcbxV7/61fTZz352+vKXvzzG9UxnOtPw4TznOc+oV0aP+XiOc5xj+tnPfjbItroLXOAC02Uve9lB+jzU2CG2K83GV7/61SFD12Uuc5khZ6z1CxDXj33sY9PJTnay6YpXvOJ0nOMcZ3wP6gGJn+bXGc5whjHn2PMgw6eLX/zioy8/+MEPxpwRNzHRz0te8pLT6U53unHuwcMDiIeBPfbYY/jj+1Jj/brXvW7YesQjHjH65PW+GJj/F73oRYcMHcFax77RaDQauzZ2/69/4J/5dYNFCSGwQPvRh6NXs1msVlq0LMIhNuDoHCzML3rRi6YTnvCE05577jlkJQsisvDLX/5ykIcb3OAGg0i9733vG4uuhRTx4BOyE9Bd7SQP8/P4FF/YRdgszHe6052ma13rWuO7PLu27J35zGceNgNE4a1vfevwB8FC8vjNJ3od6aaXj86D2EYufJ/4k5/8ZOyaIhXI449//OPpEpe4xHgQiOxKUB+bbPH7Na95zdBTyRAZfUCsznnOc063vOUtp7Oc5SyDaP/+978fhITs3Gb0LytblNJvhO3DH/7wIHY3velNp1vf+taDvCFM+ne+851v2JP4b369853vHGTqXOc617/EVIrtlIG24vbxj398eve73z3I3NnPfvaxA/32t799etWrXjX6dZGLXGS0+8IXvjC97GUvG+0vfelLj7lmxxpZQwKNCxlEDck09gcffPD0rne9a3rJS14yHmLMXYQfWUUYXQ/I77nPfe7pVKc61SCBHg6QQ/r02UMAXYkxmG/sekjhn09Yvvvd744HMwSVvIcL8TA/kd/znve801nPetZh95nPfOaYo2JJRgz4ZE4i6OaWueDhwJz96U9/Op3oRCca9eS0QZrF4vWvf/30yle+cjyYiQvCnLmQY6PRaDQa605OkQzEyyL6/Oc/f3rOc54zFkOLFfKQRXbRwqWtBOojo41dSYutRRwZPMlJTjKIDEKj3u6oRROJstNj59JibYG/0IUutOl1cBbO6J0jdud1KU9i12J++ctffpA0hBlRQNz4xiaSoT/IhR0uhAsBRCrpAD7FVnQnr7z6ilAhbna07IbZ+UNW7bQh6/nOtpKzeQLHjJMjn/3Y5XKXu9yIobjymRydCBT9Yiyu+mAHze4eEqWf0c92bMz9ryllkLZJbCA7EmIUAoYoI3Txjf/iesABBwzyipSd5jSnGX2KLjYcwZglj5whi4gjHcbL7rE42IkVUzHWv+w0XvOa1xwPF3bLyV372teeHv3oR083utGNhm267KSKlzHyiYndXz4/9KEPnW5+85sPIkwX8pp5w4ZdRwRSPz0A2J1EPvlcdyPFV3/5SN5c+8xnPjPmwiGHHDLmJL8RbT+20s/rXe96o6+veMUrxs7pPe5xj+khD3nI6I++24n1sKGd6wyJRUI95N3vfvebrna1qw0f2DHWdluR2je84Q3DR/r4nLhn/jUajUajAau/z92OQAQsUMiN3ayXv/zlYyG2q4SkWuQtXBbAIAQF0t7CloSAKPcKERGzINtpYgPIhKAqQ5oQAjtiFlTydJBhm36ytV1sgvNAPvU5J0cP3V6rn/a0px02EQO7WWT5R5Zc+otE2PUTD9+mIj/R7RjQL/FZgtQj2EiGox0rZJ1dpE3ftSO7UqrQf6+37djpD9LBH+XxQxv+211FbBAZu4BeY+c1f+IqpZ08qJvbhZRFHjIv7P7ZfbbjjiQZe2TLzhyyRY5d7cTROCizcykOiWnVXY8Sgoto0ono2XVnx6txfWNbufh60LLTafdQvR3FU5/61IO8eRASLyTt6le/+iCdSCnwwacGV73qVQd5s8OInCqjV6o+Ju76pq2+SvKJl51ZfuunXU06kGpjgZh7cOCjHVj9IcueHVHjx8+rXOUqo//88RmAV/52RX/4wx8OO+LnukFejYO+xwck1huJffbZZzwI3uY2txlx4XfGOr42Go1GowHrTk7BwokgIk0WTYuW3R6kDOriNV/MQiwki7SdGgspQmQxRqDoREYs5nRnQSeLUDzxiU+cXvrSlw6SY7eWTBAi4CjREVLgWBFZ5fFJWY58YNPOl1ffXtsjLb6PFIO0JRsSJSa+a4xPdNVFPf0H7eKDcqRUQqSQDztWduPEA7ms8ishdsQspBOBQbT1R50UffxDwH1S8fjHP34QNzvG+c42SD/oAG2dVz2OEBupl1cvXmJHL/3Il11K50gUhLwB8sZ3BEpcke05oZsjPtjdNF5IHIKHnPHhhje84ditNV8RPcQOibU7avcaQXPugQPYswOJeJqrYhroj7HXP3Gh31hlvta4xOeU1fP4bKzZ4Z+HIX4jpD5L8L0z34yn602ez+JovvDdmwT9zvjS42FKHZnY5uM8jupcX75B1kdzwCcDQfyUGo1Go9EI1pWcZlGysFn0Q8wcLYJ2WMB5MF/MtAWLpwXcQumIJFgskQKLvfKAbMiZ3SM/1rnxjW88XrP65i5kJousYwiQfIhCFuzIQXxjj99VBkmTt2DbGeYf2/qqPj6S4R8SRQYZqjbAuRTdjjVOdEnKEVQ+Iwji4jx9SduVEjjyCVkOaRFXemJLXyV5hOa6173udPvb337E7s1vfvOwHwLDV8cQ0/iaRA+f46f6xDNEPrJAVpx8/4kkenVuF085Ge1B3mcAiKJ+2Lmkn95FiA3JOGXX1e4+cmqn0Wt4c9XDkF1QMbKTmHFFELWXT6LDOKSfkrx4xGf9lcQ9ddWnxERem9oPdYmpTx28vkdK7Xrrt115r+WNh774PMAuK3JKj7Z5UIxuib4KdfqSfqiPT8okn3co8ybEQygor/rkG41Go9GAdSenEpLjF9B+nGQnyWJ6/etff+woWrQsoEEWM8gCnJSF3CJpAdaWbkdlZCA6HBEVO2x+2e31bH4lz4/4p532yu3M0ZeyID7ERmwCHYgI/xCaZz3rWeOHOXe5y13G94bA7wpEhLy+ezUfYmJRj1+BfOw5Strqu4Qc6A+7SCLbXntHdi0p9sQAOYxu4Fv8C+y++ZW5Hyj5BtHnCXaL+UG26qZPXJE6dtIPef2AEB3xFStHMogRfX50ZPfbt6T++oFdQe2rDtAGlNGnLZn4kvoK9aBP5oidb3+yChm1A+nByq673UffS4NX2PpKVjtjKHb056iM/+ozb+JzTUHy2qZOXrxqXY5JridkGXn3rSlb3hB4MENafZf9jW98YxBs/RMbfouzceEjG2LFdw8Z7PE79rTJmMQfSVzufOc7j08Y/Ikv39/aVVeXMSXfaDQajUawruQULGoWQYu5H4v4VfNzn/vc6d73vvd4fWjxgvkClkUxCxxYHHOeBTXnSF4lKQgR+SzC6h2zqGor0YPo+qXx/e9///GrZOdk+UA3+fgTKGNPosPRzpX+IWGPfOQjxw+dLNS+k8xiHT3O04f85YLYqnKOyeuPelCGPNrB5KtX+n5kc8973nO6613vOkgJaLMaYiNjwD7fEsPUxWcEBnFhv8a4+h0dfkzjxzxPf/rTB3GPDbrIap85kv5J8ilDloyPHdN73ete07/9278N3V7Zp310Ri/UuorUV2hH1pxERu00smHe2nH0jag5pD9ijuTpo7zX6l712zkEO6rItB/g6QOCC/yhw5EPiVdsKwdl4uSYMjIVztVJ4s8fsHPpYcUOKdLqiGTzTx/yTawdYXIIpbjmUxDt7b7aOdcvsvFZqn6Tt/vvx2N2sj2sIO8Sohv5jInUaDQajca6k1OwOFnQLJZ+0W0xQ27A4qcuC1iQBVAKoQELnjZe54Pv6JQhEkhhSItfIvsFsu/h7IL5LzsW4dimkx6LqJ1Gf1MyP9BSn10+5/HFcZ7YI+e7T3+NwI+07NZa4P/nf/5n+u///u/p/e9//yayQRYc+c4+Ipk4zFHlc0QKyCKHdq58Z6gPfmgj5Vff7PFfm5USGSCv75IY8k0Z3xIrf2HAH4Dwp4rEde+99x6/0kZmfKOaeNAphsicH8z43ABpi83olAf9YUuSZ8vRDrAx9P2u/noAYFtcveJHlEG7HD1ceCDQD8QN0sdl0M4YGTu7kGwhXggaIK2IHp/FXJ024mwXV70/E/XYxz52/FcnMTIH/LWDfIeZfmUuBM7FLTFwLs933676wdWLX/ziMT+1ryBnPrBvHiGZyLDPGrSXR0Lp8cmCem30xY63+D7mMY+ZnvKUp0xPe9rThu92U/1Iyk4rWf5kPMCY8ZPPYu0hhqw/9WUeeJDwQzltyGU+ZKwbjUajceTGhvg7p5AFLQtvXbCSIpcjuboogjYhPnamkAW/OKY7pA0suoiiP3GDIPlxh28k/RkdcuS15Y9dMn+D0u6TV5QWdnrIQfUxSXt+5GiRRkbok0eEveb2ut+PtuzApf9gQUfuvA73iQOyQJZN+oPkHfkkxS7YdfWNq79GQBdS4HUyskAOqr45osdRPBzpsfPnW0vki6+xj7j47pKd+kfl/c1T5FR7svqJMNtF892n1/9Isz6qj2/pE7APdEQPkml3D5GPb37gww8k0sNGjQf4IZTX/0ihPz+V/semY5I6KTbFH+lCen0O4k9mqVceIuZvv/qek9/qEDLjZ4fX9512H/XFr/dvdrObDXJIn1/5GxvzVazAuR/3IY3seYADvvlsAOw4kzEvzaU6LyH9EhOk2i/uo58fYsgHP1jKQwvdXvt7yDNP/ckrO6z6YqyufOUrD3LPP/UeLMTCTjF78ZuMcaVfUk+POLmekH2Ir41Go9FobIj/ELWlQEwrMQp5Ajt7T3rSk8bCadfHoooAkCVnAfdKHcmiw8JutyuEhD662LAzZ8fIj3u8HifvVWZFDaP20eFIpzwChcCwnTLwWjg7VuQBkbH7hwjZbSMjry2ZRcOmTIpNeTrFwA+9kDZkAznxPW9s5bgS4qu++5NUYnL3u9997K4hIuyBoziziXQix0iO/oHY0yWuiKS/lKDOMxI5delj4pE+pX/gPIl9xCs+pn3iCsiwtuz67tZutbFE+IwJvxMzbengq+QcYl//2ET02Ag8ECF6diGzIxt9wEfzki9kEEF24re2YoaAaq+tOvPG2CN35l3KQTmS74j4IXt1LIA8m/QbP3Ihtsr5RB9/Mq/jt3jxSVsy9GsPzqX0id/xTzvl8oirWKWcLv7SlTg1Go1GoxHsdOSUu1nsLYwWRSndUIckWJjtiHqV7k/9+DW+RTGLr7byISEWzRBdiT56ERHfidr1RBLtcCIZ2pIL2VoE5fSwEeITP52njN2qQ7ldX6+B/TtVfz8SgUpd+l8RveqiK/r5yF+EQD1/YjPtVkLi4SgmPlHw1wYQiwc96EGDeNCVWJBNbMF4aIcQxZ5zu6b+k5KdYa98+YRMkokcnTmX4oOjOki5/ua89k258XVuN88rcETvbne726aHgmqHLv4rWxTvyER/6lOePDinn8/iUXXFx3k/AvXxLefpozzZJNA+OqS5PuegLSyzGz0Q+6l3nr4EsVX1JJ+6lEH6ENR2jUaj0WhsmNf6m4O62Fkos4A6SsodfWNnh8vOk1/FR8bR4oqwIE5IEeKmzMJJJgTIuV1VO41+4Zz2yqMvi3ASVDt0V1+ds+3cka6QXXmvtv1ZKztR/oqBMrKOUvq/COriA8izR2dsR1f8XUuC2EVK7XohqX4cZDeWXv0lQ7d+SWxWf+WT7Krm1TudITxpsygB/TX2+sO+c3kp5eRAW+e+SbUrvddee236wV2NBUT/vLyCLiATvyA+JakjI6Vf0eeoHJSnPmVBdCqPXnmy/HCUguiH5KNfyjxXpj510Z0yKWMSKBOb6HXUlh/VPzD+xsV5xoFs5kXKIt9oNBqNBuy0r/UtbmBRlK+LtXxIH+JppzPf0oV0ZFG3MM7PHZMHO4NZUC3WdGqjPol84Dz+kadbAu0kSDvHkCu7i4gkUq1tXntmIV+GuX2gL3n+h1SQrWQhMiuBnHbxnb/i6ptCr7bV66Nj1Z3+1np9dKRPH/WXTHZ35dMfvlX/Mk6gnKwyxxAp5/qbndr47chn44dcJx7xUz6ySdX2IpCvMrGnLOXOc0x5ymrbQB2fFo15dERGPn1LXTDXPa+PDqh9jVzGS1xrXdVTyyuUV9mcRz5Iu3l5o9FoNI682FDkdNHitQxZVMlbRC3k2qdcXlIuhcCQJxMSVBflusgDOWWIjvYW6ZxrkzSH9uS0l9cueiPvWGUkeeX8TR1bSBtEdhmqziqb8tiOndhN+WqocnTwS3uxURe9bEnqlCUP0aFcyrgskoF5PrZSXtuIFT3Vj4Cc88wTshB5R23URb+0udCePoiOqlM+dZC6iuiY+5S6RXpgkdxascyGBM7n+mpd8lDzaZeY1DFpNBqNRmMRdlpyCpHPQp6yIIumRCYkMYitRQsnuUXECeSjezVENrYg7WpZ1SfPJ+dz2yshdmpbqHlwLlX7q6HK1rZsySsD+dSlbJEt7fi0FtnUQeoXyczLldW2qUtZPV9UV3WthrmORf2Td0x+kX51QeQX5Suib3uA7oxxnUMVi/yqPm1P/xqNRqOx62Gn/rV+xdYsgDUEcx3bemHdnHCzu0h+mT9r1b0t+rNaXNbiS3Qs6+dKmNtfpqvKwKJ2FVXP5iDtoi/5lfQssw1rsb+a/m2B2p9Go9FoNHYEdglyup4L6EYK30YiEJsbl7nvK43pMt2L2uyomLC9ubZWitGO8rvRaDQajY2GJqfrjC0hNY2Vid0ibM8Y8yXj2GPZaDQajcbWocnpOmJzQr89+rbe9ncUtmSKp7/ayu+sc2xLkD43Go1Go7Ee2GW+Od3VsTXDtCsSje09bSs5rVgWyypX20r1h2nqIrsoX48bARvJl0aj0WgcObDL7ZzWfGPHoU6jlWK/bHyUb+6YVZsVVc+W6J1jLX1bJKMs9mtZ8v4ahHN/3grk50R2R4G9YJGvjUaj0WjsKOwy5DTdWLSYLirLwlu7v+w8sluLbaFjraj9CLanfX9uKIidRfYSz2VY5uN8DLZnX6p/29JO+iBWNV4I6fzPNTkPad0RWDQmyuInX7ZnzBuNRqPRCHZ6cmrx1AVp2eK50qJau79IblF4VmuzDHPZuc/LdC3yYREWydFZ9VZSFPvL7K6EtFnm2zLdkZ+3W6ZnjrX4WmWiV1l8qmWQ8uTBedLWgs75Pw+oO6SSc8eMD7nI7Aik3/Fn7mej0Wg0GjsKOzU55XolpxXOK7HIeeRShzQEFuKUR67qrfmqa0tRbSW/NViko/qZWFWsxW6Vmcsvi0Hs1vq12FoLFvUhutXNiR9U2/FtJdCxtbuFsR//5P1nqj/+8Y/Tr371q/EvVP1/f/++9Wc/+9moO+MZzzgd85jHHPMy9rfGh83BPCaHH3749Mtf/nL4cvrTn374lf40Go1Go7G9sNOSU25LCFfSvCshBPM8kA/m7WDRArylizL9aStffZr7VbEl9hbpUpb+yiNeSc5Xs0Mmco5QCeAiZEzSx5oWYZmeObSPbPI51qSMj9VeyoOc1/K0k9ZCTrWdQ5vMR/8m91vf+tb07W9/e7rABS4wnfnMZ54+85nPTC972cum853vfNMd7nCH6YADDphe9KIXDRJ4j3vcYxBB7fNafzUftiXSH/Z//OMfTy95yUsGmb7vfe87neEMZxj18avRaDQaje2BDfPOzmI4x6KyRbBgJuXcLpTFXqLHMaRBioyjf2uaOggZiE5pfh4dOSYtQ2T5EeIT/9iLzWq7HpUv0586+tOHmmfvuMc97nS84x1vOvaxj72JfAXarpQC+nLObzt+sQH8EFOEjJz/vV+JTGxqG93Vz5QtS5GpeuhXFpvGUiKTdlLAP35rm/Mqp7z6U6HuiCOO2OSzRCZzTV4MlKfs0EMPnT7xiU8Mkved73xn1B1yyCGDkDryn+zvfve76Te/+c2opyMpdvUvNpKc1zJ57VMWxB864pcyMo5po05KfKTf/va3w1dt+RM70dNoNBqNxrbGhiGnIRxZKCGL80rIwpyFM2WgjN6QT3qrTuRJGQLBrnNIe6jy8kn01mPy9TwJAUkdGxb/gw8+eNjhG9vgXNKGnLr4kvJ6XhOoZwPojPz+++8/velNb5qe//znD6IUopM4z3XNU0Bnyug+xjGOMY70qJP4jAArF9fDDjtsU/8QO23JQMohOldKgXbO9ZVtR77Ii6v4hrRKaQPimtfTc5tBbVdBZ+YIm2mnPGMMyo5+9KOPdPzjH3+6znWuMz32sY+dLnGJSwwZOtRFV3RUHyrSRn36wT/l6ady5ymPbIimmNPhqC5zAGo8HfkWf9IPefKJNz2x3Wg0Go3GtsTu//UP/DO/rrBAZqHLYptzC2PFXE7KOZBP+sUvfjH95Cc/mU52spONusCu1Xve857ppS996fT2t799+tznPjcW79Oc5jQLF126snjXFJCft4GUS0jiW9/61umFL3zh9O53v3vab7/9pmMd61jDZiUIdqV++MMfjt20E53oRJvaxx4Z53PEJ3X6AL/+9a+nl7/85dP73ve+sQP28Y9/fDrpSU86Xi+HnNR+rIToBvH73ve+N4iLXVm61Dt+9rOfHUT4LW95y/Sxj31sOvDAA6dTn/rU03GOc5xN7TO+sZ186peBTMZbHBDe3//+99NHPvKRsTvJ5qc//ekhI65kElu+8cX3nnwOOZyDrHZS8Kc//Wn6/ve/P74NtQMdMkyfV/b8Vm7sEPKvf/3r43vNPfbYY/iIDCKqiPEPfvCD6VOf+tTwD2H9wx/+MH3yk58ccpe//OWnE57whMNmxtk8+OY3v7lpPiCGvgc1R37605+OuNKrn8aYLD/4owxh/8Y3vjF98YtfHLaBX4klAqvctaKfX/va14bvxtZ1YayvdKUrDdtk2WRDn6IHcmw0Go1GY2uwIXZOLZAW4RACi29SJQhBXQRDZiqpkUccQsw+/OEPbyqzoErI4VOf+tSh60IXutB00EEHTc9+9rOnr371q2Oht7hrM7e1KPE/fagpbVL/ox/9aPiCKO+5556DNCNxSA8yyT9ySIrvEpFYZCN1UsUyUkBOG+WIE7t3v/vdpyc/+cnT+c9//unzn//86F/Iz2qgJ2NDL2KE7L7mNa8ZxArElO/i+MEPfnCQNt9YImQI47ve9a4hR4Z/8Zl9+XkfFoFM5CG+I9zPetazBnESV/694hWvmPbdd9/hM5tp4ztK33siXTXmK8WBDAL8tre9bcwZRI880qevnu/e+c53btql9Pr+Gc94xrT33nsPQvmOd7xj+s///M8R9/Qf0m8p8Y2fZOKb8dO/F7/4xcMPEN9XvepV05Oe9KRBJsn5NtT8UuYBQZn+Puc5zxnfsj7iEY8Yyfej2vKNPURUTB70oAdN97///af/+I//GPWuH4gfmZd0mLfawUqxazQajUZjc7Hu5NTCJlnYLfSPetSjpqc85SnTV77ylUF4wMIIka2Yl8mTt9BbSL/whS8MwpJXuSEAJz7xiac73elO0+Me97hB3CT1CIRFmNwi3fOU8ooQjuTpgrOe9azT4x//+H+xaZfNDmR9RW7H6pznPOfYyUJs5voD5do4xoa+I11ANyJlh+7CF77wIDZ0K5dPm7WAX+KC1PL3ve9973Tyk598Ot3pTjfqPEjASU5ykun2t7/9IML3ute9pnvf+96DpCL9iGx8Y1ubnEP6A47JB4mDYxI9xvImN7nJIE3sscsPO9PmEBsh437UI9Y+c0D6Er+K6K727UL6Jb1vMJFB+uS//OUvT9/97nfHfPUgkfggj2zZ1RQ3u4/qgkX9q+BrZPRFrPkr0edobnv44A/94uvHV+yc9rSnHTv1HiC8IbjsZS875t0DHvCAsdvpoc0YIvL0Iaoekti7zW1uM93sZjcbO7jGVpl5hdA/97nPHaRc/UUvetFNfcix0Wg0Go2txbqSUwQgOzKI6SMf+cixO/S85z1vkBuvDslYbOdkAZTlmDwgIxZqu0heRSJ6CBnQYeG/whWuMN385jcf7SppYku98koQaoJl+SD+KKebLiQqfzrIAo/AIEr1dXeOZzvb2aZznetc04c+9KFBRLz+j0+OsVfzQXSIKxLqFbZPF+zeef3tW1B1kVsN5GKH71/60peGXuSEX8bQK/LEyyt8O6YIEwLnVbFzfY3/0actAhTEp8gsgnb0iKt06UtferrVrW41bCBZdJKJjcg6R8z8St6uH3KnDpbZAjIebvyKXiy9As/42f1WZsfYOIntz3/+8xGXc5zjHJt88FAQW/HJEcgkBeqSkEQPNuLolTrbCLCdUgRfXqwlPnlgQE699tfHC17wgtM973nP6epXv/p0wxvecDwUnfKUpxyfXPA136K6TuywIveXucxlRnmuPSTcJzBsePi46lWvuumziPSr0Wg0Go1tgXUnp5LdLd/gWegRDIue3SAkCEI2oC7iKasga7G0MNtVsjDbeUp5iCJk4bUwI4EImx1G53RHThvncz+CRX7MQRcSZqfKbqZXwUg4AuqzAuVkYgeZQVARELuO1a58joE2yuKzc0QCKbcDa9fryle+8nTjG9941Fc9K6HaEAfkz/eUdvLOdKYzjbEjoy5xQ2C9En7d6143+om4IUZ+KMUv48tuta28gp5qu0J52mdsjKVEj9f5djHt2CKJ4k4OxAdxM8/sdiJ6qVuE6sMpTnGK0dY89e2pV+Z8uOY1rzn6ZJyQdnPPnEMS0w8+zEl4xqzaqEg5YnyWs5xl9AURtSPqaCfXQxaibfdWzCVEVv/4iNCe+9znHuOVXVIPD4gzPeIU3xB3D09k6sMc0v3KV75y9Ov617/+dJWrXOVfYqYPjUaj0WhsK6wrOZ0vypVAyFu8ySA9YBEMgVuELJLaIWRIEgKlvbLs9KS9o7TPPvuMHcXrXve6g9BY0NlXFxJhwc6x+hFdKyGkiU7tQuj4gxzY7UqdYxIihKQiB2kzJzjxEaLDecrI2720a3mpS11qvOKXlzYH6SfyJSFqdoLpZ4t/laiG8Mgj2IiS8RAH8QD5+Jp87CxC6mIjSFv46Ec/Or7/9EOji1/84sMmeTKO5gLi6A/gmyPZNU8/VoI2CKH+eMAICUW8kTqv1O2qIvB2WRHC6DTW874ZKwnUyTsmBcrpN3aIsTcK5owHr8td7nJjTiLG+bETcqqN8XBEbh0lfphTIe3munIxyNiIkfnBB2VILN0Iq7mE0CuXGo1Go9HY1lhXchpYCH0TZwG2AFps7RTZUbS4S5uzGFp07SBZdJEHoCPkyKJNRt6PXHxKcMlLXnLsKlYSoV4+JMuirj7+QMjHnFBUHXXxJ3/e8553evSjHz1+mOK1qh9nKdeGLDj6JAEQgtiBuS1wToavqeMvomEXTTz8UObNb37zIBtI2eYgOo2PV9eIKdKT/kFkxBeRu+1tbzs+z/Aa3WcFCCqfasz4F7IkD/RFV0XasRnCz5a8o884/GL/7Gc/+3SjG91ovG6HOqaO/PYphZ3EkLOKuW3nZLQxL/np1/W+0fRdKXvKxdWrcrJekZOXJ8/XQD9yLp9zKX2sYN9csJPOhr9GoM/s2p1Fgr1l8OrduHgg0yb9zgNV5ry2+p1+xYY56pjz5Om3Y2qX31x9//vfvyn+9Eau0Wg0Go1tgXUlp1kQLaJ2gHxzitDc+c53nh7ykIeMX5YDGYugIyxawCvUWzjJIy3JR0/q7bC9/vWvn651rWtNd7vb3cZrZ/LANwswWYu7H9d4ten1Pxn1dFjca8pC7VgTPUg4woSs8EX/7LDZaWML6AS6tHGM31UXJJ9jyEd8QfoQJK9rr3e9641vFxHV85znPMOH6FsJsUV3CIl87GmvTJKnlw2JjD9bdZGLXGTkEeL4KtHn1bgHBLvXdgWBLvWLEJ+rHn4gha9+9avHbuJ97nOf8eqanjkxjO6MgTRHbOcYe8YPGRVH5NQfzUdCjaly80Q58utPdcVu/KQDHDO+ZJxnPOJfbAdsIJ12Lf11ghBl8XX0FwJ8bkHGX4NwTSGVfFbHV/NbfxFcnwV4gCAD1ReIH/y0W3zLW95yXJfk/UgPEWaDnNRoNBqNxrbCupJTyEJt4bza1a42frTjF8VIRhZL9ZVEZAFdBgs9AoFE2uUjH0KlTN4vlf3pKK/OfbfnFa8/eeRPJJEhqx0fvMb262Y7j/kONljNF6APOUDC2LUTiqj5ztbrUgQViUh/QxT4zldko9YDGSl5UKfvoAyBsbNm19SPl575zGeOPoS8kRHbtYBuCeHli+9ZtY8/xgfZ9Lc0kXhEyc6kV91+7KYNIqWNPumL3Tu7nU94whPGn10iT0/GSloEbSX1YoussYkQ+/4TgfMLdTt82SGMr5Iy/mcHdZmdOdhE6PKtbX6oJCYInJ1/DxqO4pvYiHHIp5T5rExeWT2H2n9H9V7ri6E3AAgpO3ywg6qtfvGHj/T4rtR15C9Q2FE2NsizueyTBJ95INWAaOpH7Fe/jJ3kocaOtM8a/Kkuc1f9WuPXaDQajcZasO7kNLAQhjg6SgFSEISYQBZFbXOULKx+jWzBtUOUXUm6LaYIxAc+8IHxQx3fDvq7jnZOkVU/LNEu9tmw0+RX0nT6I+n5Xi/1KyH+8Nlukz+VxZZfT/v7kwiEHyrRQ4Z/kberyA4CkbIgfZXqeXSkr76hRXKf/vSnDxLnm0zfLMJaSUV0I0CIsuRHOEg71B1VZW984xtHH+20PfzhDx+x81pY/PgS/5AcJIluRMluo7irVwY5VigTDwnpR0KRYWP9sIc9bPyJMJ8T+BGYPs77yUcPCMgdcsr/ameRbXkJ8fMDI+STv3TwGWn0uYbYIIh2qzOHxCYx4kvyUurtuiqf+8qmeEhe7cemV+z5ltT8kPgQsgm+C/Ynn8TWZxV+pf/ABz5w/NjQTrr/XKX/AX9jP75KySP/fgx17Wtfe1w3r33ta8c1xMdcD41Go9FobC12+8eiszaGsh3BBQtcFsIQASmIm5EDshbULIyps2D7vtG/jLQb9JjHPGYTWbDIk/EDEjK1HdJp8bfA0xk7dlOf+MQnDhLpc4OQpxwjV5Gy1CMeSBHCFAJsx9SrfTtiZKTI+7YTWUa4fO5gZ86OWUgZuQqxgLR3nvjYLUNOEENkRD/8iEdsyNK3EqJTTOjwB9oR3Qc/+MHTxS52seGr/pDho91SRNxDgLjbvUPCxTfj6ygO/qi9HVOkErnTfqW4Buk/2/T4YRnQqz1/xNUup/5Fl3j4NMPnHAgzoqUO8Q7I06GMndgCsmzpI/Jn15JN5Ui4TxPMITvyIZsIuLlGFqn1H6r8JQlkEtEVU+RafM0HBBhiN76Ljd1KP4ZCThFhtsWAPjunvu9FIpXrh6Odcw8kHijo5F8+R2BT/LWnX3t/05VNfs3LyXsgoM/84b8xJj+PVaPRaDQaW4INQU7niEsrLXRkLLwIgAUzi3Gt8+MfyX++8YMnr3sRDsQF+YhsDYEdLG3B0cLsPzX5JtKPmHwbm1fCayGnjpEJ6XFM39gDZfLkyNjdQtz8vcm73vWuww/+pH2FNrFX/Um5MjuFSBHi4kdiXtMmBvFlJZARZ374E0z+Q5Bfw9/lLncZY8Cn+OUozmynX5K4R49kF9fusR/D2WX1aUf8TUpfgtoncESS5n0hwybflImdhKh5JY2o+W9ICKxyflbb/JfSp4pqP3nHoOqZy9a6lCW/EshBdC7Kz6FO3yDxAeXir03aLernHLEF1Z7yRfYbjUaj0dgSbJj/rV9RF83VQM7imAUyJEOys2TXyk6PX/5bkNVbsO0ySQgMwmVHTQILeexrg9T6dnOvvfYapA5ia5GfbAe1ni42EKbYUy+FPNHJH7/I9trba1mEUptKTBfZVZY4VB/YzY927MohXZWsrIb4KLHvF+HydnW9wkZ2QwLZrf0M4Q5ZDfTVzpx4+r/tdhSDxFUKatsK5Xb+7B46JhnbxDN6+OXHQb7BZNN/DiMDsSdpk1hXHwI29Q3IADm6EoeUg3K2Ux45cB59c38rUhZdkUu5MnUpS7xSTz+ZyGmfORD5eRvnZKveyBrf6Il8o9FoNBrbAhty53St4LqURTdlFkykyOLpdarXy14tI0ghD4sW1iy8jslLdEleidcFPYhcUPOLUOurHlDHR3+mCLwO56tdR+Dz3F4wL3NOv/bikzwdYpE+bg60lxBn38Qi7R4CkBWxmetc1L+atJvvZGtT2ynLMfWrYd5en8XAD9+8Fs+fetKXKitf47MWWxVr9S/YXPmVsEhXyhyDZfYiU+sXlcGy8kaj0Wg0thY7NTkF7ktIBoR8BUhGgJzMd6ykusDKS6lDmqScS7GRc8ixYlFZ9M/zZOXpZi/6nfPbefqlPPIVKZ9jbiP5yM71zLGsndfpfAvxBcdF+tIGoiP9zNgpk4+OpLRNu+RTvxakHXvsZucv8yP6HBPrteiOXlirL0Habm67RqPRaDR2Zez05BRCbmC+4Ic4ISSOIT/k5EP4IOdpSyb1IYgwtxf5wHlszOug+ph6ZbFHf5L62K3ym4NqL3mo+bUg7eMH/+JztSHNkb7M6zI+td/yVS55NuY+z/UFi8qjP32IHSllq/VjWyN2G41Go9Fo/C92CXKqC8tIxZyMQO3yWolB1V8R3dsC0VX9q0jdtrBXbSyzV1Ftkg8hDZmEbenXor46T32wyOa8bK6z5iOb8pTNdTQajUaj0dgx2GXIabAaqYjsIrkQk8basaNjtjljvRrmvvf4NxqNRqOx/tglyCmslbREbpFMk5P1w9ZMwx6zRqPRaDR2Hewy5BRWIp6NjY1tPQ17DjQajUajsXNilyKnUL+BbDQajUaj0WjsXNjlyGntznrvnm1taLfEfzaledvtFYv0cSPtVM7jvsy3ZeMT+UVx3FaI7hq/am972l4Jc7vVv0aj0Wg0dgR2OXIKa11Q513fkgV4e4dvS3yye6ydxL+qw7m0EXaX575tLTZnLJbZnevYlv4F1Ub0GzOo9raH7ZUQv2LXefzyp9gajUaj0dgR2OnJKfctpunGvDvOKxGr9XURDubtg0VEgez2JBDLfFmE+IJEyKdt/MvnDrXPm6M/7Ry1q59PVFuL8hDZkJ05Od4cXyq0i63oyLH6nPxaUNtvTrtl0OfES6LfuaN/ApB8YsKmc2lb+bAWsBfEh+QbjUaj0dhR2LDkdC0LYxb15CuUa6s8hG3+B/mVJUGIQ84r5n5EZiX/tgXYWYuNuVz6oUy/xCF55TnfXGgj5d/ARnfqko+dWh+QUzeH8q3FXO+W6tQu82RLkNgH8ctRPPzvf8T0GMc4xpiXf/7zn8fxWMc61qZdyrTfUh82F3yL35I8P/l77GMfe4f50Wg0Go0jN3ZacqpesnBa1OdI+/mRPm2cR3cW4sggVHO79TxyW4p5++iuPm0JtNU3ST590h8xUo74VHK+VnvxOfrSNvmcswHyCKz6yKQcMgbq1urDaqh+BPLzcnlYZFcZn2qcNhfVnhgcdNBB029/+9vpZCc72XSCE5xg+upXvzq9613vms5+9rNP173udUfdW97ylvEvVW9+85tPpzzlKTeN1Y5E/A5++ctfTu94xzumww47bPh1qlOdal38ajQajcaRC//6bnUDwcK+GjHIYiqFfEnyypK36DtHOgILrDLk4YgjjthEcLPwahvd83zOk19rii8Su5Ly6IbkyUppt5aU/xdfSRVd7Pg/+Mc73vFGXXTGtuNqKf5B2rJnxy86qi9SyJn4gvPok6+xlujZksRW4po8u8tkYyt250kdpE2QNsmDczrncvosNgcffPD0zne+c/rP//zPab/99hv9/vWvfz19+tOfnr71rW8NP//whz9MX/rSl6YvfvGL06GHHrrJj4C++B2kLP0M5JVVWfmMQ2I0b0MmR7LSIYccMn35y1+e9t1339EP9VWm2mg0Go1GY1thw5LTiiyKNZ+URVWy6GYRTwLELDIhqBZX5V5XIm0hbtoH5KGSKmXOU74spT5Iude2ds/Yy6vSkIWavPJ1ZDNtK1JWE/+zE1kT7L///oMM/f73vx8ydKduLr8spU3y7PEziO2jHe1o03GOc5xNSZwzNpA45hjIb0li95jHPOZ0/OMff9g77nGPO16X1zGLfv5mnJ3zt8ZMHua+Qa1XR8Y5feqUScrY12+xOM1pTjNd8IIXHDun5JSp5zN/JHll0RU7QdUfkFHOD0h/Mw/io76S44865crURV90qeePc4mvfHOEyEem0Wg0Go1tjd3/6x/4Z35dYLGzKEIIQ0iM8tRZSOWrvLyUOpDPwqzMTpHdKAu/c6QULLbf//73x+vVD3/4wyOP2CA40RU9oCwpZYuQ+kULN1+++c1vTu973/umj33sY+N17x577DHs8hu013+7aY4IRfyITgSiQpscyWinn46HH3749N73vnd6znOeM33gAx8YO3SnPe1pp5Oe9KSbYrQ5IM9XyfeIIVN0pQ/69aEPfWjY8wobELMQnBAk8ptrfw569PXHP/7xGMsPfvCDYyyRpxOd6ET/lPo/m+aCmPCF7aQgMVamTc6N3e9+97vRPsSMPjFQBtHDHzuNjh5GQk69rqfzBz/4wfSZz3xmlF/iEpcYDwwf//jHh43LXvaym/yODTuwf/zjH0d95oPYed2eb1cjq2/mjnrlwC8+2rGlS9/pSd/jr7b0+Mwguvkpf7nLXW464QlPOGSzI8wfNuhgO7YajUaj0dgarDs5zWJmcbMwShZwCNlJeWSyGCaF5MzrLba+5UOQznve8w45C6r6r3/969PjH//46Qtf+MKQswgrO+c5zzmIm0WYLqg+bg7Ip60F/d3vfvf0zGc+c/rud787/eY3v5k+8pGPTD/96U+n85znPIOggsWejwjs5z//+elsZzvb2LmqsUj/ojvnkXGe/Le//e3pjW9847BxzWtec8QCUbnoRS86yGvVsxLISOIi8Q0ZRHTtBCMy9P3whz+cnvWsZ41vFRGY73znOyO2+nemM51ptI3N9CWIjbUmYPN73/ve9PznP38QfgSSb3aJ2fOdJHseTtjW//e85z2DaKkzLur5Uv1KUiaW9L71rW8d/Trd6U43yLb+fepTn5pe9rKXDd1nPetZh0+I8gtf+MJh64xnPOP00Y9+dHr1q189SCebyLNX/Gc4wxkGOUUmP/vZzw47V7jCFYZv8nxhX0xf8pKXjD6Zn+bDAQccML3hDW8Yc4rOk5zkJJvI5Mtf/vLRjj8IqYcEDyevfOUrx5iZf0gzf1xrv/jFL6bXvOY1o29f+9rXhhxbpz71qadvfOMbY75c6UpXGg9S+vaqV71q2meffca4G/86JlKj0Wg0GluD///23g6GRTRHi6SF3EKNMGbnJ0AWLNppE2QRD8iQtUtp19BuqFfoiIzFWPJa/drXvvYgqE996lOnu9/97oMo2lm0s0SHFIQsrBXICvArPuvfuc997unJT37yIHC3uMUtBoHxrWFsIqbAX7tpyI++QHya9x9CDNRJ9DkiIkjE7W9/++liF7vYIKV2xrLjVtuulKJXsjOK5PhUgG7fMoopfXbZ9P0e97jH9OxnP3t62MMeNuJvdxqZIxNSLOlPfKg2FiVwrDFgF5m78pWvPMYSSX3AAx4wCJXYkWPPfJLnr53Lt7/97YMUaq88qcaYTyBPLuTWQ4wyNnw76ptSR/0TCzF3zqZx/NnPfjbmlbivBnqD+ALmzic/+ckRc2U///nPx+60hxiEkm/88Y2oeS/O/EFen/a0pw1SeYELXGAQa/PKnEfi2SOHjL7tbW8bBNzcQL4Tm/igH4g4Envyk598EOXIJFaNRqPRaGwt1p2cIg4WVgvswx/+8Ol+97vf9KAHPWjsMP7qV78ai14IW8WyxTALqR9zeMVL96UudalRbsG2mGp75jOfefwCObuWdoB8qxgSQ04KltlbVK4sbelCLr1Gvd71rjf6hyCo92tt5MWuHBnt+Knu/Oc//yAIdqjskikj4xgy4BgbFfEJUURq7KohVE9/+tNHTLwiFh/tVkuQI4in3WYEzyvoE5/4xKNe/xDic5zjHGP8rna1q43dSq+y7R4iTnngSF8gvtIhn/O1gCw9dviuc53rjJh56ECcHPWfXjI5GmckDVn0Qx9l9Kjn19x+fDI3kDF67QbTjaT/6Ec/Gjoc7Yjqo7x4sBO9CLr4APkag0VQF9/s5J/vfOcbusWdbUdE1fWDjPo0wDxCQu2kGgd55NQYPfrRj54e97jHTU94whOmO93pTmNHFUF3jfHLuPjM4A53uMP0ghe8YLrnPe852tHPh+yuesi46lWvOuTMT/NhHrNGo9FoNLYG60pOLdxgp8YOp4XPImvB9DreDirUxS8L9hx0Kc/RLo9dJOTTIur1LUIA2UlD0hA/r3m9CkUUkQD19CCKIRDRPUfs1aQsfoZksI0YsYGo8ceOqZ02ZDWkOu0QynOd61zjlS4yhEDEr9hwhBwh7enTR7Yku13iiuioD+lYLc1BpwcJr5YRoJDpACk7xSlOMfTrm3HgvzHwEFAfNBIXR6ArMV5kO3WRdy7RqY/+9BEy9opXvGLEd88999zUD20QKf75VIJd8SenLr4ssqtMnT7Yef3JT34yHXjggeOIECLFdNt9RPrtaiKjpz/96Yd/YqE+Y1yP6VOOUH1mFzH2CYA83XZgfcqAPCLM/DC2PhVBmH3OoA5JJuvhzGct4uSBwacEF7rQhcbc8rYgfvD3Mpe5zKbd8PhEp+vRZyi+Pb3NbW4z5qd24smvRqPRaDS2FTYEObV425mx2CFvdnGQIDtDWaSzwK+ELOoSUmSxtnjnB0fshYAgexZWcr7ds6NIziticvEtpMLCnuScDnAkqywJoiN15Cz4kv587nOfG6+DESiJ3pAkbfiHnPLXd38hk45kYjfHtIX44Ij4I+DyXrX7lEG/6U/btaT0AVFBaBBqO5Txm4x6eTYdxd9rYjt97CJs5IyvevL06lP013KQnyO2ap28+fKmN71pvOpGwvhHNrHL2CNuvp+0++gBRTyWIXboQcjsuIunMdGenpve9KaDuCoznyQPImKkP/qrP+kTzPtALlAnBdojp/xGgJF9JBUpvsY1rjEItt1T15BYn+UsZxn68pcZtDO3xYQuZDffqCLTwI/4UH2S108Pj65Ju/0ecPSFrsg2Go1Go7GtsK7kNAsbopQfeiALvoHzYw0LIVgIEYtlOzR1Mc8Cm4UZ2Vy0gCIsiCKy8dCHPnQQN69l7byxFz2x7QckiHOITCUPwEZSkDzZEBMEwY6ubyPtVN34xjcetvgD8hJ5O1highDGp0V9gdhwjO+OYuvo+0o7074zRBrzynvej5XAR+OjLVKmL9rzKfZBrNh45StfOb7RvMlNbjLGNzYRfrok5+T1E9mB6IzeRVA+T3YMfW96n/vcZ+xo+iQCcavkUDKO/Ees83kDX+L/shh7pY/4mTceLuw8IqF2JRFRhFF/6SJHPv2AZXojU+vjS/pmHiOodod9VmGn2M61JHZf+cpXxreu+sU2VL308Vvs6au2ks94OM8cIi9+seOByo+51NNXY1Z1NhqNRqOxpVh3cmqRQ/iuf/3rT3e84x3Hd3qXvOQlp7vd7W7TRS5ykbFYBuSzWFdkYQzhkZBTcnaMnEdGYtNCKyEqSM0Nb3jDYduv25EoMto5WoDzYym7SNnBjS9V9zxp74gIWcz9GMUPVOy03f/+9x/fY8Y/kKdTO6SY7fiRuorYz5Fc8sij/tklQ1j8iMl3lsgGUhb5lVJkYiMkJzvP1R9x0U+xQr79cvxWt7rVpt1a/kQvPdp6EMmPeLyCVhaZZSCTlH4iuI4I/7Wuda0xd3xzqZ/iSF92+vgiJe7SItAP6umg33jZiTSOiKIfuPmu1oOUhwifTwAyzl7VUe2wLQGZ5CPjWNt6WEOCzWu7mPwxpnYxEWQ/wPKDKd+NIsrGB1Hlg08QkNno9KBil1XM7KIqk8hKIF7KHH0aY67e7na3G330pgExZyM+NhqNRqOxrbCu5BQsfhZar2Dvete7Tk95ylPGjzbsKNp5svipXw1ZeCX5LJxeXWYBdQwp8M2e7/SQFPIWXYs4EqAtGfJIFELgV8p+sOU1NXKmDfBfPuc1r310OCJhvof0gxWLPVJjt4tdxCdt2Uby4juCWfVH3yJoG/KMfNtx8zrWq2d/Tsgv2v0oy4+IYLXYxi6b8Q8Sx7k/CObee+89vku95S1vOe21115jF9WraH4gP+RBHBEqf82Mb3Ye4/+y/kF8cCTvm0tkiW5xtLvLprFhK36qdxRXO6r6bqyVkY3OZeCT72ntYPqEwNyx8+6IIPpsgS8IY74jpo8dtmPDkV3l6iMT2ylLHoyleeOob/RLecMgtn7kxB8PZGz4U1LG+ROf+MQgr/xH1hFrO62+vaWDbXr1Yw5+IrlI7+Uvf/nxYyhjaQfVg0Vi3Gg0Go3GtsK6k1OwAFvg7ORYUO1OOUdeUm9hlerCvQwWTAu5RdcOUUiB9oiKBdovle9973tPj3nMY8afPPLnnRCOi1/84oMMkgXySKwfz9gps6DbbUIe45NUF+i0jd+AgCKmdl+RC2Tsvve97yBmfmiiPZ3sgXbaOCI+idEiVHshQuBoBw/x9jofUfEQgLAi/mzRuZYUG9ohYXQi7dUv/vt0wN9VtTuHeD7iEY8Yv95/7nOfO77VZDOxMw5egyOWfOJfHSuJfgnmR0CQ/KDNpxmPfexjx5/oetKTnjT0+rNZ9EYPu46IqXbqzDk+pX85zpFyfbfTbg5kl5JOvvtG2Nyxo0k3O6CtuZyHBvYQ5MQBxLCS8sShxh4xjm3zkC/II3LKPhIpj2jyiW/eSPDJA59PV8w581CdHWbzgQ3+eWPAJ4jN+KovHqbos1vskwm7xHZkq4+NRqPRaGwtNsR/iIL5YoxYIVoph0pKgFxNqdeGHn/n0oLvMwH6lEWn3SXfJSJGyCcy4U9L+fNIFnz6yNNpd/P973//+AGKvxcacho5CcjGj/iSc4s/wuYVO/Jg0bfLZ+fL3x/NDpZyR377O5Zekd/oRjcaxIBNddFdEdvxOTL6mT8b5I/U20GjG4FKm0X6Kmq9OPo2V9z84tsuIZ8TczunfESk4ovYIjT+S5K+A3nkG7HUL78AR7i0UTf3Kb5CPSqnE3nik3jps08JrnKVq2zadZb4qe9+VGT30GccfrkeW+wG8tWP2DTmEpLuQUa/wFjaeWTv0pe+9HjAil2kT73546EJ2dNPbfWZT4g6susVOtIJ2sanmkco/arenAB2s4vLJySVvHHwmYMHPn23o0yHX+/73II/ZMQOyURwxYR97fnFd+XGWrnvoI2t+SwO+qk88dGu0Wg0Go2twW7/WFT+d1VZR4SQJG+BW22R47YFN0m7lEsWz+c973njxyNeZSNjSEF2FUMA7aBpj1QgNdHriDTJ+484/saj72D9uEdZSCK51XyNHGjr3MLu6BzUS3wSC4TZbi5iZ1cQ+VC3zG70pyy6xUUf7Zz6BhMZvvCFLzyIEJnEfS2gjw92ev3YCWm+2c1uNoiN/gCdbPInuh0zrukn+GGNPwZvN/AhD3nIIDlsGKN5/yDtM9bOxYN+7bzaNu7IqvFUFj/kga/G0g+a/HDKd5z6FP8DPmgnVT/oo8tc0gbpVCaBOvLxTTn9sUEfJB7O5eOfcY6+yAbKap/oT3liHp2OzkFevfmsrPY19uNPdELKtRGP6MyRL9WPRqPRaDS2BdbOTLYj6iKchXVLkHYWSwTl6le/+tjh8l+nsggjCRZWu0WOdoIQNouvXaKUSyEXFmE7R3ZV2YgddYuQ9klZ4ENAAIlCcPiTesfEwut//nj1ijSTq7FZFCP16Sd9kREDevxhdf+Vyk6avpGNj2tJ9Gnnb8FKCK/dT4SKTYiclLLaR1AnFoiiXTh/O9MYqE//0xeyNT8H3cbM0St6ZJ4/ytjUJnbBpxl2wu0w+gU6wkam6o6teTk4N1eMCTspi5y2YpS5E3nzURmkn2mX/kmQ8uo3LJINal0QHWLjyF9kOiBLhl8Ia/xTlnK+h1SnPGNZ2zQajUajsa2w7q/1txUslllQ5SVExQ4aouJbvLr4WmzJZHcULMR1EZZHeOwyet3p1buFuS7qkV1LgvhJR7VVdSGudjl9a+pHKCF56lZDZOlmyxHsKlYynPLqw0opfvPTZw1e54udV74+VaBXPd1S5HOcJ3YRUt9p+i4WadJOXUWVp6vqi++Jnbr5WCrLOf2+QSbr35361X3q0h60S/tFmPsBtX3KUxf5eT7zMajtavsKbef1jtFZyyHn6jMu+pXYgbJF7Ws5pE5KXZVvNBqNRmNbYEO81t9ShAhJkMUSQbH4IkwQEqBM3XxRdZwv3PI5j77Ip702Vc+WgC6oOtIf5I/vIVZrQfyJXn6nb/FXGURmrSCfOPBNsiMY39VXmZynHuRz7phdvcjP63OMLillFfPynFcoU288s+uZsuSB/5kzczswt7U1iP3qB8zPG41Go9E4smCnJqdcl5CuSrjkQ8gQkbyWnMvOyYCUfECGjhCaEImktRIIclW26kk+5SGROdb6lUAuR22T11afUw/qo38tiH3H6IvO7JpWOJdW81s9Ihi9aRekfephWf0ikOVnHjCked+R/4AedelbRbUxr9tS0ElXjikLtpWdRqPRaDR2Fuz05DRHi7i0iHCFbFTMu532QXQGdMC8bG5rGaJ/WbjVzfWtVXdAd3RUffqeupCu+LFWG9Vv+RrPqit5R+dz/XwIaj35ZW1gpXrlyzCv0zZlOdbX68qklezMy7cGsZVjymBb2mk0Go1GY2fBTk1OobqfRb7mFy3wy8orQuQqQvbSfjUdc6xmt/oOsbcWO/O2Qcod5/3ZUqy1H7DMn2AtfdsarGZvpb6s1s+tQXRvTxuNRqPRaOyM2OnJ6ZZgSwlBQrWjyMS2IC7RsS10BdtSV6PRaDQajUbFkZKcNhqNRqPRaDQ2JrbNe95Go9FoNBqNRmMboMlpo9FoNBqNRmPDoMlpo9FoNBqNRmPDoMlpo9FoNBqNRmPDoMlpo9FoNBqNRmPDoMlpo9FoNBqNRmPDoMlpo9FoNBqNRmPDoMlpo9FoNBqNRmPDYEOS0/p/Adb7fwSwX9PWYq16toWtxo7DtpofGwU7oj8bNV7p+zL/VqrbEmxLXRVV7/aysasgYzqPUy2f19f81mCuF1JWy+cyjcaujN45XQX+TWfStsCim1COi/KN7YddOc7pm/T3v//9/9fPlfpd65bJKV9JB6xWv5Zraq6jnq+mfxEW6Vump/oXucimrrZdpmcus+g8ZY6LxmtLQVf0zdPOgLmf28P/RTZWwrayHT2L5lmdX5IxXAuic3tge+puNObof1+6BMIiuUnUm0eQusaRB2sZ840yL/gBWdR23333TWX8W+ZnZCpWkl8G8rVN8ivZ3Bz9W4JldqqfsJIcLPMzsVYfmbSB1B/lKEcZ9avp21pU29vTxvbSfWRBjWHGbD52kUk+5XnwkDevIOeNxs6MXZ6c6p7kwnV0MVuol6GGY36Bq1tL2VpQF6rocJRyk9lS0BH9K/W18X8QM8g4LBrTZeWgLvUr6diR4IN5wI86p+a+roTIOcJK8pFNPmluZ5GORW3TTh4Wtauo7Srq+aL6OVayV22kPvLBMv1Vbp43PvN2uYarrY2C+O+4I/1jL6na3d72Y28O5ZC6Kjevg0XyMJeJnpXawjLZRmNnxy5HThd1JxcvrHYB1/ZVtpLJ4G9/+9vCRWUtqD5VxP6W6JyDz6sR3W1pb2eDvs/HYWviUPXluKPjyi5Uu8rMhTyoVD/n/qU8yHl0wKI5rx7m5VB1wLK2tX4l/dE3R2SClXSshKp/bmtel6OyeTnUupRHbhnIzXWuN/hj/Plj/OPjaveXbQF2oMaCL5mPidO29iVjMM9XJA61ruZT51jPK3I+r0ubuTyoi7wkFs4XXZuNxs6IdSOnLibkzoWUV47O4ahHPepmXWC5adKR7qS9Y+qArAvYcdGu4rx9dObGJx8dkdlI4N9f//rXTf1O4rM6fY7fziHnuwoyRvq10oJFLnNwHptFmMfLefLsiTsdi+bVtkK1WfPgXH8c6zXEN6n6VdtVaBu9UvIpr3VShbqKyILYwNGOdrRxrLJzPWtB2ue4yJ85qj9rAfnaZlnbxDdzKX2Ur+3ja+BcO3O0ztPYBeVVx+YgOrak7RzxKbqW6YxNqDLz8rX6FptimzlUr7G0F0f51fRtT6zWJ/VVZnN8JxNENrFpNHZF7P5f/8A/8zsMuUAdDz744OnXv/71dPjhh0/HOc5xxo09N+yVkIv1sMMOm/74xz+O9tKf/vSnUZZziQ03s29/+9vTW9/61umYxzzmdIpTnGKTH5CLPSk3gKR6A6m+OY88RGfOod5YYN6mYq6ryizSXcGOm7h+vuMd75iOcYxjbOqn/vO76v7LX/4yYiePzMRe7MAyW0Fk53KJV0X0r5RfhmV2FoFM7esyqOfnoYceOuaMeM3nXbVb9cmrk4444ojp61//+vThD394zN+TnvSkYxyC1fyoSCzmxyBldU6l3pH/6Ts5ffv85z8/ffrTn56Od7zjTXvssccor3pzDsqqPim2qu7IVKSs6obf/OY308c//vExL090ohON6xwW6Ykv1Z8gZfUYfyDHZe2hyszrgtTVBFVeTCTXz3777Te96U1vmj7wgQ+MutOd7nTDr6oHal7dj370ozFnxOckJznJdPSjH32T39oH1S6s5DsssrsIsbWariA+RV7donmYNqnLee2TsrX4l7a/+93vpo997GPT+9///um3v/3tdOITn3j685//PK67n/3sZyN2rl+6VtI393GRLL/nsvLzNot0pAzmuhed//KXv5y+/OUvT3/4wx/GdVFjLMV22tbynCfOkVkLorfR2KjY4eTURYEUHXDAAdOb3/zm6cUvfvH0tre9bXrve987LtIQx0qW5lBu8Uc8X/nKV07PeMYzRvt3vetd03ve855xzPk+++wzffKTn5zOcIYzTN/97nenZz7zmdOZz3zm6bznPe/wIxd3bgryiFy1yxabZBwjH5kcyaVOPjtp6iMzv5GQi97YAHLO01Ye5NWlPdAR2/qECLzgBS+YznrWs07nOte5Bnly80PSq9199913etKTnjTqxYO/sQmxuagsftCTsiCyOQZpU/U5lyDljsrkcx7IRy66grSzaFnMHM2n1KU+tvm+//77Ty95yUumj3zkI9PZz372TeQtMpB8yut57Fk4X/Oa1wxico5znGPorruXZMG5vPp6XnXnfFF9IJ+5oo4+fhhnhFSddMghh0zvfve7xzVmPpzxjGccsualdvMY0quMTGzO7S5CdOTIdnT/4he/mF73utdN3/jGN6YLX/jCg6Cqg9hwHnnnjubjPE4QGSkxgNSnDlKWPpGv9YugrvrjqEy+2nCtGfdnP/vZg6DSLb5nOtOZxtinHbvG5fe///1oL/bgoeFlL3vZ6OcFL3jBQbAyNtolVbuO9IK6isilHeRYdUBkJPrqtZ82saNf/ELEbSQ4KguZnreRV59Yx25kIW1yPgdZNt2b5H/+859Pr371q8dDgPic+9znnr70pS9NT3jCEwZh9UDovp5d60DbpNib9xdynMsF6ReQgXqedvqc+iD1QeTMiTe+8Y1j/UKyrVGnOtWpNumI/vjhvPoB0atMqrYiF12O2uc8SL7aaTTWG/93Z98ByOR3w3nDG94wPec5zxkE04JlUbeL4GbzzW9+c1xAbiBzKHfTcgFJJzjBCcYFjdCe/OQnH6T3i1/84rhxKj/ZyU426jxVu3FJufjoYcP5XK9zi098cMPIjSGLC3kpeeVS9NQbJX3pv6OkjF6Ql5KP3fgCaZ82zsk5KotfNa+9GNsxfuxjHzt973vfG2XxO7rjb/VHWXwVC0dlwC4dFmFQ7zw+kYvuwLlEhqx8tQfxS7l84pD6+CMpI2M+SeDcDp0bPkKWxW2uK/0JYldd/Et95CMT6GPi4cjn2Ep5/Azk54m8Y62HtI0/+hLdUuTA+YEHHjjIjgc+5DyxdawPexKd4qFMvfkS/6Wck0ubZSBf+yAf3bElRZ96R4je6oM6bV3D5mT0R9Z5dEZX9KUuYx37jiGMEjkpoEdKefRWm5FPHlFzr2Hrrne963jQu/rVrz4d+9jHHu3S1tsc9zZz8jOf+cwYx+jWR31OGcSXnAexL07q2HWMHH10VWiTevnojS7QTmzojXxiIc838/8Tn/jE9NCHPnR63OMeN4h1YgzRnX5XG/GJfFJ0xrcgehy1q36BvDJ10SNpE0RHYsofZeRzTk/0Rrdj/E4ZaBf9yp3zPfeEtEk5KJNqPvrTb0dzyLXqHh3/Ipc4RLfE96DKJh/Z6m/6H5noiD3Jg21tIzUa64l/vZNtR+TikH7wgx+MXc3zne9801Of+tTp4Q9/+CBOd7jDHaYf//jHY6czmF8kLiw3J8kicOMb33jshloY6Lj85S8/COl973vf6elPf/r0tKc9beg/y1nOsumGErg51XPIQuHCZUO9PMwvcrJ0gHz058aZCz4J0p6MRGfO6ZJ3o4p+x9inIzex3HgjJ6/eOR9i27n8T3/60+mrX/3qeH0dvRe5yEWmJz7xiWNBjX/RExl5PvKtykjK+SIhEZFRDjkG9MVnsYX0hyybjvqmnC46a512ytJHCImJT3YLv/a1r00//OEPR70yKX3LEey4IBYPfvCDp1Of+tTDN4k8mxCfteFbZJSDfOIA/JPXh4r4Ed38l/TJefRVGXqU05kYsFfl1JMztt/61remr3zlK5vmUFL6HV/1g77oio6AX87ZJaOerSDtcqSLzoxJZGOT/ehT57zazlE5GUf9cUwf5dmR0l5enfngWHUE5MQDSaQrvjmqkxLf6Mg5n53HbgV9iIVXzBe60IXGQ3B2E+MbaO/Vs+vPK+mUpQ9spR2dtZ/K+BDZ3GO0kZRJkGPgXB+1t9vpuqCnxoCM+txP5n1UBmzavfzCF74wri27wMZaOV1pJ84Zt+iu/tdYaptyCaIrfnsLwLf0VV65+ktc4hLTgx70oHF/d9+3AZH4qBfT6FAG7PGbj47kJIgPQJ4Me67PPCSRTV/TLvogD/i5T4E+0yPRoZ4f3tLc8IY3nB75yEdO9773vafznOc8m+4F9IB48l87+uiKH/L0kJfojx/OIxt5x8Qn7VKf+RS5RmO9sUNf6+dCsIDaQbjWta41XfrSlx43Ta9fXRyf+tSnxs3ezSYXf45zKM8F5WKT6P3+978/Xfe61x0kNTcy+M53vjOI79nOdrZxo33pS186XoHLs3nCE55w00Xr5mu347Wvfe34RMAnAW5+ZFz0wHb65AZCjr5f/epXY9fOjfz0pz/9dKxjHWsQJZ8YvP71r58++tGPjtfJvjNTR58bhh3jt7zlLdPee+89XjMj6naGJfX8p5d/pz3taUe/3BjtaLB9/OMff9zw6Pnc5z43XfziFx8yXlt7BWZh1C+vk+wqWzD55IZIn2/gvDb7yU9+Ml7F6rtXwl7H0o3I8UN/PfF/6EMfmuyAO4qhXWv9V4/oBYmRnb23v/3t4/MN31qJRc71ia/s+VSDTv6xa2yMI9ti68HmVa961eizhdJNmW/6RZ/vbbW1IOsHvcbqne985xgTY2En2UMS3XzWRzHh1xvf+MZB5kM2xMw3m+973/tGf055ylOO/gR8M6ftotEhjl7xm2sHHXTQGD/94D/yQVacpQ9+8IPDD3a87uYrfdp5ZcwXftNtrM0Z10q1r9/mlLlj7PXb/CLvGkCKlJ/mNKcZu8rG1XVGLnPQvAdjLzbmIP+NKd99r5oxmvfdXGDfq3vziT362KZbvdfePitx/ZDVLySaLmNnMaabT8ZD/PihnTLz2jd54mcMxc3Yut59HmS+u4/QzyZfE0f9ME+9/hVrc4G+XL+5ntM3vpvP5pc56ltScVNPP93mnRh99rOfHdeV+WZ+i6dY0UGXa1Zf9Ykv5pJvTMVUv/TPeCIhrm3z3/xRn3uNhATTkRibQ/HHfYmtOja5p5jr+qGNOeycb8c97nHHnDM2+ueaknc9eOjPvUhcjZsxFXPzSv+RILaMMfveyPDdtWd8XU/qzWnyXlsbJ/01bmTyHbQ3XmTiN//MQ/pcz3ZpnbsHs2+j4WIXu9iInzkknuyYQ+7Z+mo8qg5txdl8Vq9M38wnfRYLyPwyFq47/ho3c4qvYiSePh9zrzBW8hIb9Jhb7qnWBDbYost92vzjp3EzPtpI7LrfuFfovzJ+iqd25pFy9frh/mR8jJ0+mZ/suEdl3eAviI/rnbxxdj24j6qPPdeRNYff4pHxMKcajfXADiOnmeQWBDcSxMnr/HpjdQNDShDWi170ouOiIT+/QCIPbmYWoRzdwN0Arn3ta4+bHh2BC94FiLy6mN08XMjKEBzffbk4LfYvetGLJp8duLDdiF3QbpJInG+D2HMBs8kfbSwcL3/5yweRsHjx/XKXu9xYtJ7ylKeMGxTC4MbgpuIm7TtHCwV5u7/6T5/FyA2cn74btVi5wSCafDj/+c8/bPPNDczN1E40MmzhclO95CUvOW5k+scHN3M+0+W7SLqf//znjwXVWDh/3vOeN+SNhYXAzRhJkuertm7Wvv/yrZ2bpDhaJPTJjd23X3wRI+OUBcfNXHws1mw5p19sxUzSZySDDXmxsqPArnHjnzi7mbu558c+bqhIoxjxRfzEx3iKCWKjrTiJtTmi32KJuCDvV7ziFYe/buIWOWROWwuzvlrszE1t0jfgh8WYv/RaqC3ojuYjWbGzKPH3f/7nf4Z+Y4GsaGdumlfmrJjw4YUvfOEgE/QbD3LmFF0WQeXmiviLnT6IG6Jj3BFlOs2HEBN22BR/c0RcLPZihZA861nPGrbF16KHkBgn36uKF3ugT/JkxM/1gtBpx1e6+Uq3a4h9/qlDHJRZEC264ulhhi5z47nPfe7wVXz5K4b6SpcyJFNsjDVyYG4aI/r4ZP6JjznvAcA1k3nKD/MDIc4PlzKOIM8n/UGmEE/XtnHjv3loXrhvIA305h6DcBgbccriLibmt3ib1+JGBznXrj7wXT+NO3n9kPf9Kl3GdO9/EGH9ML+Mrwc67RAh/Qi5Av4YT3PCeCL6xsO1iUybq+aiuIuR68l1oe++5RQbfmlrvJBVbY0DvcaCH+A+ZDxdH+4J4ssv8vqM/LCDpPncxL1ELN1jjLf2xjXgg9i6T7ziFa8YsSBPJ3n2bS5YH/TDpxJs0iFW5q6HL/10jemHcZPocI9C+vgjPnxEsF3nxgN50xfx0AcydJkDxsM6oZ/GQ71r0jwwp/jp2jL/kNnoYo9tSX/cF9yrkEPz3X1J39zn+GKs3JfZkHe/4q+xoFc8zVHzAVHmY/pKVl/5KU6uh3xCZ23RX3ETM+NGl/loDbE+8Uss3TczHo3GemCH/yDKZLdwugjdIF08bqwuaguOi/Tf//3fx8IachFkYYRcNI6SOjdlP/Jx47ze9a43bCizUKhHblygFux73OMe0+1vf/vxBG6BsxjKI84uXDdHBOsxj3nMdJOb3GTcmCwy/LzMZS4zfKeb7xZhi7IbCdt2fe9zn/tMe+2111iw3PzdPO54xztO97///acrXelKY5Gy8Ounhd9Nxvmd73zn8YqZDjIWYjddvripuSHyMz9gktxs+M8vCxUyIg6IFFvaWuzcYO93v/tNN7jBDcZNzsJqkXNT9FoyO1Fw61vferrXve41CK7F0A0PoRUHN+tXvvKV40Zm+tzqVrcaN0L6EGB+INSJPYg/wugGSt8tb3nLof/KV77yGGOxFUf9Nzb6iMC4CbtZIgTia2eAfna9EhM/N2ek/wpXuMJ46FHmJrznnntOD3nIQ0Z7ZJHfjtrd8573HPJsixU/xdzN2qJBVn/MFeNi8dHPq171qpvmG3/BYi3m2liY7n73u4+5JV7GDAEQX3PGgmUBud3tbjfGgj4+WNjMPQ9IFg2EAil49KMfPd3iFrcYP7JhA0E29ua2+cEXepEdxILPCMEDHvCAESd+WhT5jwiI7c1udrMRT76JmwcTY2WhtAgae+2RdeXibh6bJxlPYJsOBBCp9nrSuJoj7Hmw4Ks2YiMOPiFxbXh4FD9z1+Ko365Du6X6Ztx85nOBC1xgkBXX7jnPec5BnIytWOiz/tzmNrcZcTdXyJmL+meu8c04+FbSJ0BIsHi4jvVHrPSDj47KkQljbn64Xr2FoU87Y8Oua8q8QozNF/G6znWuM+KUexad4mLsjZVrw71EjJQbK3FxP1Tm8xLXrOtELOg3/1yTxkZc9cN84I/YuV/qr7kDxls/xB4pcb2YR/pCN4idduaU2Jt75hV7PvXRB/cT5ZCNBH2gVxv3NvfYSmzYydsw1wTCzR/j5v5Dn3sQ/4yxGCKZ+kI3uJ8hwUimOLiGr3a1q40YizXSRZ927g/uS+YRH40tAsd3Y2DuuKb5RZbvHsbcc8wJDwvK3cdcO+ay+5p55P5l3MXWfdG8cl/ht7ltTtpYMW8vdalLDRv8tQ7wz7qAXLqejL+57Fqgi34P0+77fHVu15SvkLdr7tHuDz5fcM/knzjSr390O7e54X4pBuIoTq5b/Rdv+swn4+K+I07sWqtcT/S57+kLX80lc7de643Gjsa6zD4XUHZ9XAAuIE/JSIKbt5uWi8uiG+Tm5ca2CLWcTrrBMW3BQuCCt/C64bkhW2zsqnhydvQkrM3Nb37zsei5obnw3RDdpCxQWYDIsSG5sbrR3fSmN50ue9nLjqdxCzLi5WZ4zWtec9i0MFmkySJWbPI5u4HybiBuaH58kF3S9FFsoJ67aQfKQ5zcJN1s9IGPdlrczOTZoVd7bSR5NygLjxumBdFNjqyFW4wsiuwhOcirG63YiKkxoxPiH1vyjiDexkB8LL5uvki1m+NVrnKVsQCoY1c7dsXbAvKIRzxiEBI3VbF3U7VomEPiZ5GwYBpnfZa3iADfEBLklG464qP+0EdGvC2ySJD4Wyz1k2/iQC7jnz45WtQt2uLggcJN3yInZkgx3+jwne+NbnSjsfjw0yKFJFk8zYXoDMwZC9ejHvWoQXqzM8cH42yMyeivMufGxHn6J0b6ZB4bV/0XYwuq+Nqxs9Cb7/ogNmKLGGiL0Igx3+r8cy4ekrlrbvHVd4CuA/ONHL9cAx6MjL/5bUFlh31jxx9ji5gaJ+30gx/GRwz1G+hFMryZQG6Qr2tc4xpDzmKPdCAqYK65zo2PcTTPxBoh47/ElmSXGAnVZ2TT2IiXcZPspNKvP8bTfJE3x4zl/J5Fp7Ex1s61cZ55pBxpcD8QE4QxfRdvhJY/Ymtc3BuNP0KkH2KHaEKdN0iQ+UuP8fBNo7h6wGIHWdEPpCdjB+ZTxtTRtWxMxVfs9M+5h15lyBGyBvphY+Fud7vbePgwdmKMhJszkrlpnPwewMOM/vCRXUf9RZrEWSwQ8Qc+8IHTXe5yl0HuyAR883DlKJ781Q92xNBDoocG9sSMP659D//8dD/RRpxdB+KFtLlfkvPw7B6s3+YVckhWbNjkDxviqr/aIbxJrmX9Ytd94PrXv/6QdQ/z4GjO8JXP5j+dSK/7q7x5ywd9MG6uD/WuRf3OuIm7B10PUq4Hc8y1Ipb65f4jPq418bbGuj496HgY4YdrUltzg2yNc6OxHtih5LRO+CwyLnq7JXYX3fztILgBumlEZo5FF04t01YKokeZhSSLgxuAdsrkJRe712hIpVcynjTdoFz8SIpyT6agreRGAfS7GVlwlLnxWCQtHnYR3Jjsnt7pTncaBMWNxs3dTcZCgwh6nehG7MddnowRtywKbiL00wvaBfzIguKYvJR+Ar+UWSQc9TdyklhkN8nYsKW9o3N5N14LlAWcHTpATKMHYhPU5ZwNeQujtvqkb3SSy4KpDNy4tUESEAC7G2Lkxp2/7kCef2zH35Q5QnQaHzdsdvghaccPR6QO8UHS6ba42EVBiOiOHKQ9/+jVB7b5nHpgm14k3PyyI28u2Cn2ahI5jL8eXhA3ZRZmi5NXiYAUWEDo5UfmtrbSfKwg/omdMnNAW0kMlFnM+GVX9z//8z/HvDdPfWpi0UaCyFaw4wFLnCyofpxi4bdTI87IizGjn2/mXK5tiU/8Nwfosrjru10jP2h03dHprYN60I4u5+mLvtLNF3YtyuaohRk5ck2JM0Iint6euC71WWzopE9Spi2/+RKb0S9mrv9cR1Jk6pHeJH7mOssY5VoBPicOoFxeQobcc5BN38iLibFxP7IryhdjA2zRLx7G0r1FvD1weOBjB0lH5vmgXlv91i464lvKk884KdN/cRJHPipHoj3MGTu7qXQbCwm0c33YDfUA6LpyzcSexHdj4PpEKM11sfeQ6frTnyDtMr+MDf/BtUa3Mnmy9IgDHxA4CdjUF/Fg17yxU+3+4g2NHV/1Ysq3XDvuk64ptusYuk4QQYSUnLdfYvL4xz9+rAOIoBjkXgH81hfxFDe+k9NvfbaDy3f3FWPOz9xH6eEHWNtyndPt4cpDsnNvBMz/fEZgN9ymQvwQB/7zo9FYb+xQcpobneQicIPzEbdvzCxwFhC7G/XmHVnH3HgWIbI1kXdhO0ou5pSDm1XKwQWaxL6kjg7JzcIuhItZO/Vk3YCA7rRxs0pbZTkqY9cNxI3BDcI5coqQ2o0k55ssO2V2F/KDIfGLf2y5mYhV+pSjRFZK/7RPeWQgx4AO8QZ+5UacmKiP/fSbDud0kwmUScHclhglLvqS9srU0c8X5Y4WCfEwZ9y07VxIFi2Y98kxiwbQE78tTMYg/omRcjJiqu8WNefyFiL1tX/RF3uZp2ToUy5PTsws0l7rI9QWciTB+NvBsRiBvlvY7JTY2TAv7Oa4RrwOR8wtXnRKEDv8q/POMT7GB+VZyLSLTPWdHuXAL7usdqLSp9iTPKDc9ra3HaTUrozdOL4i1BZ4xIU8pB04suceIIEdM395A5m06yQuSIxFmSz/oyNHPkVXys0li7g+pS+Oue6QNTtGyHB0BsnP7SRvbkjykRW/+BAk3jWm8lLm/Fw3mchWVFtpo0/pB5LHnhQ94Jy9xCj1UnyJLm2ig981LtHB7/gI0ZM2SLSHG3Mb0UMuzeUg8sYlD0WB8hwldowXkE8s06eAztoHqcqpj4xU6xwznvQ7KmfPg6G3WvpjPpmDuR/EbvTELtCjvfuFXV8E1/Xj2vfplr9O4x7msxHzPrEE+rSX6E+f4jvEXvzUJqnGS3t6XJ8eyrxxsRPtrZ9PJjxE2D316UvuvfSyqW2jsd74vytjB8AFBS4EF4CP43347XXff/zHf4zdCotKLnYyUm4qQc0HyiLr6DzJecX8ApTPuRuwi9xN1QLrj9l7BeXHARZOT9KIdPS6AUBuEModA7qQWTeo//7v/x466POBuh/GIOSedvMNk9dvbPkTWF7r+CbNzpEbZ/SLDeRmkj5XOCcbxF82HN3AoMY5eumU0pfY1Vfl/HVDs4sA6nLzzA1zJURfFqf4qrz6UWHnAkm3s2D3yA/MkDXfR9px5k/a8cU40kVnFh316mK/Ij6Q0QefmNi5RmC8lrT7kblJLjHP+EN0znU7J+dVpVfniLUFCkm1k+GBxA5R9NqhseNnnnlAMV/IWRx92+f1IizrR5BYps9BZPgkbmBe8MsuvXlqd8UcdWTfLm92EhMrOu3iICVeLcZX3/OaJ34prR/kk9KeX2RyVOaTGeTWpwR2bJFzr/m9buRfhXauLX0L7CYZa/NTEi9zA0HQF7655lxf3mKIr/ZVB/IqIccIVOKrr+agc9cz++A8SR8cxdUxetPvQF3GRT5jQ05KO+UeDiQ77l4hZ1w8AHizg2DYhaugQ//zSYWHGePsmrAraB6ynxjV/se35NXF//iqf2QyZ8SDbjvlfLJz7r7u7YCHFuNnrLSJLuf1GgV5c0GdPELnmiMH82uttgPnyjOvlEvJa582+pWkLn1hC6n2ZkY//DBKzJ/85CePeY3ggTZsxYY8sC25JiQPdeaaOWcu2+DwSYXfNSDw2vJJkk883YOME5/py04/f80HZfL6JqUf6ZN6Ot27jLnr2j3HNYCo+kTA5wHuc+IcfYlho7He+L+70g5ALmQXgCc2F6wnO09xLloXpB0tF1suWDdWF6YLx0VTb1ABnUEuUBcbhCxp65iLuV6A2rgpaePCt1tlIbJ76eboJk4ncuSVoCdeesFNTV1s1ovcQonkepXm+zfJgmF3OE/SdLoJuZm7kXvt4+bIB99K8QcB4KOFhE7fxfGBz+q8emZTvwLnbvKB9vpswZWPn9o4B/XO1SlL3JwrF3sLtxubvG9z7YzxwxghFhbBtKc/NpKX1CfeoN65usQN6Ihdie/aiKGjsXGDdQPWV+3SF/J84b8xcoxPkQliB9i3eNidFW8PKHYE/akY3w6rh6ovebGhp+qX1zf+xSfnZOkSN4TVmGqrD3aIvVr3oyhtXBu+UTMn9NncAXbnUGZuhnQGdNf4Vr/UeWWNIPt+0I/ulFkk2dJvO0jpu6PEhuv4YQ972PjxDfAVSbHr6RrK99RsZYxBvyBlzpFLvrPLL3PcQ5vrJvMqfabbjnKIlutA3PTNjrRrCDHlvwc88hZ+/aaP3+Zuxi+wQ+Y7aHYt3Pzho3OEgqz5zxdtHdXzgW5lkvOKnIsbucRQ+9SlLei/OrGwQ2rue1jis/sRGBNjg3xET3wwnu6t4u869Zrdrr2jXcH0M6/Wwc61T5cy10Na6NRvevnFF3PWpxwe3ugBDxfK+Oia9FDt3gR0QPQF8vVcf42fnUf6PIzxx6/snccPSbvklUspi97Ui41U65zrjzIx0A/3a3PKrqkxt/64HnxCIW4Zq9iqNqpu93E/ZvQdqHljDP0OwffTYuA6NlflpbRV70FEjK0P+TNUHvTENOPGX/Lxv/afj7nGzRkPML5zNV9sBPlkKG8jzA9z3PWBLM/vG43GeuF/2cEOgAvBzRj8GMEv8+0AuYl6zZDFJxeXXUM3V69BXDR2jlyUdLgYF4ENF6WLLYsffcohi3bqyNY29Lro3UTcpP1JEr7mdYhfLXuN7FWsXV56tM/NgW+ObKYfbv5+COWm7enbAoosuVEo86MrC7pvityA848E6LaA8suuqzbIg5h4mnfzciO3SEhuqukX1H7yD9HyJO/bXjdcP4zhKwKg/+CcvZTlpqlfdLkRenjgj2+ZLHRuavxCEt3Qc9OkKymQjy1HuqPfuaO2jrGpXDt2jYObup0MBIOvxsQiYsHmi/biIl5Iib+6YFcPGaRL3yrYodNNWr3x9ieE7PjZlbWLR5dF1k6KRcbDBt/YytjzJTf6QDm5jAW/zHdzy7xG4NgzJxAMizpZC5QHGOOszDnioD++H8su6zzxU5zERL99n2oxUlfng/Mgbel0zXlTYHc/O7z6jQT6IZNdIDbI6zdSZiFFJFzDCCLi5rpGbrySd52Yq+xL4h2It3hJrhVtjaNf2IsL+3moQ4LEIvPBHPatOiLBd356newbbX6Kg0UYsTCeFnbXGR8t2OYvEkQvsE+v68j17/p0j/LAZSzoMQauZfcA/QcxNaccE8vM/8TbdaQvyLdrBvygiYy+k9MG6JXXT0m87Yy6tpA0DzHmgG8GlSHgYoxsQPqhb+4j/NcXY6KOr64F9j10GTvzy3XrwQQB5C+/jJu8cTPWCL/xEUsxdT/xytj32ey4n2nPZ3b014OKeWDcM9a5boKcO7pPub/6CwW+Pd57773HOCdWmTP0KXNUlnO+spu5Vsv45JydtFPnqMzDn11e80+s2ddvJF3MxFh/6phrR6c8v9xL6DYu7hPi4lvhvMYXO3PT96jWBva1A36Yy35Q6Zoznz0ou+/yQVz5Z9wQZfpCciExpBPkM8/dc2wGiacdWNeBNyH8cF8yL5FoP9piI/d+OhqN9cAO/yP84MLyNO+ic2FlAUQy3NzcgN0oXLwIm4XbjdYiQYeb7BxuCJInViTBDdNCkwtMOwseOxYtF238cQOwyLHhRu+Grd5F7gZBp3qvAf1gC0mmM37kRkfO0SsUttW7yN38kRI3JgsFObYt+H4V6qZvYbaAqUMMxMGN0StfC6IbmnqyiBM99ImRxdii4abOln76AYVvWtNPsbag+XGLmyGC6ebGjpsdHXbxLGJIYF556htdxsQiY4F3kyTjhmmB1IZ/iLMFjV03PTdsOtiXLBAWeD4jx9qQQTT4Ebt8Vc5fN1FliJz+W0Q9KJgz2pknFgHgnxtxFlR9JSu2yi0UbBsftvlmrrBt8eGTflqU6BV78mLLf3EXfzHInAIx4qfFWlz5o85cYJ8vdJs35jB5vokbPfn+MQtz/E18kTNjY5zMPza0my8e4ubcdWQemcchwPppXMwPvhknYyFWCJ2FyhxVL+7moBjz1Q6+H4SJhXN2A/PcNaMNcsNX16trjK9ixbbYWQQRLX7xwTXFV301xnywK85f1537hJiZm64lC745wi/9c64fyKYHEzFm05wHY6W9+GvDN+Mkjh4KzdHEMMm5PvHJ/Eoc2BcDf47KPOc/m/wXd/6HIKqjS2wh9wH9NdcQCg+jbJkfYo7wuq5cm8o8kBs7fTE3zAmxd92LjXjz3y+vtXWvSB/YZ4+fuR5cT+aXhysExNym0/WUceWX60BczX92xdD8NKeNmzltPPWZnPE0PvqgTJ8cxdDDjvHQD5+q6Jf5Tx8/4jPEdyDDNp8l+fjAP/12rSNZeTA1t81DNoyL+BoTbc0n90py/DWHzBtrgXuSBzj9FSt+6TMYNzFTL2b+2oX7huvGvZMfiRMbbJNng7/Gzpxny9gbF34ZM7r4Y+0x1my7ZjzsmbNIaqDPxspf+LBekMnutJjppzEgR1+Ip+uBH/Tx27iJmTF3Dfgm1o+QzTv3GdeoBx/jWq+LRmM9sNs/Lpj/20bZznADNNld2C4g524Aytz05F0UXHJzc5Nz4ZKzcCqXyMzhJkaPRdzNyY3KRRho58J0k3DzcRNJ1y1CEhsucPbY4KebqhuBi9sNxA01fqe9ozK6tXGzJx+kXl/o4qsbvcWMHnUBGYl9C3VIbuJj8dLHfH/kxsgntuXdDNlwnk8IgA19QaDSF7qUkZHcqNlWL0bpn5urcrrp1E6MLWYSOT7YcfDq0C+s/dkb/eSjcSGTeFos6deGDLvi7ybJj4wvG+mHvtHBF+RHG2PlJkxOe7Hie+Qs4PQbD+Pt3JzShg0xSTzJaR9fYhOyICtnk+/6wE7mrjpx18bYAp185Ys22rLr3DiwlTHKvCBnnCFyxlrs+e0I7C6C8dBPMdFvuvmgnG7x0Va/xZbvmWPioV/aGiekLnaNFWQsc5RAm/RJP81tfVNv3MUHxCdkSTnfjIlysUnMyJsPfOaXMbKYa+sTgn322Wcs1na2o0M/+Es+804ydomJ/ieOtS8gzz6IB3ntxE4c6ReHtCErhuLET/4GZDKP5cVZHzKH6FLOdz7R75zv/GXbw1jGW3md+4mNmMwR/6Iv8ZQPGc11EjlzzDXOT+NGzsORvvGNHf3J3Mjc1Q9jQjcd7BjX6h/92omVPPvV73n8HSH3MWPBh8RG/JyLh5hqz5Zy8mT0j3/GK9c03bFtTLV1dG+gTz/oyvWsPzVm9IuHOv3Rzrw199hkmw261IlXyvlAtzFNG9egGNPFT+XilngYN2NCJ5/TRz7pO/+q/3SwxT8xoy/XOxv6yw9y5MUnY6de3/jHt/jQaKwXdig5ZWpLJr2LRzvtc8OfI7pz1EZykebcscqA8qrTjcA5GUn7CvUp0xbmPlX9ELlq3w3Qsd4Q6a261LuBKSOXdlVOmVTbzfuknt905DzxiFzO41/KgL20occTtl9UIyB2f93sPHl7Deom6ocQdjkSSzohx4rYSp1zKb5UKJ/3QzzIzfsGsZ2y9IOOKlPlEg9wHqT9IpCLr+RyTletg+icl+VcviY2q+wipL0jzHWlT/P6Ofie+M5l1CUGtY5ObSB1ysimLEg5mchV3+Z6IHoibxH1Stl3eHYx7QAGi3xM+zquQJcUXyq04Yty7TKO1ZfaJnkygbIqH301HishviWfxJdaPu+fOuU1H/lAG+XxZa4D5mXL9CiTarxSpyz+pq1j/AP56K62olsZPdFVx3Y1LPIZ4msSpL+OaSfV/kD6A/FdgtQ5Jy/F5yD6oeoPqh2osmk796Ei9lMPVUfFIrmUzWUbjR2NHUpOAyZDKuRddC7gXJi5mF2EkVvrTYk8PQgT1ItNuXqLL92pU+6GxUa9Waj3NBl/nM9lAnV0AP10Rk5dEqiT2CarPLKpA+XzfqiLnhzTF0cy+gghbJC2+kMudcivvH7RkUUgOrVTlnJlXrf6fsl3hXZ2tPe07sner1ztZnn6jn90JJ9+0wUpp19d2iUpoz86kjIvxIdM5FIfX+nN3JFXljGU167qcow+IKNMit74Dsog9TmPLD3y6mMT4kvKycmnD/LKjI985DIXVwLd6bdET42DxEZs1jKJLCgDdqWKyEZGDNOOnTpmiQEdkXckr5xsQDb+gjGRV6a9nSjf/tqh93pUoit6qw35+CmBY+Rrn1Kfts7jXxI/E//IJ4bRFf+rHzmmDlKf9lJ0OkZH1QM1FqlLO5CPPiCrLDIp1zZ2IOWRy7Had1SeuIhF9SH3nSD1c50gn7bxYS4b3yF1aZe2mXfGRll0BcogutI2ZdpC5isoj7yy2Eo9m+qdp4/Koh/SRhkbUq3LPIK0VVbtVB9yTHIeP51Hn/JFsknRGVvygTzf4mejsZ5YF3K6OeCeiyiIu7VsJSxqn/PcMHKeOsfk3Tgis+yirTprvqLqdoOoNydIfW44salcPjcVZfHDeeqDRWWgPVSdc8Su+pqX5na9PvIBvb82QNZnFL77yo9FyNQ+kqFDqoju5I1JbpwpA+3lK5GpUBefI0uPY7Ubfc7lF9WnLqAvulKeWICy2E7bzK34M59r8tVGygN11Y+cB4vkIW1yDsrm8nwCfsyhrXptqp9VR2yspDt16b8Yzu1FR5Dz2ISU0ePhyrejfnzj21sJ1JGr4xT7AR8ik/LIOdKRMXIOtT3UvtVj+ug8MZOfy80Rv2N3EaqPkan5QBnU8kVyi7BM36K2yqWMpT6Qi2xtJ5+4iHswbwNkYaW22kls1zgHc9tBLav5nEv0Qvq1Gha1r75FJvbAOdQymOtahJXaxq66udyydoG26pbVNxrrgR1OTpmrF4FzF4ebTxawXGipn180i3Q4r+VVR4VyIDfXuxKiO3qjZ26DHKgnH9naH6mek8sxmJ8HsQtzHclLi/xK+SJ554vsVdmAD9FV9aTcMTsZgXIgP9dZz6sc5Dwyy+QgZaA8bSqU1fJF7VMWuXn5liJ6Fs0HyAKcsrm9+XnaVVSZ1G9OH1aSU5dUx34lRF/a5DxYpoOcusz3tE1SV2Po3BGqzsiD8loH8zaLdFRE35b0ZRFSV2Xkoztlc5kgsonFlmBuC2Jr0bUO1W7y6uf+AR2pi1zgvGJR+8ikfa6fRXqW6ZZPXfUHcoxMlZ2j1kV/2qROmtuoshW1XbCoTfJBbZP8vB2kDBaVr1RW2zYaOxrrvnO6LS+EHXFRsbEW/SvJpW5L/K1t024lWxWxB/JZWDbXPniQyMJV29fXY7W8ym2uzc3F9ta/NUj8An6mLMdFvm9NfzYnHiv5EGyOvm0NtjPvQlA2x5f4vq37UPWtRTcZWCa3Wv0c27I/m2t7R6D2b0v7uqzdtozdliD2534s8kuZBLXNXG6tWGZjS/U1GtsKG/61fmP7YP5kv71xZLnh1ctpc/rbC0Kj0Wg0Gv+LLX8X1NipsaOJUBOvRqPRaDQaa8Fuf//733vn9EiI7PA1ady26J3TRqPRaDS2Dr1zeiQFItRkqNFoNBqNxkZDk9NGo9FoNBqNxobBbn/729/6tX6jsY3Qr/UbjUaj0dg69M5po9FoNBqNRmPDYLe//vWvvXPaaGwj9M5po9FoNBpbh945bTQajUaj0WhsGOz2l7/8pXdOG41thN45bTQajUZj69A7p43GNgSCmbQ5aGLaaDQajcb/Yrcjjjiid053ImRnrslMo9FoNBqNXRG9c7oToolpo9FoNBqNXRW7/fnPf+6d050IvXPaaDQajUZjV0bvnO6EaGLaaDQajUZjV0WT050Q9RfhjUaj0Wg0GrsSdvvTn/7UTKfRaDQajUajsSHQO6eNRqPRaDQajQ2D3Q4//PDeOW00Go1Go9FobAg0OW2sGdvzW9f+kVej0Wg0Gg3Y7bDDDmty2tgu2Bwy2+S00Wg0Go0G7BLfnFYSJL+z/Jp9Z/FzS4FwrjVtLhaN88409tsb2zMW0V31J7+ortFoNBqNzcFuhx566E6/ilgIQ3CyKG4J4dkeqIv03Kfq986ClfqzozGPXx17+STnkVskD7V8EaJnjmXl643aN9hWPtL797//feirOjdiDBqNRqOxc6LJ6RLMF/dlWMkOHVXPUY7yrxvV1e+dBYhJMO/PIszHY1v3Ofqq3nl+TqZy3Bws83tZ+Vox9xWW2QF18vV8a+zPEb1B9W2ZzVreaDQajcbWYrdDDjnkX1ejnRAWx7qIwrZYKCsRg9V0Vj+WycY/mPsMNb+5WGufF9mFtbZfhGV+L+rv1tipyPhUkhx726IvVYeyzdWZNiu1jS2I3CLZyEVfsExvRZXfGiyzZRzi+1oeWBqNRqPRWAk7PTm1MP7tb3/759n/IQvpWhfm+cLrfN52LjOvz3mVq/lKdpWvpG+tfgdzXcGiPkR2mY1luhaBDvKb6+/WoNoU06Md7Wjj3Dxw3H333Uf5X//610GWpPi3mp/RnXZbioz1Mh3q2Zr7xbYUyFef5+cVymvbYCX5OdJ+NV36VX2Z+1X1QNUlX88bjUaj0ajYqcmphe8vf/nLICV1YVwr0iYEYr64ZgF1XE3/vN75XF8Q3UkQ2Xm7zUG1Ecx1kdHf1ezM6xbJVv9rP6of8oiY49zmItm1YP4wEt1zRN+iumXQBrk96lGPOo7LUHVWO7UPkZmX8V8KQU05uchWnUHqJeW1bZB2cyzSFywqq6h2pPhQ51F8CiKTfI5SiG1So9FoNBoVux188MErr0w7CFngNgcW90pOta8LZJC66K+yIQoWTGSkym0PsJldtdiKPUd1IXOwiEimbo6qC2JL/5RnRzH9VD/XVe3MbYZURB9EhxTf004e7GxWW46Rqfm1otrTttpLPuMJsRvZ2Kx5iF4JOZXkV0P0zPNBtQV2dM3blPO1Qln6ok3aRU77xFadfs51zBE9dAY1XzGXA2Ned6ITW4iv8aH6Lc3LtM0cTH2j0Wg0GsGGIKdZuIIsjKstXBbF1chpLbd45jxAQEA5XUCOjMW4LsJQ9VU9i5B6suA8izu77B1++OGbyEX0JqUMKhlZhvhU20j0IIjpj3hB7K0V1ceqA9TFR3Ce2LJbCe3WIP46pr8Qe/FPbKs99fEZIld1gLxEXswclyHt9dsRyEdH1VvBD/7VeEW26tOf2Ei9WCqPb/QcccQRm+ZQ/JhjkS/LZOMXO/ISe1J8j1/sOpJhX318CWLHkR/0kpFf5Fej0Wg0jtzY7Y9//OPiFWoHIQuXRUo+C51zC9hKIGehtCBGT0XKsmBmMUz5n//85+nAAw+cDjvssOl4xzvedOITn3g61rGONeogC27aOK9QHtQ8kJ/Xa8/Wr371q0EyTnCCE0wnPelJh6wFG9IuMYCQjqpvfg7KpEoMxOe73/3u9PGPf3z6zW9+M5397GefrnKVq0x77LHHv9hYDWQTQ3kJ4psYy0vqDjrooJGOcYxjjD7qa5WfY1HZMkSWLv6wLZ6//e1vp9/97nfTsY997OnkJz/5dMxjHnPI8Vs9v8Q5beZQnnjQHdmU5Rjwg86UR7/ylEUmvjpnuxK8qp+v8S26U+9c3e9///vRVzjJSU4yxpJ+iI2aT/u1oPqUseJrYougnvKUp5yOe9zjDn/m8sBH57l+IwMpT2wbjUaj0ZhjQ5BTixxY1CxaFjlkwjEL3iJot4ycZmH//ve/P/3617+eLnnJS45z8vCLX/xietvb3jZ9+ctfHm2PfvSjT1e84hWna1zjGpuIW5BFeo664MrX8yy88QO+853vDJvf+MY3RhnydPWrX3265jWvORb9yP3pT3+avvWtb43z8573vEPvarGo9qu/P/rRj6aXvexl0x/+8IdBEn/84x9P1772tafrXOc6w7eqN23m4Iek3rg4iikfz33uc0+nPvWph8+AfL///e8fya6wdgjxTW5yk+msZz3raG+M51hmexH4TT4+Ifvvfve7p8997nPDD8Tp4he/+HSta11rOtGJTjTa6KOx/+lPfzoeSMQ1BCt6HMGRfOZiyivIa8v2D37wg+n0pz/9IG3IuHJzUttK0AJ+SLGZ+AeJ7clOdrIRO7roFM/Pf/7z0wc/+MExf7U94xnPOPp5wQtecOiLv9XeIv+DKgeRzTj/4/4wfeITn5g+9rGPjbjpH1vmz+lOd7rRD32UfvnLX474nvnMZx4PB3yeg35xJb+SX41Go9E48mL3Bz/4wf/1z/y6IAu0xdAibDG0CGdnJfWLoC4Ld11k6QIL+Atf+MJRb0GNDQvjBz7wgem9733vtNdeew1Seuihh04f+tCHptOe9rRjcbXoxv4ypG4tMoAof/vb354ufelLj3TAAQdM++6773SWs5xl2OUfcsFfhADh4ovdMX7Dagt69UkfkJnvfe970x3ucIfpqle96tgB+/nPfz5d5CIXGXFYSx9AvcQ3Y/TWt751+spXvjLtueee0/GPf/whw7dDDjlklNuJRroRrM985jNjl9oY6B89iW1SsFL/0i4yzun96Ec/Or3nPe8ZffJwIY5sIp/IXcaS78jk29/+9kFixTaI3vgiXwmUcq/PjUOdc9/85jenF73oRYMwiouHHDu3HjzUk63kM2XaQ2zy2dFDhLn56U9/ejrHOc4xCC+7dOy///7Tm9/85hFjsUVMPVz98Ic/nM5znvOMcaAnfdkcsB1f4p/zr3/969Ob3vSmQfJvcIMbjJjmIUBs9Vcb/plXYmvHnG/il34COaC3xqTRaDQajYrdH/KQh6w7ObWAWdjf9a53jV0+hMoOzWlOc5pNi+yixTZtk69wbpH/4he/ON3ylrccOzlISnbt5C9wgQuMXUS7Xqc61amG3eMc5zibiOx8EZ3bqCBbE9l6Dj4bsINr1+5MZzrTpoXeDhQiwia/7KIiN5/85CfHLtpFL3rR4UfVuciXlDuSt4tJh08VEDek8Wtf+9qov/CFL7yJQDlfCalHWsjb+TVWiOmlLnWpQRAjg6zoC5/PdrazjV1VpMUnBRe72MWGTWPGP22SwHFRvyqqbPJI0DnPec6xm3euc51rkHmfMvBLP/kE5M0ru8fizk+ylUBFJ//iIziyU1PKjZsHIYQYqfzZz342+mF8EdWQ4+hiT6plYgt2uj2UeFjx+UV8YI8dOq90pStNl73sZQe5Rlw9fIi1OUxPdPIh8UxZoHxeBsqk9J/+U5ziFIP0G29k2Q6pXVTXj4cQMtqIrbE2z4y7eV37KcE8to1Go9FoVKzrzqkF0mJq0X3nO985PfOZzxwLrVeaP/nJTwZ5sDCqt5ilTSBv8XOsiawdsle/+tXjVbYdHwthJQUWWaTUDhASZ1G1i2mRtwuV3SqyVW8W1JRV1DpwXssQDOT44IMPHmTmU5/61Fjkr3CFKwx/YoOPSA0S8NnPfnYQLsSDTyFFQL7qT157ehB+7ZFdcUUo2aYbaUPEK5lZBHV0J9m188pevK5//esP0l9jJeXVth00RBbpR1QQ1up/QDb6g/iUo7rkIW3Y5UNeMRtLcUM+xYzNyAP7dsnVa+uzBKj6HWt/1Jkn+ozYemCQ2LMz7GED8bZbqEyfkVSyJzzhCcccjm66xDz+p0w9Gx/5yEfG5x/IIH0INp/JGC+E1A6pPhhfO6d5gDHX6TXHyEcvpP/VD2X1XD5HdZIHKjbNITbZYlN89Nlc0h/n7OrDl770pTEnXEfaVTuOZKVGo9FoNBZhXVcICyFYyOzoIT52hizCCIYdGLD4LULaV6TMt2902FGzc4Y0WDwt9BZIOi2k4DOC973vfaP+Epe4xFhQKzkB8nQ4pnyeYjvnYGFW7hgdyMsTn/jE8f0pcoSEK4fo4YvdVeQEWUldEpkc54hNcZUQdWT/3/7t36brXve6CwniMkQ/neDHOHb3ED872ymPTuf6gnS//vWvn57xjGeMTwns3IqrB42MQfwXl+hRFuKibt6/lJEDss6NJb2OXvMbUzbV05/x5IMHAQTPt6Jeo2uXmMUvcK6t5BOMl7/85dNDHvKQ6eEPf/j06Ec/erzK11fyCKidTjG2826n2I/QPGjRE31BtQPyfBFb89/OY42Jts71i039oXu//fYbn4V40OInpB/pc+KrXPwl5VJF2jlqKy5ssZm2SL24ne985xuv+ukWU+3MWfNCud1jMZjbWAS6pUaj0Wg04ChZGNYjgaMFzIJsIbQA5mhXRr2FVUK00tZ5XXSlLKbydu3U21ELQYlM9FlMkT/f1Pm27oY3vOF0hjOcYSzG5LQjB2SBX3TxWX1sx5/qU8oiI9GDHNm5tDPmG1Q7UWkX/Qg1gmIXEsmu9dFV7eQohWAkIf3igpDp19yntSa67db51bYdNa90+ZM4xUeJ33ahL3ShCw0Zu6d2NfVffMmAtjXFDqQfOc9RGaTevIhehB9hu/zlLz/sI6tzvX7wJtkFFBsxoWseNwmUi93lLne56Ra3uMV04xvfeOwa2zHVlg6fjzz72c+eHve4x40fD3ktf7Ob3WzsLgLbiQ9UG8qlxBa54x/QT0YfyDg3NzzM+f7UzqxviV0//ExfIfaUaZek3HxIf+MTyKfMUQr5RPo9xCGml7nMZYZ8bJGXPFyaG3boPchoF0TfPAWL6jp16tSp05Evrfu7NYsXIuNHSXacOJXv6vJK1mJMDgHJggtZ+JxbgANkyOKYNiBPd9o7t6P3mte8ZnwreL3rXW8suIgORF8WXe0k7RzZCBLMeT5wTp9Elx3HW9/61tMd73jHoQeZCgGAyKVNdssg+iMLyc/tIiL0IjD0+GwCoUHc7dKtFfTyB/ghRnl1D3TrR4iTmCNLxvCud73r+M4WAfdanK/Vfzo8INBLB12Rqf2peTKgrTbqEE0PGX7UhkQibOl/jZU2yn2Hqx27sUUu8yPnEnvIIr12RiV/fcBrazudz3ve86bHPvaxg7j5ptZDzgMf+MDp5je/+XjYYa/2C6I7547ioD/mP7/5olySp4OMTzVe9apXDb0IsF3TtI28fmmDnCefFH8yfpB2fMo5WUeE2Q/O/AjOX1xAzP1pMHojT6dxN/5iwBfzJPWNRqPRaKwV60pOLVwWSYuaHbaHPexhY1F3vOc97zl2n4CMxY48WccsehZPcG4xJRv5LLaRVa7MEXl9wxveMH4wZIG34GrvuzoLrTYWb2UW+He84x3Tk5/85LEzhyyqtzhngY8duh2rX0mQRdwC7ltJRCTEgq1KGKq/UPWkbxWxCfIImN1NO9DI1NWudrXxQxp/vko5zHUsQrWbuPJTP+IHUgIIiX6wqQyJyet/O6egP2T02471C17wgvHK3KcH9KUfOca+FNuSc/G0c+kvL/jO0w/cEH/k2bhVfWnPtn7wI32gT7myxBu0AfX6xmdHSZkHHATVd5n3uc99pkc84hHDvs9JsvMf+1V39IJ8zsnWeZW2jvzzSYg5aN7c+c53Hj9K0k/txbva86MwPzB86UtfOj4BAHKZg5GNbce0TZn+epWP9Ht49EBl3mZXVH8SO36HCCtnhz710Ztjo9FoNBrLsPuDHvSgdf21PmSBtOj5BtM3dBZ2i1pdzJ1n0cwiZyFMnYVRuYXXN29f+MIXxuLtT94gI2TAYu7HUnvvvfcgFXaeLOS+IbSraEeMXgSEPt9PIk++IfSq2Ct5NtXFv3k+tuQlu0/IsIUevKr3wyLkzA+ikBk+2jGjh33fzbLp9XFej8dGQHeOycc2coBE2LX0dz/9+SF6xKPGN+0WIf0EsvR5hY0ciQMbwDdJzH1r6ntDJN53w37sZufRn+1i1zjRq14MXve61w1ixUekmb1q1zGpgj+IKf2vfe1rBxH24zEk16t1P0gyl8RUXzNX7BojsvR5/a8v8rHpGP3Jg3O69Dl1HgCQNj9gMnejK/Jpryzl/MgYgTy5jBX4XpZuMY09n4C8+MUvHkev1s1z/fDDOvHzEECeHXNcDMxzeb+0d32xDWzGH0i+lhkn+s19OsTWQ5056bMCn6cYVzq1k3ya4BMO1443EXbt6anQFymoNhuNRqPR+Fems07IAp6dKcniGeIDZLKg1YXdwpb25LOQ+9bU7qSFPGQo7eyOIgJ+3YyMIkded/uVsd29EC1AAJBTr42Rjytf+cqbXlvGH7qlLNBZbGu5I3lEwo+E/ud//meQPMTU3zzNAu9It1j4+5Xa+GFUdMHcTo7VVs4RCoTv+c9//nj97O+++huq6V+N5WrgW359jlzbNRQf8Y0er/PFymvnpz3taYOQIzBedfuWUr+04Ztx8FcL/DknJBG5iv9JUM8lMnUsjSFSKG8sETKvvhFX8avy8sYTQfVQgiyLBb0ZzwryMLftSN4cQvZ9kyoOiWudu0F0VUQviI8fFPFNDJVnPrsmPOCwYf75FAVp9Gen7Nzyyfg4khcLY2TsxdY8oK/GI3bjVz2qY1OsnNNtdzp/09XDh3IpuuSVGw9jLibaqUuaQ5tGo9FoNCp2+8distOuDha27G5KFr8s0HZwkCOL5ROe8IRN38hZ7Mla/NVBiIT2yBfCQQ8gGxZl5M5/4vENpfbakA8ZqD44gnLIoows+e7Sr+fpR/L8KMpunDZIG3t026FCJi30D37wg8efLGIr/i/D3A99RtARCrbFwQ6m73njV/xcCYmH3U47lb5BvNvd7jaINUKf1/r8R6IQJn1A/vQRAU3MMkb+CoHvYLXVR+RUnThA+hk/g/QRjD+SbCwzvvojpvoau2mT8UTq/P1bu3vahTCDIx0pm9uviN7V5IL4IKWNvH47+tu8++yzz/jRlXFCEBM388dfDbCLmXkn+YTBLqadVnqU+UX9c57znEFSfW5gp5V+fZrP2fgfpB6QUzaVxV9wnfjBHrnoNRbx3/fGPpUhT3/6AGQl5eAYe41Go9FobIjX+lsCiyXUBS4EyiJodwm8ZvY60+t7JARpATs7yKGEjDrmV9JVjza+t0NmfUuYP/FjMSUX4kM2SV3Ks6grYxvJ9GmA1838Ugd1sQb/eYhdi7xXvAhAFni6YispmJeRZcerZz9M8qMeP9KZy60GvtGFSCJD/ENCz3/+82+KKeiv3VM710ip74azOwnsZax8P+kzBwSXb7ERmZVAjoyYIKHIGXKbMRVnu4YZB6AX0ULUtfHtrb6krsaC/vhSy+dI/Uoyc4hR5gVUO/yxY+6hxKceYknW/FBnrtpdNQ/1E/m2Q6lee/0Vaw8kYmt8/NhQPT1sgXyd50F0xB+62Upsxdkx3yyLLTlHDwjmLN2Iqesp10hkILENYqvRaDQaDdj9gQ984E5HTi1yFj0LmoXYeRb7LHLqLeTIpZ01i7QFkaxkl0dbxyzUEnk6lIGFVTvfofpeU7kyyGIbuzmH2AFtqp92w5zHVvVZ3tE/BEAoLPKIdnRFxzzFXk2Ben1AEuN7YhHbqyGydNGDNHltjOj600HZ4UNU9Stx1U/9QWodITYdkUh/bokO9XWMVkpkHcUoNhwTVymykLwdReTP3yT1y3N+hthBjvxIfmsx90Nckmcj9Wz6PEF8fTNt/iKFtS/6mf7RkzhI8z7Y3fRgg8yS18/EN0jbWlahnZ3xXC/O2ax9yLlvfMXW3wr2rbdyMC/US3zjgwTpf6PRaDQawW4HHXTQTrkyWOgsahbMIIucRTHkAjH1etlOnkWSfBbHyDsmQRZQ5+xk1ymLq/KUsRXCF1Q9UM/rgq281sUmAmAXyrndp5CnKp8jqIutIOfxO/n0PfXzdiuBLP8lZIWPCBBCxefEgX62+Ji8tlLyyiFyympMnK+E6I7OQFl0QNVl7M0Fr8WRYUQ6dfEn7fgS/av5shqiM+Bv5kEQGeX88zrd7iSCmhjVFJ8c+Slpqy7jkPP0If0J5j4Eytn0QKFNrhltYz9Qlvj7lMb3sny2y6tNfEm7lDlC9afRaDQaDdhpySlY7LIwWlAtenUBVacs5/JZ6MECmQVcPjLRBeSl1Ee/cyn2a50EziMzX4SVhxzIq48uiB8pUz/XH8x1V6SODe2qL3M9KyG2HaMDuZNHXlIvsSWlXeqVpW36lfOk2FiG+Cw+0ZOy6Ijt6I5fEqLvGJ8kSJvMB/prH7YWdFbEbyk+OyqXMv/4ozxyymu/Auc5qq9zC6qt6Ej7qieoMnTUWCir+p1XOQ8qzukgnz6kPjocG41Go9GYY7cDDzzw/78y7SSwwOWYxbCeSxZDi2MWxizsFcpq2xzJJ1/byWeRXYboiUw9l6IzNiDn6lKfHVrn1Z9FWFQ+93NZ24plMvEtqHEN1Kd/UNukLv5or2/O57qDyNa66Kh6ITpq3VwWat0c6qIj9YvkNhfVfpBxja3YUSY2IXeJUa1P3tF5LZMH7cQkMiCf89q2osrEdpB82tS2kZ1fSymPL6Cu6m00Go1GI9ipySlkAZwvdBZEdXWhXG0xXCSzrF3sbk+wG/trsbdIZrU+by2WxWdz7W5pPGu7Gq/VsBa5ze3DWhC78/5WfzbX7rK+KE/dluiEtbaLfJB21bfN1dloNBqNIyd2O+CAA/51VdkJURfAimXlW4L54rujwP/1sj3HnGTA3L9tGfP1xvbsx7Ix3ZY2N+JY7Erzo9FoNBrbB7sEOV2GnX0hXEZgdjS2NIZNRFbGovHteDUajUbjyI5dmpw2GhsZc3LaxLTRaDQajX+sh/vvv/+RgpxWIrC5JKC2XbTbta3BP4mtjUhY1hKDXY1obY+xmMdxV4vZ5mBzr6sjc6wajUZjV8cuTU5XWvB6cdu+aLKxOmqMej42Go1Go/G/2O1X/1979xVjy1WscbznInLOGWxyzhmJZCxyEiI+8AAIBEgES8ADAvyGQALEC0KACCLbIkchcsYGG5wjJtkm58wD1791+eYWzd4ze47PmXBO/aWltXqlqrW691R1de89F154UDqnDP9GBl97+kjK9Wdz5vlOUR2YVchadlrvZmNyXufnd9F5O5DncivXV9VjFb3nLLsuM9eBXGfTNE2zd9izzmkM2jIjWevnfaBO8lNTfn+RY+q3JZE5dtJYkh0dt4JxO6l3ZRU99mWNB5rs4YHax/zM2bK1L5Ob+mX7daD0XYWNZNNXe/KkStqapmmaZu2CCy7YXZ7BijBmMdLV2M+p9TGQ4JAi7TGM+SF3pH+Od4KtGuzoukhndfvqAGTcvoyPLvsqe7uhp+ug/mj8/sJeuF6lHNdzNZeX41zjjlO3v3VbRPTL52VO1b2WMR8T/XNDWElb0zRN0+xZ53QefZKqAa+oS17b6jjGMj/Yj4xBysYuqt8qcUzMt8wgp35Z+2ZU3ciLTFjrMmdjGfrP11v3Y17Of39S59je1j5wfHHI+Mwprzrsy/zGWKt8kRN1caGfvYmu2aPN9E6f6Jc5clxJfeZcxiI5cyI3ZSwbV+v1pZeknDZ5roVl8zRN0zSHNmvnn3/+xhZsFzA3io7jbMW4y2t7/v1jnKQ4GtoyX63XL2Ok9EHGmL/Wb5XoCjIdg7wY69Slb/59ada2GdEx8ylLl7rUpUa7ufxfefK3inmii5R5lEPa5dnvOkZKvbI8ON4KGW/+zFPnjG61Td+UaxscJzc218JGRP58HypVRvonVd1STltkK5sfda7so1TLmK9tEfrUfinLK84zoo/PCSIz82Q9+tU2REb2VPtcTtM0TdNgVzin1ajF8CnHuFUjh/SvSR3qMcdO2VyO43zKGUcJjjOenMhGzbVFn30lMqMX/v73v6/rEz2iZ/qlPtT9iG6oa4q+f/zjH6ezzz57+t3vfjfd+MY3ng477LD1fnWejdCPDpFl/kte8pLr5bQj9f/4xz9G/5yHJES+MSln7s1IP+M4Tsqcb3P985//HMfZs8hDxsjV03sR+hiffDPMVfcmchYRuVLVT//MY3xdD6rucvXmiH7GZg59Mu8cbatgvGT+7CV5WVfaYc7opa9+OS+Rl76ZL2tpmqZpmjlrP/3pTxdbsW2E4WL8YpihHAPGmFX0V88AZpyU+uTG/+IXv5j+/Oc/Tze84Q3X59P3r3/96/T9739/Ou6446Y//elP01WvetXpPve5z3T7299+XV7mwTyH9lUgD3/4wx+mE088cTr55JOnv/zlL9N1r3vd6b73ve90+OGHjz7VuF944YVjzPWud70hszoGjqsei9AfHNKPf/zj03e+853p0pe+9JDzlKc8ZbrHPe6xMPK5DGuNfNg/e3v1q199utKVrjTk6fO3v/1t+vGPfzx985vfnC644ILpspe97HS7291u7O3lL3/50SfOasWxRJd52yLoop/12MvTTjttrPHXv/71dJWrXGW6293uNt3pTndajxhnX3/zm98MZ93ec6LpEpmRL+mftkWkv7mc12tc4xpjf7MP2ddF164+9E7fXB9wbA/t7RWveMXp2te+9uhnPv0u+ryOvT3nnHPG3De96U2ne93rXtP1r3/9MTb6L0OfjYg+0Z8T/MMf/nDI/NGPfjRd7nKXG5+Ru9/97uPc66ufcT5H9sL+2wtzzNevLvUb6dk0TdMculziqKOOOvrf5R2DkaoGS1KW1IcY6RhDxJjmuLZxzD70oQ8Ng86gajOHXCTx/e9//3BsOACOTzjhhOnmN7/5cFwY5ciSECfC/FLqI28R6SuK+IlPfGJ63/veN13mMpeZrnCFK0zf+973pjPPPHO65S1vOV3talcbukHfr371q9O3v/3toU+iaDH00Sly5+WgjtP2pS99aTryyCOnRzziEcNx/O1vfzvd9a53/Xev/xyzjMiQOE9f//rXpy9/+ctDvytf+crr+3XuuedOb37zm6ezzjprOEycFevgCOqbPY1TI8++RsZmRA/JWDI/8pGPTL/85S/HPlqjGw/nMY4/5Oedd9702c9+djhPN7rRjUYduVKo5z31kVWTulNPPXV6xzveMZ1++unjvNoLDpy2XGvzOVKWQvoZ4zr84he/OF3rWtearnOd64z91uYmy7n82te+tn5DcPzxx0+///3vp1vf+tb/cZ1YQ503aVHdogRz2NOPfvSjY50ccM4/mfbvZje72eiTvXAePvWpT42bHnurLnPJc1xT0zRN08zZcec0Bpqh5ah97nOfG5EaxpcDF2MeQ1ZzY5P0i8FzzGh+97vfnT75yU9O97vf/YZjVB+fi4pxXB72sIeNdo4Uh0sE9ba3ve163+inHNlbxTjr47Ax2s961rNGxJQjw3ETgaIfow66iUJ9/vOfH3JFHqseqLqkLI+ekjV861vfGuUnPOEJw3k6//zzh8N4hzvcYTgY5s34Rczb7LOoLqff+bn//e+/3kcu4seheeITnzg97nGPG+sScfvJT34yopl0mD/ynefLyJi6RnDG7OtDH/rQ4YSLknOmrO2Od7zjyHN9yDl/nFQOHX2cm+wr5nJS57gm87oBEg3nqIvC/+AHPxiOOieZk6ofcv4QfVJnbmXp5z//+bhm6fSABzxg/Ry5JqzT50LU0lrvfOc7j5srN1ZucNxkJRq+jKxtoxRdyITr03n2WSHHNSQC7RoSGacrx9iYU045ZTjqPlv2IPseqpyN9GyapmkOXS7xohe9aEedU8aUcRONef3rXz995jOfGY9nPRIWmfGIkJOVR6wMYGD4akIMKwfsgx/84Jibo5THuzGUHpl6ZK5eHwaXM8uZ4pxyMGJEOQUZN89RdVqGOW5yk5sMZ0kUkUyOjUf8DPmtbnWrdUNuPk4IR0cE0ONpTrO9Mg8iM/2jj7J55CJtnF9zKb/zne8cThunkh4cszp2GZEF50Lkjt6PfvSjx5pyfsjlcN/lLncZzj591bnp4ETd8573HI/2rR3kRn9UOahtUK59zSPnBIqSWo/z9rOf/WxEjNU5l7k2oI9H8RxJ15ZrrM6L6JUEc1inREbep+WAOT+cNuvlmNlzaxbxJIPMYEzOT8ixuV37dHPDZB/JyjmH6GUep+vvhsd1JBKung7ROVRZqxB9zMM5FsF1zagTdT/jjDPGNcw51h6Z1ummyhMB7be4xS3+PeP/f17kEsc0dU3TNE1T2dHQBSMIRtZjbIadUWOQOascM1TjvBkMKMPH2fSYkfPBEeXIMIbm4kiR4b1JTrDH++9617uGs8qBijGXS/Q0XorhTp6+m0F2ImnGMuicEE4OB099DLZ2hp7DI0LFAaH3XJa+6uRZmznSz77S+Ve/+tWI7HlELOqmD4zZjMxFJ/05Hxw/zoovV82dIc6KaJp1qRc15ajd4AY3GOu37+oTCaz7qD57gNTNMQbpqx95zrlz+fa3v33MzXnK+OTGiKzSxfXGaa97hlomyx6KCLtGXv7yl09HH3309JrXvGY8etd2zWtec0RsX/KSl0yveMUrRpSR8/7Wt751RONBftY6J+t0PTrX9s91a2+RsWRxeD1aFxF/4xvfOBxhNxquXXtQ9w91f1fFHLnenC83Ftbvkf1b3vKW4fxznO0hHbN/PrvOs5shkWnXivM8l131a5qmaZo5/xPDtZOJAWVYGcQ4WGCstccpTD4fL6GWGVDjOX41umMOZfNAhNVrBBw47+451qavZL6MoSNjnfbIWzUZn7k8suecPvjBDx5fauEkIXPbBw6HvcijYhib+bIGea1LWV+OhUfFnIRHPvKR493bOBNI32UpfWBukTN7JSrJCSED1kVvxxwouDkQvXZz4DE05yX61/OQ5Dj7i9Sj6pJzk5Q+5Hp9wHqVnX9txkjK+osw0t2NiaijuvTZKNHftSSPc20vzWtP3Ey5CeD0isiLwtsn7dkf1Dmrfpw5+ysaK1qpLe2RpQz96G+MayefFYms7K/cHMjY9NsoRWdlct3o2FdOKllk5lzW/vbV/nKg3VhZc+YJKWdsp06dOnXqVNOORk5jrBlyj185MYwtx4JRz2PB6jwwlMvQL8aQYWQwPVY1pqY4QZxF0T/vgD7zmc8cjukXvvCF0Z65Mi8dPZIW1QqZbzOMpzvIFXHzBR7fsn7Qgx607pTTG/oaw9BzhOgVnbIP0S1la40Day51HCllOpvjAx/4wPhCDcchDuRW4ZhwVOhWX5WIDuC4cRKPOeaY8Qj9MY95zPq3zrUFY+gnSmwux8gaF5E+xmX/yXUuXTPO5fOe97zRj6NIXzIzn9ye0t8YaaNzGBn0f9KTnjS99KUvnV784hdPz3/+88d7w/bVe9Kve93rple/+tXjfVH7/tSnPnXoIcJIF3NE9zmpdyMhOV/mUJ9kjXS3h9pdN0cdddSIhHvKwCHOOvUnz7F9td7IyDzZj2VkjsgXHfbesnWLwH/jG98Yjio9YT5zi6Y6n7k5yDxzNpPfNE3THLpc4oUvfOGOf1uf8fKOYt7PE91jCD2WjcMTh6saNW1J6rUH71aKOHIgzM2hqnA0GW3jGHDOhwiq6KlH+wx75pX8dI/ImHbvfyLtm6EfGGvv1H7sYx8bToWfdPKOJofD+uZrEB3zuoMoGp2QPpGbslwyF3nKHFrvByp7p9UXZ+yD+RyTvZn+aZdLomecIU59PT9Q5iDbq/e85z1D/6c97WnjfUhjnec4Ko719+Uq++oXFTg2UqA39K1lGGutju2d8xVHV+TOl7I85uccegUhfSXngTOXc+260x4ZUE6CcWRwxqrD5/G9d3nJsk4OrGRv7G8cvIq5ok/2Tx/Rfu8905/ecTbNkZsT8jOn69CavQpgjJs5/SXt9sA7rK5r/XKtRaZ+yDGUpcxBh5wz6+akcqBFxf1eruh++spdX/ZWJNnrBhzZ7G3kwbHUNE3TNHM2D/sdYBg+iQPx2Mc+dry395znPGd8s5sxi+MRlhm0Wq/MyeEoidyBDPMxlAy9R+p+u1GkNg4Vg8tRYYQZ6DgQHv2KOr72ta8dUc9EKLGRPlIMMqPN0eSY+gKUx9zqvvKVr4x3OPWNE5CxnCg6cCrsQ3UqtKcc1OmXeewbp4UzIdL2qle9anrlK185PfvZzx5RxjrPZkSOOTlmImP2seokedTsm/yczoc//OHjW/RuFKzdPsI46zKHdybf8IY3jJ/Z0l4do6pb5k85/azN/nGYRTHtqXMpicSLMuqbuewP+RxT5znOcJW1aE9SZy66S8q+oOSLYS972cumi270xheZyCVDit7RvVLrlOP4Ou8iuubPPOTbH/vFGbVODiBHULneMMEcHF3viH74wx8eUU4y0j7XJ23ytJHrBs/7rW5K6MTRJdM1EKdeyhh96OM6qU8Z5szlN03TNE3YFZFThirGXuQrEc04WcvQvyZkHMPNAfXll9vc5jbD0EI/BtRvXb773e8e3yzWzzugHAMOsi91cED15RQwyJ/+9KeHjtq9I6och4VM5WpwlXNsHsadPA6wuTnGHgcz/BwLP2sUedkLTp2oouivL8gYx7may5ofx1mIQy565jUH0WHRTHvhZiD6r0Lm53iIFtIl39amKzib9tGP/pPh90at0bf78yUajraxdHPjoE1E1z8FuPe97z3mAXl1TXOyNvpw8H1ZiTNmrV5dcI4f8pCHjHeOc64k4zjO9t+7nWTmZqSiX8bMUZebAOsRsRSdVxed6/j5WsiSUp82DqVIt30RdfTqgb0KrkO/k+tadF1Y90knnTReifHuss+Oecn0Tqg1Old+TeCBD3zg+Fxpp2eI7Kwz+oJse+q69cUuP8HlVQn7558qmNc6g7LPnWta2d66zsh0bN7sSVLTNE3TzNk1zmk17GDMYvhi1JIHxzUFZZEbhllklJF0zEnJvJxWkR+QzYF9/OMfPxyNGPgkkSKOAGdMlCzOM+TLDG9N5IvSmV8SURRB5YRIHKX0NRdHj0zRskc96lHDgaV/dSz0necpQ9nrC9bDufCeIKdGRIvTNh+/iHmbY86JyKRXAzi8HER6SRw9j3q1ZY1+dUAkXNnewRo57CLR6uw9By9rzP4ugg5p5xyLAnvczJmyz76I5DzZV+dGf0nZ/H6L002J68J5j/Ma0jfjKrUu5cybctoDXaXU5zhryDjrtif21msT1gVr0ocj7MaJE0qeqLjfQhWFd31UGd4rds45qSLYua7J0CdpI8j1Cgg99DWefP/MwQ2T6yh6y7W7oRLJ9tu8bkaQPZEiP3nTNE3TzFk777zzlnsBu4xqfMFAi9DJKzH6xx577IjkveAFLxiOCkOdSB/jyPiCU+PYuERYydHP8Xvf+94RrXruc587Ho/nsWWITtXZCCnLY6STmx9ZQ+rkoo5vetObhqP1jGc8Y72vtjnZl8ivqKMvh9I7iCJZHFNOZPTYjDqvvfKj836yiXPn/co4hfrZx+ylnAzkXKm3Fscexb/tbW8b58YXmcyhT/aWbov0m69V/4w1b+Q6Jit91eUVDV/YItNNSvYccv2yjkXyK+aW9FvUN201Jy+6VrS5ERIdFSl/8pOfPK5XZG46GaevNavPfqqD3E2I/1zlRuHpT3/6cN7VW5u86prjjA/qsg91b3NMbtXHjaDXVjwd8NvCeWKhT2Qry6WqQ9M0TdOEXRE5XZVVjZl+DKfIEifE41KPPmOEGUbtHv2mjoPFyFajKWdc/VanyNQRRxyx/h6dtnmC8aiGXlkyP5l5L08iVxtHg07mcezdQu9vigB6r9HYyFhE1QH1WM45EbkU6eQgzPuvAr2sTzTWo2dfYhIhrb8jaw3WZd+sLevUnjmCR8DeGfWIWJTVWPNLcWiiZ01Irg85Is3G1z3O+ODYO5QeT/tCWr6oVeeOfCnUOebUsYtIfW2np1Shtzp7S3cOniil82Uvjaerfo7hOGX6VlmccM6iaL/I9bzd2JRTX0k9eblOYRz9oD3Xr/l91kSkXWci5a7puTOaZEx0qLo0TdM0zZ6KnM5h1GLoq7FzzGgziJwRRjqPeLXJa/9KjGjmRZwf7wAaEwMLx8bMqXOnvFG/tJHJ+Hs8Si4nKsY8eq9ixKt+GWtPOBucBsdZ31bIvL5gk3+b6RvZdM4asiboH/0zNsduGkSzve4Qp199HJo4Xhk3J3K0W4vj1EWXKlMf36rnRInquXmpMow1Lkld0v6CDHo4D1Vf5Hx4JO/Rvqinb8TrSx99o2fGRU+kzjGH0hfE7KtoOdKefDOydv2jb/SQO0/qc7Mj2u+Ghc6c6oyXYEyo9WF+3DRN0xyarF3kvK1mqXYhjGQMunKMmzLioDKeiAMTo4qMkWecsr7GyjlzMF/mlPSP3MwT6ly1vOg4sjKflC/pRE/oMydzJa+YO05FfU82srIfq2KcOTnNyvbR+KSsZxm1jeycl8ynPXuR8iroW9dRxztfytFV7phM1DWohzxzpG5/QU72vcqEcurITz/M+8/z9MO8rM9G/WrdIjJeopOcfkFd6utc2Vv1IWX5ovqmaZqm2dPOKRg/hjHMDR4nhJGUqqPneBnpVx0XKQ7DHHK0VxyrX9QW4gBpz7xkKtfxi2SGzK3fMmqb/nEsNpp3EdEHGVv3pLYH8qIj0l7rsKx+FarMqkP2sUJfdTnH2YuQsfN8f0J+1YuM1GU/U1f1mI9B7YPMU/tnzZX5Meq4RfPL5/uVeRZdSxmHzCPVctM0TdPMWTv33HP/20rtIRi6JIaTwYtxj/Gr7eCYLHNO9auYI3Up17kqdeyyPtBWdVOms/6OU0aVv1XmcjJndX5WQd/aX57ysjVW5nKiU/I5q+qFzeaI3lL6Kmev045lc+1vIi/MdYyjpxydqm51fMbMSd2y9jpHSN86Zj4+7SlX5uPmY5Hx8/qmaZqmCXveOUUM4UaOUnX4tko1pqsa1q32q7m0r7ouYpEu6lZllXVshUX6HGjqehfJ3m6dNjsntW0n9iusKntZv9QvW1vTNE3TzFk755xz9rxzip004M3eoa+T/U87nk3TNM3+ZP+F53aYNorNKvR1sv+xp0lN0zRNc3FZO/vssw+KyGnTNE3TNE2z9zloIqdN0zRN0zTN3mftrLPO6shp0zRN0zRNsyvoyGnTNE3TNE2za2jntGmapmmaptk1rJ155pn9WL9pmqZpmqbZFXTktGmapmmaptk1rJ1xxhkdOW2apmmapml2BR05bZqmaZqmaXYNa6effnpHTpumaZqmaZpdQTunTdM0zab8619701Qs+7e6e3U9TbNTbOe/qF477bTT+hPaNE3TbMhedubmRrUd06bZN7bLQe13TpumaZqmaZpNcWO3HWnt1FNP7VvIpmn2FP54NdvPdj7Wa5rm0KWd06ZpmqZpmmbX0I/1m6ZpmkOO+gixaZrVqJ+bA5nWTjnllP5kNk3TNIcMjF/THIwcyFdvtvNz085psytoY9E0zYGi35Vtmr3F2sknn9xeQdM0TdM0TbMr6HdOm6ZpmqZpml3D2kknndSR06ZpmqZpmmZXsKlzWt8F7Pd2mgNFv3PaNLuftgFNs3fY33Z1Oz//ayeeeGJ7Bc2O00avaZrtpv/uNAcLHFGpXtN72jk94YQT/kv7RQva34tsmqZp9iZ73amb27O2b83BwoH+bG7XZ2Xt+OOPv0jW/3nccywy9csUWrYRy/o3TdM0e5uDzTltmmZ3sXbccceNT6kPa/7gLPrgpq46rMvQvtl8lb3+h665+NTrqq+Hptk9bPb3e6+yii1rmuY/2R77PE3/C2xbs8LfHuj2AAAAAElFTkSuQmCC)"
      ],
      "metadata": {
        "id": "XMaccJf5Z0Vg"
      }
    },
    {
      "cell_type": "code",
      "source": [
        "torch.matmul(torch.rand(2,3),torch.rand(3,2))"
      ],
      "metadata": {
        "colab": {
          "base_uri": "https://localhost:8080/"
        },
        "id": "DftjjL_iXEDX",
        "outputId": "00ea4287-5790-433a-eec6-36b7fac9787c"
      },
      "execution_count": null,
      "outputs": [
        {
          "output_type": "execute_result",
          "data": {
            "text/plain": [
              "tensor([[0.5006, 0.6234],\n",
              "        [0.1962, 0.5521]])"
            ]
          },
          "metadata": {},
          "execution_count": 71
        }
      ]
    },
    {
      "cell_type": "code",
      "source": [
        "torch.matmul(torch.rand(3,3),torch.rand(3,3))"
      ],
      "metadata": {
        "colab": {
          "base_uri": "https://localhost:8080/"
        },
        "id": "BNUcL2xWZ-H2",
        "outputId": "1e6188ba-e643-428d-c6d6-be64539423e3"
      },
      "execution_count": null,
      "outputs": [
        {
          "output_type": "execute_result",
          "data": {
            "text/plain": [
              "tensor([[0.2216, 1.3185, 0.6341],\n",
              "        [0.2235, 1.3834, 0.7984],\n",
              "        [0.0095, 0.0412, 0.0841]])"
            ]
          },
          "metadata": {},
          "execution_count": 72
        }
      ]
    },
    {
      "cell_type": "code",
      "source": [
        "# torch.matmul(torch.rand(2,3),torch.rand(2,3)) #will give error inner dimentions not matched"
      ],
      "metadata": {
        "id": "085r_MlPaBD_"
      },
      "execution_count": null,
      "outputs": []
    },
    {
      "cell_type": "code",
      "source": [
        "torch.mm(torch.rand(3,2),torch.rand(2,3)) #torch.mm is same as torch.matmul"
      ],
      "metadata": {
        "id": "iAISwD5raGLn",
        "colab": {
          "base_uri": "https://localhost:8080/"
        },
        "outputId": "0fc2ade1-b008-4372-ec6a-0c13b2d80ab8"
      },
      "execution_count": null,
      "outputs": [
        {
          "output_type": "execute_result",
          "data": {
            "text/plain": [
              "tensor([[0.2549, 0.6192, 0.7098],\n",
              "        [0.0907, 0.3089, 0.3873],\n",
              "        [0.5413, 1.1661, 1.2810]])"
            ]
          },
          "metadata": {},
          "execution_count": 73
        }
      ]
    },
    {
      "cell_type": "markdown",
      "source": [
        "#Transpose\n",
        "\n",
        "to fix tensor shape issues we can manipulate tensor shapes by taking transpose\n"
      ],
      "metadata": {
        "id": "9lUqDGhHQLOh"
      }
    },
    {
      "cell_type": "code",
      "source": [
        "tensor_A=torch.tensor([[1,2,3],[4,5,6]])"
      ],
      "metadata": {
        "id": "-E-16e9sPozH"
      },
      "execution_count": null,
      "outputs": []
    },
    {
      "cell_type": "code",
      "source": [
        "tensor_A.shape"
      ],
      "metadata": {
        "colab": {
          "base_uri": "https://localhost:8080/"
        },
        "id": "oPHtEFr0RNZC",
        "outputId": "5098b06b-b154-463b-9aa0-49584a43e540"
      },
      "execution_count": null,
      "outputs": [
        {
          "output_type": "execute_result",
          "data": {
            "text/plain": [
              "torch.Size([2, 3])"
            ]
          },
          "metadata": {},
          "execution_count": 75
        }
      ]
    },
    {
      "cell_type": "code",
      "source": [
        "tensor_A.T"
      ],
      "metadata": {
        "colab": {
          "base_uri": "https://localhost:8080/"
        },
        "id": "KQWHaJkWROaM",
        "outputId": "883867fe-c3d9-4ea5-ea8a-b612df5aa6b5"
      },
      "execution_count": null,
      "outputs": [
        {
          "output_type": "execute_result",
          "data": {
            "text/plain": [
              "tensor([[1, 4],\n",
              "        [2, 5],\n",
              "        [3, 6]])"
            ]
          },
          "metadata": {},
          "execution_count": 76
        }
      ]
    },
    {
      "cell_type": "code",
      "source": [
        "tensor_A"
      ],
      "metadata": {
        "colab": {
          "base_uri": "https://localhost:8080/"
        },
        "id": "Q7zKN_2sRUf4",
        "outputId": "e11be8a5-53a5-45b6-c3d9-fc42cb6ebf0c"
      },
      "execution_count": null,
      "outputs": [
        {
          "output_type": "execute_result",
          "data": {
            "text/plain": [
              "tensor([[1, 2, 3],\n",
              "        [4, 5, 6]])"
            ]
          },
          "metadata": {},
          "execution_count": 77
        }
      ]
    },
    {
      "cell_type": "code",
      "source": [
        "tensor_B=torch.tensor([[7,8,9],[10,11,12]])"
      ],
      "metadata": {
        "id": "OYnJtkOaRdUa"
      },
      "execution_count": null,
      "outputs": []
    },
    {
      "cell_type": "code",
      "source": [
        "torch.mm(tensor_A,tensor_B.T)"
      ],
      "metadata": {
        "colab": {
          "base_uri": "https://localhost:8080/"
        },
        "id": "gW-Ad385R5Hf",
        "outputId": "a1aed8e1-3d0c-4f0e-c6bc-92289a899eb1"
      },
      "execution_count": null,
      "outputs": [
        {
          "output_type": "execute_result",
          "data": {
            "text/plain": [
              "tensor([[ 50,  68],\n",
              "        [122, 167]])"
            ]
          },
          "metadata": {},
          "execution_count": 79
        }
      ]
    },
    {
      "cell_type": "code",
      "source": [
        "torch.mm(tensor_A,tensor_B.T).shape"
      ],
      "metadata": {
        "colab": {
          "base_uri": "https://localhost:8080/"
        },
        "id": "YCIj8DNUR7vk",
        "outputId": "d930143e-e170-4167-f09d-45bb2bbc56bd"
      },
      "execution_count": null,
      "outputs": [
        {
          "output_type": "execute_result",
          "data": {
            "text/plain": [
              "torch.Size([2, 2])"
            ]
          },
          "metadata": {},
          "execution_count": 80
        }
      ]
    },
    {
      "cell_type": "markdown",
      "source": [
        "#finding min max sum etc of the tensor (tensor aggregation)"
      ],
      "metadata": {
        "id": "_NtGdpGjTzpr"
      }
    },
    {
      "cell_type": "code",
      "source": [
        "x=torch.arange(1,11)\n",
        "x.dtype"
      ],
      "metadata": {
        "colab": {
          "base_uri": "https://localhost:8080/"
        },
        "id": "VbZWs4LPSHMW",
        "outputId": "316592d4-a9fa-4c01-a48a-806a7092a4af"
      },
      "execution_count": null,
      "outputs": [
        {
          "output_type": "execute_result",
          "data": {
            "text/plain": [
              "torch.int64"
            ]
          },
          "metadata": {},
          "execution_count": 81
        }
      ]
    },
    {
      "cell_type": "code",
      "source": [
        "x.min()"
      ],
      "metadata": {
        "colab": {
          "base_uri": "https://localhost:8080/"
        },
        "id": "qagZNGaSUG32",
        "outputId": "f2897469-c189-4cbd-abf2-e31c6e28148d"
      },
      "execution_count": null,
      "outputs": [
        {
          "output_type": "execute_result",
          "data": {
            "text/plain": [
              "tensor(1)"
            ]
          },
          "metadata": {},
          "execution_count": 82
        }
      ]
    },
    {
      "cell_type": "code",
      "source": [
        "x.max()"
      ],
      "metadata": {
        "colab": {
          "base_uri": "https://localhost:8080/"
        },
        "id": "ezwISaXRUHg6",
        "outputId": "bade16b7-47e8-4bc0-c46c-7fba36910a77"
      },
      "execution_count": null,
      "outputs": [
        {
          "output_type": "execute_result",
          "data": {
            "text/plain": [
              "tensor(10)"
            ]
          },
          "metadata": {},
          "execution_count": 77
        }
      ]
    },
    {
      "cell_type": "code",
      "source": [
        "#mean\n",
        "x.mean() #giving error because the tensor has datype of long to solve it convert it to float as input datatype must be float or complex"
      ],
      "metadata": {
        "colab": {
          "base_uri": "https://localhost:8080/",
          "height": 159
        },
        "id": "Y6_Vbmq6UIMe",
        "outputId": "b7af1b4a-5507-4b45-cc36-1ec4828680d7"
      },
      "execution_count": null,
      "outputs": [
        {
          "output_type": "error",
          "ename": "RuntimeError",
          "evalue": "mean(): could not infer output dtype. Input dtype must be either a floating point or complex dtype. Got: Long",
          "traceback": [
            "\u001b[0;31m---------------------------------------------------------------------------\u001b[0m",
            "\u001b[0;31mRuntimeError\u001b[0m                              Traceback (most recent call last)",
            "\u001b[0;32m<ipython-input-83-d96360a7f855>\u001b[0m in \u001b[0;36m<cell line: 2>\u001b[0;34m()\u001b[0m\n\u001b[1;32m      1\u001b[0m \u001b[0;31m#mean\u001b[0m\u001b[0;34m\u001b[0m\u001b[0;34m\u001b[0m\u001b[0m\n\u001b[0;32m----> 2\u001b[0;31m \u001b[0mx\u001b[0m\u001b[0;34m.\u001b[0m\u001b[0mmean\u001b[0m\u001b[0;34m(\u001b[0m\u001b[0;34m)\u001b[0m \u001b[0;31m#giving error because the tensor has datype of long to solve it convert it to float as input datatype must be float or complex\u001b[0m\u001b[0;34m\u001b[0m\u001b[0;34m\u001b[0m\u001b[0m\n\u001b[0m",
            "\u001b[0;31mRuntimeError\u001b[0m: mean(): could not infer output dtype. Input dtype must be either a floating point or complex dtype. Got: Long"
          ]
        }
      ]
    },
    {
      "cell_type": "code",
      "source": [
        "torch.mean(x.type(torch.float32))"
      ],
      "metadata": {
        "colab": {
          "base_uri": "https://localhost:8080/"
        },
        "id": "BA6253TQUMgF",
        "outputId": "6e44bb12-8443-4c2c-d93f-88752cbe1455"
      },
      "execution_count": null,
      "outputs": [
        {
          "output_type": "execute_result",
          "data": {
            "text/plain": [
              "tensor(5.5000)"
            ]
          },
          "metadata": {},
          "execution_count": 85
        }
      ]
    },
    {
      "cell_type": "code",
      "source": [
        "x.type(torch.float32).mean()"
      ],
      "metadata": {
        "colab": {
          "base_uri": "https://localhost:8080/"
        },
        "id": "tGxg4En8U4bn",
        "outputId": "b1341d31-1d7d-4b6d-aae8-a55a3badaf6c"
      },
      "execution_count": null,
      "outputs": [
        {
          "output_type": "execute_result",
          "data": {
            "text/plain": [
              "tensor(5.5000)"
            ]
          },
          "metadata": {},
          "execution_count": 86
        }
      ]
    },
    {
      "cell_type": "code",
      "source": [
        "#find sum\n",
        "torch.sum(x) , x.sum()"
      ],
      "metadata": {
        "colab": {
          "base_uri": "https://localhost:8080/"
        },
        "id": "_ez6NYhkWHMB",
        "outputId": "8c2790aa-5255-4e39-880e-02e244a3657d"
      },
      "execution_count": null,
      "outputs": [
        {
          "output_type": "execute_result",
          "data": {
            "text/plain": [
              "(tensor(55), tensor(55))"
            ]
          },
          "metadata": {},
          "execution_count": 87
        }
      ]
    },
    {
      "cell_type": "markdown",
      "source": [
        "#arg max and arg min (positional max and positional min)"
      ],
      "metadata": {
        "id": "VSn7aPjaW0rD"
      }
    },
    {
      "cell_type": "code",
      "source": [
        "torch.argmax(x)"
      ],
      "metadata": {
        "colab": {
          "base_uri": "https://localhost:8080/"
        },
        "id": "HHSMv2iTWusO",
        "outputId": "0823eda0-9a31-4278-83b0-c4f4c20f47c2"
      },
      "execution_count": null,
      "outputs": [
        {
          "output_type": "execute_result",
          "data": {
            "text/plain": [
              "tensor(9)"
            ]
          },
          "metadata": {},
          "execution_count": 88
        }
      ]
    },
    {
      "cell_type": "code",
      "source": [
        "x"
      ],
      "metadata": {
        "colab": {
          "base_uri": "https://localhost:8080/"
        },
        "id": "8jdK68TxW6jp",
        "outputId": "38a5a4a3-16d4-4631-e5c4-74046ac28b79"
      },
      "execution_count": null,
      "outputs": [
        {
          "output_type": "execute_result",
          "data": {
            "text/plain": [
              "tensor([ 1,  2,  3,  4,  5,  6,  7,  8,  9, 10])"
            ]
          },
          "metadata": {},
          "execution_count": 89
        }
      ]
    },
    {
      "cell_type": "code",
      "source": [
        "x.argmin()"
      ],
      "metadata": {
        "colab": {
          "base_uri": "https://localhost:8080/"
        },
        "id": "hnwasPFjW9WO",
        "outputId": "96ce9e58-2e69-4bd5-c9c7-d20526d9ff4c"
      },
      "execution_count": null,
      "outputs": [
        {
          "output_type": "execute_result",
          "data": {
            "text/plain": [
              "tensor(0)"
            ]
          },
          "metadata": {},
          "execution_count": 90
        }
      ]
    },
    {
      "cell_type": "markdown",
      "source": [
        "#reshaping, stacking , squeezing and unsqueezing Tensors\n",
        "\n",
        "* Reshaping - reshape an input tensor to defined shape\n",
        "* View - return a view of input tensor of certain shape but keep the same memory of orginal tensor\n",
        "* stacking - combine multiple tenors on top of  each other (vsstack) or sidy by side (hstack)\n",
        "* squeeze - which remove '1' dimention from tensor\n",
        "* unsqueeze - which add '1' dimention to target tensor\n",
        "* Permute - Return view of input with dimention permuted (swapped) in a certain way"
      ],
      "metadata": {
        "id": "3a2ttLTAY_9b"
      }
    },
    {
      "cell_type": "code",
      "source": [
        "#create new tensor\n",
        "import torch\n",
        "y=torch.arange(1.,10.)\n",
        "y,y.shape"
      ],
      "metadata": {
        "colab": {
          "base_uri": "https://localhost:8080/"
        },
        "id": "Cq0tS3jSXAqu",
        "outputId": "08c14daf-fd0f-45e9-d994-f812561109be"
      },
      "execution_count": null,
      "outputs": [
        {
          "output_type": "execute_result",
          "data": {
            "text/plain": [
              "(tensor([1., 2., 3., 4., 5., 6., 7., 8., 9.]), torch.Size([9]))"
            ]
          },
          "metadata": {},
          "execution_count": 91
        }
      ]
    },
    {
      "cell_type": "code",
      "source": [
        "y=y.reshape(1,9)\n",
        "y.shape"
      ],
      "metadata": {
        "colab": {
          "base_uri": "https://localhost:8080/"
        },
        "id": "UpneKGsHnxcd",
        "outputId": "1f320318-695b-4d2c-fb6e-921303481e4d"
      },
      "execution_count": null,
      "outputs": [
        {
          "output_type": "execute_result",
          "data": {
            "text/plain": [
              "torch.Size([1, 9])"
            ]
          },
          "metadata": {},
          "execution_count": 92
        }
      ]
    },
    {
      "cell_type": "code",
      "source": [
        "# y=y.reshape(9,1)\n",
        "# y.shape,y"
      ],
      "metadata": {
        "id": "t11A11Llnzsd"
      },
      "execution_count": null,
      "outputs": []
    },
    {
      "cell_type": "code",
      "source": [
        "#view of tensor x as z #its similar like shape\n",
        "z=y.view(1,9)\n",
        "z"
      ],
      "metadata": {
        "colab": {
          "base_uri": "https://localhost:8080/"
        },
        "id": "xJCeycXKovzQ",
        "outputId": "6329dce3-317f-48f3-ff74-2a67d2d04ce6"
      },
      "execution_count": null,
      "outputs": [
        {
          "output_type": "execute_result",
          "data": {
            "text/plain": [
              "tensor([[1., 2., 3., 4., 5., 6., 7., 8., 9.]])"
            ]
          },
          "metadata": {},
          "execution_count": 94
        }
      ]
    },
    {
      "cell_type": "markdown",
      "source": [
        "#difference between view and reshape\n",
        "\n",
        "In PyTorch, the view() method reshapes a tensor without changing its underlying data. It's similar to reshape() but works with contiguous tensors (those stored in an uninterrupted block of memory). You use view() when you want to change the size or dimensionality of a tensor, such as flattening a multi-dimensional tensor or rearranging its shape for operations like matrix multiplication.\n",
        "\n",
        "\n",
        "**Main Difference: Contiguity Requirement**\n",
        "* view(): Requires the tensor to be contiguous in memory. If the tensor isn't contiguous, you'll need to call tensor.contiguous() before using view().\n",
        "* reshape(): Works even if the tensor is non-contiguous by internally creating a copy if necessary.\n",
        "\n",
        "**Behavior with Copies**\n",
        "* view(): Does not create a copy—it just returns a new view of the original data.\n",
        "* reshape(): Will return a view if possible, but if the data is non-contiguous, it will create a copy."
      ],
      "metadata": {
        "id": "y_adM1V_9hC-"
      }
    },
    {
      "cell_type": "markdown",
      "source": [
        "**When to Use Which?**\n",
        "* Use view(): When you want to avoid copies and know the tensor is contiguous.\n",
        "* Use reshape(): When you aren’t sure if the tensor is contiguous, or when you want a more robust option that works in all cases.\n",
        "\n"
      ],
      "metadata": {
        "id": "7y2LMoVR-21G"
      }
    },
    {
      "cell_type": "code",
      "source": [
        "import torch\n",
        "x = torch.tensor([[1, 2, 3], [4, 5, 6]])\n",
        "print(f\"contiguos or not :{x.is_contiguous()}\")"
      ],
      "metadata": {
        "colab": {
          "base_uri": "https://localhost:8080/"
        },
        "id": "wx8BBvwT-SYn",
        "outputId": "ac0f9d43-76c4-42bf-d2ef-907907fac75d"
      },
      "execution_count": null,
      "outputs": [
        {
          "output_type": "stream",
          "name": "stdout",
          "text": [
            "contiguos or not :True\n"
          ]
        }
      ]
    },
    {
      "cell_type": "markdown",
      "source": [
        "**What is Contiguous Data?**\n",
        "A tensor is contiguous if all its elements are stored in a single, continuous block of memory, following the natural order as defined by the tensor's shape.\n",
        "When elements are laid out sequentially without gaps, you can access them efficiently.\n",
        "\n",
        "![image.png](data:image/png;base64,iVBORw0KGgoAAAANSUhEUgAAA7AAAAGMCAYAAADjmk49AAAAAXNSR0IArs4c6QAAAARnQU1BAACxjwv8YQUAAAAJcEhZcwAADsMAAA7DAcdvqGQAAFQoSURBVHhe7d0JmBTVuf/xl102nUEERAEHEXELREXRaOCCiHHBG4yIuHCjRtyuiXoNesf9L4lLMJq4bzfojQuJJppoVAyBXCNE0YBKRERUUERAmDiAsv/nd6ZOU1P0Pj0D1f39PE8/013VVXXqVHXPees9dbpJRUXFZkNROfjgg+3666+3Tp06udfPPPOM3Xjjje75tnDAAQfYOeecY9/85jetdevWbtq2LlMhDR8+3C644ALr0KGDLVy40G666SabOXNmMBcAAABAoTQN/hYdBXHPPfecvf7660kfr776qo0dOzZ4NxpKz5497corr7TDDz88Ebxmq02bNnbhhRfab3/7W3vllVcSx27GjBk2ZcoUu+aaa4J3blvf+MY3bOedd7YmTZpY165d7aCDDgrmlK5jjz3Wpk2bVuczFz5+L774ot1+++122GGHBUsAAAAAmRVtAIvtw9ChQ22PPfZwz9etW2ePPPKI9e/fP2P2VUHg//zP/9iYMWOsR48e1qpVq2COWbNmzax9+/bWpUuXYErD+9a3vmU33HCDPfvss/brX/86mFrrzTfftOXLl9vmzZtt8eLF9sYbbwRzkIyOn7LVqtOf/exn9t///d/BnNzpAslFF13kjskLL7zgAmcAAAAUr5IJYNVlVYGTfygjeN999wVz0VB22WUXa9GihXteVVVl06dPd8/T8cGighNlNdesWWN//OMfXTCrYzdu3Dj7y1/+4qY3ltNOO82+853v2K677mrNmzcPptZ6/vnn3bxDDjnEvve979F9OGL9+vX24IMPumOnY/jUU0/ZqlWr3LyWLVvacccd57pg50MXSEaPHm29e/fOOcMPAACA+CEDi+3OqFGjXOAr1dXV9otf/MLd0/vPf/7TTVP34R//+Mf2X//1X+414kPHUPcI/+QnP7GVK1e6aQpijznmGHevNAAAAJBO0Q7ilO1ARsoI/eAHP3BdVNUF9OWXX050abz22mtdl8SmTZvav/71L7vlllvss88+cwGW1q9urMoubty40TXG1YXxjjvucMvKk08+6bKIom6mX331lR144IEuU6SslLqa3nPPPS67d+SRR7rpWtecOXNs/PjxtmDBArfsVVddZSeeeKJ7vnTpUvvb3/5m3/72t103TFH3VW1r4sSJ7nW6fdc0dblUBnrHHXd005TJ/Pvf/+4y0n6b6ahOTjnlFLdvO+ywg5v29ddf2/vvv28PPPCAy7LqPcqU6j7WKG3v5ptvdpnLqGHDhrngVGWLHo90tF86jkcccYSVl5e7bqr+uLz00ktu33zGVvc+67jr2Gma7rEdMmSI65KsY/3ll1+6+6d//vOf13lvlI6FzhF1dw6vL7xvOm5nnnmm7bbbbq5MOgdmz55tffv2TZwHOm4qX/Q4a93K5qY7nqrf73//+y4TqfJrG6o37YPu877zzjvduiR8TMLblbvvvttlSEXngI6v6B7Vs846y/baay+3nDLiWva9996zW2+9NXFRISrdtrwrrrjCvvvd77o6X7t2rd1///2ui7mWPemkk6zmu8ktr33SOj7++GM3/09/+tNWdRLmt/e73/3OnROHHnqo+6z4z7jqRvdU6/PszwmdY8oEa1s6fysrKxPzAAAAsP0o+QysGrr/+Mc/XMNWjXN1Az366KNdN1YFeWpcb9iwwXVhVSCkaf/2b//mGsQ+qFGjt2PHjnbqqae64CsZBSzhgYy0rBrWv/zlL13w4adrXcpEKchMRtv593//98SgQXooW3nuuee6xno6CjgVlCnbtdNOOyWWb9u2rQ0ePNgFRT7gTuW8885zjf199903EbyKnqvcyq6pLPnaZ599XHlEQfGsWbPc83T8fin4U/2oDiV8XBSgJds3BTWa7wNM1YfqRoGVugPXh+rq8ssvt+7duyfKpOM8YMCAxPGuDwV3CpYVPPvyi98HdWu+99573bmcDy2noLpfv37umGi9onNXgaO2Xx8KfhW4io6D6kmOP/54NzCWLhD5fdI2e/XqZZdddpn7fGZDQa7eq27f/h5qXzcKksMXtPT5VCZY21N3ZJ3fAAAA2P6UTACr4CY8EqoybGrgioJYn6VS5k8BnrIxyuSJMqLKDsmmTZts0aJFLpukLJXep8BW2T41fpWx8g3xMGVzbrvtNtftVRlT8cGjRmTVz8zMnz8/MX3vvfd2gUOU5imDp6yYskS+3Gp8H3XUUWmDirPPPttl0rQOLaflFWR98MEHbr4yXmrYp6LAfcSIEYlMloJLlUPrUJk0TdvXOlRHAwcOdNlCT9s8//zz3fRk2Vdp165dImhRAKuMdyaqO79furdSQZu2oWywXmt6nz59kgak2ta7777r9kMXE/y9mQow9bM/Os668KBzxlOGUtlKHftU97sqmNd55AOnjz76yC6++GL30PNC0IUCncPaPw2QpXtLtd8KapctW+bes/vuu7tsZj60Lt+VW/cv675kTVNWV9lQXdipDy2vcyZKx109FpRh1fbC56iCT01Tvav+dW+tMq6iz5iy1jpeOm76TKoeNMCTgnwtp+eqK9XZ/vvv73o+iM5fTdcy8+bNS5lZBgAAwLbFPbA11BhWt0Q1hNWwVVCg7JOeqwuqGr2+O6GCIgWuajiLghxlkdTwFWWNlMGJUpfLJ554wv20yIcffhhMNfv888/t8ccfdw1odeP161Hgo+xhlLoy6/1vv/22C5wnT56cWEZZWTXek1FGSQ127ZPer+W0vLoxK1hQYK7Bifbbb79gia0paFMAIQpo1J1T5dA6FKj6OlJ2LlU5Ck37pTJrv0TdZh966CFXFl10UHAqClTV1Tca4KtLr8qu/dD+LFmyJJhjiQsY+dB54Y+ftvGb3/zGdU3VQ881rb60P35Aqblz57rst/ZbXaK1Hd+rQBdD/MWaXKj3ga9XXWjRMdWI0rrgo0GXssmO5+PSSy91XbfV60HHV9vUvdBesgtEyejCkC5a6Od6dNFI3cu1PwqQReeCLtqI7snVZ17Z8UsuuSRxLgMAAGD7UrKjEEezZ/rJFp91UfZNjVsFtFpOI956Choefvhhdx+q7jtVN8QTTjjBZUBFXR3987BkmSZRY9pvV0GNAklJtR4FjvodTS+bZaRbt26Je14VzOm+W5+NPvnkk12wIv6+2mS0Dv8+Bfb/93//556LMqWrV692z1UOn7mrD3VLzhREhvdLx2vhwoXuuaeftfGU3Y12DdVxCWcS/cBC9aXMpz8WCr7C9xYry5vqfMiWsvPhYxW+KCLKdvv90n4nu1c0k7feesvdLyo6psrw/+pXv3I/JaTzp77C3b11UcVnv7Vufe50nusecd0rG+6NkOocj1KXcQWvf/3rX12PC91XrhGL/fmic7kQXbkBAADQeMjApqHslu4t9JT5UXZI3UPViFajW0Hbp59+Wu/ulNlSsJpPdkiBgg8+8+WDjYakANTfF6kAVvcJp1OI/WoIKpPPXjaE6E/5NAQFqj/96U9d7wGf5dc+6Z5SZWAz3XOdibp1+2BUnyNly4cPH+66c3ft2tUdW12U0EUb31U+F8qkKmusIFUXDHSxRxc0/PkFAACA+CGADeh+Qt99Vg1cBaRqrOueVn8PobJAyviJGtXXXHONDRo0yGVk/X14DU3Zo3BQp6DaBzPKYIUzjmGa7jNcCkbULTqckfYPP/psMp988kkic1hWVlZncCAFNX7wJdVfNBOaLQ2oFb5HWGXSIFephPdL9RDtXqpAyFuxYkXKe1YL7YsvvkicE6oX1Y+nc0gZzWwlC9K1Hz47Kj169Aie1VLG1Z8XOlcz3XebKtjWKNCnn366Cyx1zvi6VuCpgZbypc+Uuuv67SpDrS6/6nrtM6S691wDlun4v/baa25atvQZ0aBPWr96Oei+XY3cra7C4e7IAAAAiBcC2BoanEgDD6nBr+BO9975QWPU/VKNbXVHVNDmAwm9V10glY1VF+LwiLwNSfe5/sd//IcLUNTVUgG2DwL0Mzap7kvUdA28IwqINDqrfg5IXaW1bz/84Q/dvY3p7pUMB03q2qvARsuqW/XIkSMTAayyZfqZknz4e3s1oI5oOxrZWeXzowjrp3bUNfRnP/uZ2y9lCBVYqx5UH6oX7dd//ud/uvt+RRckdK9uvsL3rKpM6YJq0T2pvku16kVlUj2p3hUMJgtgw0GvtqEBhtQDQO9P1pVawb7PjKpr9I9+9CO33+omq2BN9aF6USCobupav8/ea/v6SSfVqcqm+2SjVO+6j1j1rWOq+7T9Pok/RrlQOTXQkgaz0v3ionWra7L44FWUOe3cubMbgC1VJj7chV5Bte8i7n/iSnS+q/70mdFnOVldamRt3Ragbssa0Vr1CAAAgO1PyQSw0VGI9dBPq6ihqt/R9I1aDeKj++U0yJHvaugb+eHsoAJbdVFU9lWZW9+IbmgKShRkqowKWMJBgAYHSkcZNN8VU/eo6idJNKiU7uVVMJps0KgwBZZPP/10YhRXlUPLatRfdQcVDTKl7WTze7Kp6LjoNzx9/evCgcqnbem46b5jZX99kKHsmh/BWfWhetF+6fdXffdRBd9+JOl86H5QXx6dK8rkhUeyjtJ90wqIfIC55557unrSfZiqZ5/JDtO+KUssCr4UiP7+9793wbK/SBGm/VZQrnUpeNM5qv3Weak603Rd1PADjmmQMNWT37YCWNWp6stffAjTOpURVX2rbPrdVAWUoqyutpUN7YtGitY6dJFEP5Pjj52y+lqv6krC9azPnT5f+imfcGAbFv5M6qKSehBoIC+dj743grav80fHS4F9srrnZ3QAAADioeQzsPq9VT9qsLJ0U6dOdVlABYPKookatfoJDnUD1c9z6Cdi1AjWQ4MXadRX3+huaApwlHX02S/9VXnVndkHAalovgbEUQNfmTTfkFeQpSBAWdNMPx+i4FIBh7KefjRXrUfrUzfPq6++2v2cS30pu6rfUFVGTEFxOOhQXavelVkUBcsKwhSgqH580Ki/uj9ZQdO4cePqNbKs1qH9ipYlHdWTzg2/jMqjn3VR0BjO6HoKsu+66y7X/Vrv1TIaVEpBrA/SwrQ/qiONSq36CO+33q+BkBTMhi8mKLuoQNafPzqGOi+SZe51sSNcn/44670633SPbD50/NQbQFlXH3R7vp59pl8ZaZ3fqYJlzdNn0teZp+XuuOMOd19tuC5VZn+RIIyf0QEAAIiHJhUVFdm1xrHNKAOlDLIoqFAXzMa6lxOFp8yw7rnWTyUpCNXvtqb6XVwAAAAAW3APLNDI1HVXwasoI/vOO++45wAAAADSI4AFGkh4ECTRfZW33nqrG31X1F1V3a7zHbEZAAAAKDUEsEADiQ6CpPs79bNLuqdawavu79VATAAAAACyQwALNJDoIEiiQZM0SNAvf/lLN/BUfQaWAgAAAEoNgzgBAAAAAGKBDCwAAAAAIBYIYAEAAAAAsUAACwAAAACIBQJYAAAAAEAsEMACAAAAAGKBABYAAAAAEAsEsAAAAACAWCCABQAAAADEAgEsAAAAACAWCGABAAAAALFAAAsAAAAAiAUCWAAAAABALBDAAgAAAABigQAWAAAAABALBLAAAAAAgFgggAUAAAAAxAIBLAAAAAAgFghgAQAAAACxQADbCA4++GB77rnn7MknnwymJKf5md4DAAAAAKWqJALYu+++215//fU6D01DaldddVWd+po2bZode+yxwdzMonVOYA4AAACgvoo6gFXApcBr5513tv79+yceDz74oLVv3z54V8ObOXOmHXfccXbKKacEU7ZvyhhXVFTY+eefn6izJUuW2IUXXujmZePrr79OLH/ttddaly5dMgaxCnqVqc52GwAAAABKS9EGsAqCFHDNmTNnq8DxvvvuszPOOCN4hSgF3Geffbb7602ZMsXatWtnBx10UDAlvUsvvTSx/PPPP++Og5YnOAUAAACQr6INYI855hgXMP3xj38MpqSmoEqZv3CXV3Wh9fx8ZQiVRfTviWYLo91ufcYxvLzns8PR90ZFu+KGy6XnWsdtt93m5qXLXobLHV1PrnzZw2X208L7mC1fP8rWdurUye655546+zJ27Fh79dVXE2UPb1fztF1fF/490XKk2//osdC2tF7Pl++hhx5yf/3yWme6OgcAAABQWEUbwB5wwAGu26uyf+koeJkwYYKtWrUq0V1WXYw1PRoEad7bb7/t/qpbrALks846y81TwDN06FC3rJ9fXV3t5kVp3ePGjXNZSb/NL774wnr27Bm8o5a236NHj0RXXF+ucPDVpk0b22233dx8dVMOZ009le3TTz9NbOuZZ55x6wkHaZn07dvX1dEbb7zh6vSxxx5z3YL9OsaMGePq+4ILLnCvw/Sefv362fTp05OWT9NUdgWGS5cudfvr90XLjh492iZOnOjKrnmq93AQ26JFC1f3N998c2L/tD1fNtWjlvH1qPme3qP6DB8L7d8555xTp55ln332sWeffda958YbbwymAgAAAGgsRX0PrILCTI4//ngXmN16663BlNouxrNmzXLBYzi7tmDBgkTg4rvF+vfssssubvqiRYvcXx8EJeO3+fDDDwdTzAV+Wr+nAHOvvfZyAZMP+lQurV/Bubd+/XrXvTcdLacuvd6bb77plvNlzkSBnIK2cACqdSpgHTx4sJuvYFZBpqfy+6ymAlDVWz5Bn9avetb2RNtXObQ9bcObPHly4mLFCy+8YCtXrnRBt+geaNW3L3u4LFq/6jQceGuejkW4nkXv8+UQdU1PddEAAAAAQOEVdQCrwCUTvefjjz/eKgiZPXu2tWzZ0nVp9dIFxAqaFCRdf/31GbvRptpmWLdu3axt27YuCPZdW/WIZmkViPqgOR1lGn03XJVRmdtsKNOpQFHZ32gAqoBVgeSJJ55YJ4AUPR84cKALfJUZVcY51+62eq8yp1pHuA60vTDVwbJly4JXW1OAr/pM1jVY61dWPUrTNC9c3mwuiAAAAABoOEUbwCrYiAYgDUnBqLJx6jq83377uUArUyCbyerVq936FMCFH7mOZqwgVF18fTdcrXPNmjXB3ORUbwo4VYcXX3xxncyjp+6+CtozUTCrLsdaV7aDQIWpy2+0DhQchwPmdFT2ww8/3L1fFwSigSwAAACAeCjaAFYZ1PLycjeYUzoKdKNdhUXdT9etW+eCtFz4zKMC2GTr9aLz9FwBnqesqjLABx54YDAlP8qeKkuqciULQpNRWZSlVXCarous7v/VexRg6h7UcJfeQtB2tf5oV958KYOs+2B99+J069c0zUuXJQcAAADQuIo2gFWwpqBN3U2jmVBl3x599FH3XKMUK3C8/PLL3WvR/HSDDiWj+0Cjg/6koi6tCq79AFCi5+Huyiq77jGNBoYacTiX7KHPknbt2jWYUjvgUrouxMqSKngO39MapX1VHWlffPdprVdUPpXTU0A8fPhw9x4NApXK4sWL3bEI14O68qrbdLhuo+vPxA9+lYzvXhw+R7QtTct0bzGjEAMAAACNq6jvgVXGLdyl1z8UaL3yyivuPQoUdY+mspTh+Qreovd8ZqJg2a9DGVZtO1kArOBa61cA6N8v4UGcRF2FFcQqG+rfpxGHs82kiravgaDC29KIxOm6EGtwp7Kysjrb9Q8FbQogFRBqoCuVxW/DB4LKHisI9svoZ3EUvGYa8Ch8H7EPDHUMlOEN160GhXr55ZeDpTJr3759Yl9UFt1/7AdtSnYsdNFA282lngEAAAA0vCYVFRWbg+cAAAAAAGy3ijoDCwAAAAAoHgSwAAAAAIBYIIAFAAAAAMQCASwAAAAAIBYIYAEAAAAAsUAACwAAAACIBQJYAAAAAEAsEMACAAAAAGKBABYAAAAAEAsEsAAAAACAWCCABQAAAADEAgEsAAAAACAWCGABAAAAALFAAAsAAAAAiAUCWAAAAABALDSpqKjYHDwvWq1atbKWLVtas2bNbPPmzdakSZNgDgAAAFA8fFt348aNtm7dOlu7dm0wBygORR3ANm3a1Nq2bes+uPoA+0CWABYAAADFSAGsD1zV7lX7d/Xq1bZp06bgHUC8FXUXYgWva9ascR/kHXfc0X2ACV4BAABQrNTWVZtXbV+1gb/66ivXJgaKRdEGsPrg6uqTsrCtW7cOpgIAAAClQW1gBbS+JyJQDIo2gFWXCX1YCV4BAABQqtQWVptYbWOgGBRtAKsBm/igAgAAoNQp+6q2MVAMijaAVZ9/AlgAAACUuhYtWgTPgPgr2gBW/f0ZsAkAAGDboS3WsLKtX44DiknRBrAAAADYttQjDg2H+kUpIoAFAABAQZHxa1zUN0oJASwAAAAKisxg46K+UUoIYAEAAAAAsdCkoqKiKC/ZlJWV2aZNm4JXAAAA2J7tu+++duCBByb9Df+NGzfa/Pnzbfr06bZ+/fpgKnLRtGlTq6qqCl4B8UUGFgAAANtUx44d7bTTTrPOnTsHU+rSTyMOGzbM+vfvH0wBUKrIwAIAAGCb2n///e3UU0+1q6++OmX77fTTT3fZ1yeffDKYglyQgUWxIAPbwHqPvMKuGNk7eAUAAACvefPmtscee1inTp3c6x49elhFRYV7dOnSxU3zNmzYkHm03b1H2hXjx9v44HHewGD6do72IpC9ZuXl5dcFz4vKDjvssG1GZBt4no0/pp1NeeMj93Ln/Y6wfexde2XOF+41AAAAzLp3724XX3yxHXLIIdazZ083TffA+sehhx5qe++9t73xxhtunrK08s4777i/UQoCLx3WxP5aeYs9PGWKTal5tDt0pLWcM8e291ZYY7QXFfx//fXXwSsgvsjAAgAAoNEddNBBtnTpUrvmmmussrJyq8ftt99uu+++eyK4TW+QDe5bZZMr77WpwRSZOmmSzQueAygO3AObhq7kjbAZtqDnUOvbXlMW1X4xKst62AqbeJP/Uhxk540fYCverLK+B3ZzU8yqbfYjN9msvpF1VM8OLdfbRl4xJlh3jYWTrfK+2q/dQWPHW5+5k82OHmpujaF5AAAAcad7XuXxxx93f5NRN2DNV9Y17fvVNuszN21bSW2rod2DF6H2WM7tvZr23aT33ISE8LqrZ0+0mybVLKHuzGf2Nd/MW/RSpd07LXjh1hW08Wq2N3t2mfW0p2uXi7QP6y6XP+6BRbEgA5tB+74DzH5XeyVwYs2Xy9Cxg8ymTbHZNV8z/fYO3jSwj3VbOMMmPXWvVb60qDbYrNzy5bZlHRNrlutrg939GLVfTj0XTExcaZxsQ+vc/9Dt6D42182bbIu6D7CRfnsAAABI6N25zKpXLg5ebc0FmDUtLd/mmrigp41Rmy6QU3svErwqAA6ve0vw2tMWPFI7TW05O/qKoC2nNuBQK6sJdGvnzbUOiWyG5o1IlKV2ufNqwl0AHgFsBtWzn058Uc2bNKMmkOxT8yUyz2YtMOvZtzbYHNSnmy2am/qK35Z1aLlqK+us5bpah5qvxafdlbZaU6fOrllpv5qvrlqLXvLdYKba3IXtrUPdsQwAAABiS2OVZDteSbNmzay8vNzWrFkTTKlr3udV1r68a/Aqqrd1Kl9kk0PZ2S1tulr5t/d6W7+eZrOnRqZ36VAzccs61ZabomaeW1e0Dah51cHzmnnt21vfM/1AVMrSllknkhhAAgFsnvTlVuWCzUHWp3y2TSlA1w4AAADUpa7DN9xwg/ut2JkzZwZTI5assOpQQFoomdt7CjirbGkkK5vW3p1qQtJ01IXZZ2D12LrLMlDKCGAzaB/KiPYeOcC6LZy7JSu6sqf1G9nHyhbMCu6NyMViW2F9bUSoy/CgQX3N8loXAABAcdJowg888IDLSH766afB1Ij3JtmMhd1s6BUjE+021x13rF7Ps6Ura+aFugzXbdPVp72nXnJ11+3UBNTWd0To9i8NMlXTzJtds4b3ZtmCxC1lonm+C3FN+7C6mw3gJ3WAlPgZnTQ0pPme1sT2GfFd+86QIdav7VybeMdziaHYP2q3v43+ltlff/mi1f5oTo2P21nvEUPtu0MOsY6fvmJLutQdFn3LMOnzbM4rm2z/0SNq3jvEhtQ89vzXZLvhkdqh4vc4eIh1XD7FZn7sXm71GgAAIM70szj6aZdUP4ujeYMHD7bp06fb+++/n7Fd99EbU+yTrifYmNHfce2qIUP2tM+fuc/+WtME++iNT6zj0BE2+ju1ba5wmy6v9l5IdN2HdPzEXvnrX+2VjTXL1azTl+XLl26wia6Z94XNWdbRjhox2m1vyJCW9tHsplaeon045JCO9skr9f8pIH5GB8WCUYjTqB2Vzo8Il0QWI94BAABga0ceeaQLUBcvTj74UvPmzW233XazCRMm2MqVK4OphVcq7T1GIUaxoAtx3nrbyMPSD94EAACA5GbMmGHTpk2zjRs3BlPqqq6utkcffbRBg9fMaO8B2xsysGmkvCKnK3FHd9vyO18AAACIpVJp75GBRbEggAUAAACKHAEsigVdiAEAAFBQGjAIjYf6RikhgAUAAEBB1feXIJAb6hulhAAWAAAADYLMYMOiflGKCGABAADQIMgMNizqF6WIABYAAAAAEAsEsAAAAACAWCCABQAAAADEAgEsAAAAACAWCGABAAAAALHQpKKioiiHLysrK7P58+cHrwAAAIDS1atXL6uqqgpeAfFFBhYAAAAAEAsEsAAAAACAWCCABQAAAADEAgEsAAAAACAWCGABAAAAALFAAAsAAAAAiAUCWAAAAABALBDAAgAAAABigQAWAAAAABALBLAAAAAAgFgggAUAAAAAxAIBLAAAAAAgFghgAQAAAACxQAALAAAAAIgFAlgAAAAAQCwQwAIAAAAAYoEAFgAAAAAQCwSwAAAAAIBYIIAFAAAAAMQCASwAAAAAIBYIYJHUnXfeaXPnzrWBAwcGU0pPsjrQc0378ssv3eO1114L5tSqrKy05cuXJ+ZrHcVu1KhRtnjx4pLaZwAAAGwbBLDbOR8wxS0oiGu5PQWiI0aMsEcffdSmTZsWTN3ikUcesR133NEOOeSQYMoW1dXVdu6557r5F110UTB1i5s7D7NXK861/Vt1DqbUX5smLWzibifZW3te5B7aRqEc1XbPxHqTrfuJJ56wrl272gknnOACWQAAAKChEMACEQq+zzjjDJs5c6aNHz8+mFp/nZu3sxd7jLHPN1Tbqk3rgqmFcXpZP/vbmoX2jQ/utKEf/8r67dDFzi3vH8ytn5dXf+DWq8eABfdZl5r9KNS6AQAAgFwQwGbgu4Q+++yzwRRz3UaVaVLXyYak7fzhD39w2a0zzzwz0UUzXBY999Oj3Te1vOaH3xPNiKZbXq666qrEvPB208mm3NqOn676VT17vsxaj39PuFzRbrzRYxHtxqv1eFqPlr355psT7wnPl5NPPtn9nTBhgvtbKOeWH2yXLXnBXlr1QTClcO5f+bp7yOcbVtmsr5fYni07uNeFtGbzeltSs34AAABgWyCAzUAZOHWRPPzww11gpABo9913t0svvdRNb0jqnuq7ZT4SdFnVY/jw4W6+ynLwwQcnuqvqPQrkwsHgoEGDrEuXLm7+1KlT7aijjnIBoChIDC+vR7jLqwLQnXbaKbFuvTeboD1TuVU+dc9VEKnpqscLL7ywzrpV7iVLlrj50XJfdtllLvD061U5/bHQOrQuvdY87ZuOVzh41vuVYdW+qgyaH64zlX/evHlJuw7Xx/9bNtXeWft58CqelEXuVRMYv7pmYTAFAAAAaDwEsFlQoPPqq6/aKaec4gKpp59+OuvgNZxF9I9oxjEfCuZUFnVz9WVRORcsWGCHHnqoey0KIi+//HL3/O9//7u1atXKdt11VxfoKSBNty/hZV955RVbu3at7bnnnu51fah84e65v/nNb1y9HHHEEe61KEvqA95wuT0FncmC6dGjR7t1aZ2ifdM+9u7dOxEAr1u3zu666y43T/ul9/t16z0KfBcujG+ApntWj2zTwx6tmhVMqT91Gdb9r5N7/IfNX7ci9oE4AAAA4okANkvqTtqyZUsX7CQbmCcVZfN8ptA/OnbsWLB7KzMFWuFMorZZUVHhAjcfiH722Wfub2NSRlgZVtWlHr67cbYU2H7yySd2//33u+XD2VXRtHTZU11AUOAqel+fPn0Sx1SBrI5RXGlgqBs6DbFrlv65oEGmuif7+2A/qAlgNWCUBo4CAAAAGhMBbJZuvfVWW7RokQtuogFTOg2VgfW6d+8ePNuSPczGBx984DKq24q6BfuA3j/yuTCgLsLKJIePiab7bKuE6ygTBfQ6RnGk4PX+rifar6r+4QZeaijqPtyuaUtr36xVMAUAAABoHASwWfD3vT700EPuZ1UUMGUbgNY3A6sMoQIqrSdM05VdDd+XqsGHtP7HHnvMvU5HWdhly5a5e0HDwV4utJy6+iYLyFOVWxTU+3uK6ysacKq7serXD8Tku0q//PLLabOyni93LkFvIelc0/ajA0tlEg5e/WBOUapvHSsds3yPuZxR1s91I9ZgUdnKd78AAACAMALYDNTw1ki6/l5RBZ7qvnrJJZcULIuayW233eYCaAUAevhso7rS6l5S35VWwZq/tzMbCi61nLrw+nVrfwslVbmVaVUZx40bl5gXHUk4FR80++V82f39sjo+P//5z926NF11ozrKJburICt8YaBQ/H2kj+1+svspGv2N/h6sujavWrXKXYjIJchUUKms6EUdDk38XmuydSuA1brD9xNn4svtHzLu8xfd32zlu18AAABAWJOKiorNwfOiUlZWZvPnzw9eAdlTgHXfffe5DLcPjD0/TxndZEGxLmqcc845duWVV2Z9ISHMr1/Bd7LsdX0pOFcQOXbs2Kwy0rlIVzcNvV8AACC9Xr16WVVVVfAKiC8ysECEArtcu4oXgjLUPqNc6CDPd+FtqOA1nYbcLwAAAJQWAlggCXVFVrfxVPcIq1u5ArJk93S2b98+0a07ly7ZyvYqwGyIIE8ZUa27T58+BQ9e1dVaXcBTjSbdkPsFAACA0kIXYgAAAKDI0YUYxYIMLAAAAAAgFghgAQAAAACxQAALAAAAAIgFAlgAAAAAQCwQwAIAAAAAYoEAFgAAAAAQCwSwAAAAAIBYIIAFAAAAAMQCASwAAAAAIBYIYAEAAAAAsUAACxTIa6+9Zl9++aV7zJ071wYOHBjMKV6VlZW2fPlyt8/6q9dh4TrR87BRo0a5etJfAAAAIBsEsEABTZ061XbccUfr06ePTZs2LZi6xVFt97S39rzIbu48LJhSf1qX1ukfr1aca/u36hzMrb/OzdvZiz3GJNavffDGjx9vHTt2tHPPPdeqq6uDqVsccsghrj5UL1FPPPGEzZs3z6677rqSCPYBAABQfwSwQCNRIHh+h0Ps/9Z8HEwpnEuX/Mm+8cGd7nH4h/fbO2s/D+bUjwLh33UbbbcufyWx/pdXfxDMrb/hw4e77Oxll10WTAEAAABSI4AFGsmlO3/L5q9bYbO/XhJM2f6dUdbPrln654IGrVHPPPOMHXDAAXQlBgAAQEYEsEAjULfbfjt0sdu++FswZfunjHGvlh3sGzt0TnQfVldiTS+kV155xdauXWtHHHFEMAUAAABIjgAWaGBtmrRwmUx1w/18w6pgamHd1uU7iSDz3PL+wdT62aVZW9u1efuagLV9ovvwrK+X2C2dh7l9KhTdK6xuxN27dw+mAAAAAMkRwAIN7PSa4HVJTeDaUN1wx33+YiLAHPrxr+ykHfctWBD72YbqOlnjR6tmWbumLa19s1bBlMJYsmSJdenSJXgFAAAAJEcACzQgZSq/1aa7fafdXokM6UUdDnWvCz1asCjDqyxpISzbuNr9VSa2oSl4VRALAAAApEMACzSgNZvX25hPn0pkSPW4c8Xf7U+r3t9qtGD/m6l33nlnMCV3utf2yDY97NU1C4MptfJZt4JhDTql7s+enmtaIbtC6yd09FM7CxfWLTMAAAAQRQALbCcUZEou94JGf6P18o5H2HcXPbbVz+jks265fukU61KzDb9+UZflQtLgTa1atXKDOQEAAADpEMACjez+la8nDQI/++wzW7duXU6ZSGVCh308MZHd1fNk2dF81i3RDHKhg1c58cQT7e2337YnnngimAIAAAAkRwALbGPqQjt37lwbN26cC+Iuuqg201kIDbnuQnj22Wdd9+EJEyYEUwAAAIDUCGCBAho0aJC711RBo4LHbOhnZPr06eMCuUIHmA25bqmsrLTly5fb/fffb+3btw+mbuHvvVW9RI0aNcp69+5t1113nSsnAAAAkEmTioqKzcHzolJWVmbz588PXgEAAAClq1evXlZVVRW8AuKLDCwAAAAAIBYIYAEAAAAAsUAACwAAAACIBQJYAAAAAEAsEMACAAAAAGKBABYAAAAAEAsEsAAAAACAWCCABQAAAADEAgEsAAAAACAWCGABAAAAALFAAAsAAAAAiAUCWAAAAABALBDAAgAAAABigQAWAAAAABALBLAAAAAAgFgggAUAAAAAxEJRB7DNmjULngEAAAClqXnz5sEzIP6KNoDduHGjtWzZMngFAAAAlCa1idU2BopB0Qaw69atsw4dOgSvAAAAgNJUXl7u2sZAMSjaAHbt2rXualPHjh2DKQAAAEBpUVtYbWK1jYFi0KSiomJz8LzoNG3a1Nq2beu6TFRVVdmaNWtsw4YNwVwAAACg+LRo0cJat25tZWVlbkyY1atX26ZNm4K5QLwVdQDrtWrVyl15YlAnAAAAlAIlcNRtmMwrik1JBLAAAAAAgPjjd2ABAAAAALFAAAsAAAAAiAUCWAAAAABALBDAAgAAAABigQAWAAAAABALBLAAAAAAgFgggAUAAAAAxAIBLAAAAAAgFghgAQAAAACxQAALAAAAAIgFAlgAAAAAQCwQwAIAAAAAYoEAFgAAAAAQCwSwAAAAAIBYIIAFAAAAAMQCASwAAAAAIBYIYAEAAAAAsUAACwAAAACIBQJYAAAAAEAsEMACAAAAAGKBABYAAAAAEAsEsAAAAACAWCCABQAAAADEAgEsAAAAACAWCGABAAAAALFAAAsAAAAAiAUCWAAAAABALBDAol6efPJJ90jnqquusldffdXGjh0bTEEqBx98sD333HOJOlWdTZs2LVF30ddRfvm77747mFJaMp2POhdVf8cee6x7rfeqvlRv/nW65Qslm+1EywYAAIAiDmDVQFVDVQ1WAAAAAED8kYFF1pTVyycjdOONN9rhhx9u9913XzAle6V2IWLmzJl23HHH2SmnnBJMiYd8z41tTfWs+la9N5R866YxygYAABA3BLAAAAAAgFgomQBW2Q9lQZQN0b1lr7/+untkyoz4e+Zuu+22rZbRutKtJzxfj3AWsT7r9VlJ/57o/aX+PkmtW/P0XOuJ3nOn9Wq6tpeOf1///v2tU6dOds8992xVrnCZtT1/j6H4ffXTVD6Vy78/2T6Klrv++uutTZs2duKJJ7r3+jqM1kF0Hf4ew3TlylSO6PGL1l/0GCbbj+i+i9YbnebLquW1Hj2vr3T7LtH983WbiuaH368y+/KmOjeiy0TrKNm56suZqXx6n97v50ePTza0TLrlfBnCxyPbestUNxJeV7JzIly2VOern57p+AEAABSDksvAqjH59ttvu7/XXnuttWvXzs4666xgbnIKoHbbbbc6y6gxuvPOO6dcjxqmPXr0sPPPP9+958EHH3SN03AjM5/1qrGqdcyZM8e9R4/nn3/ezjnnnDrrbtGihe2999528cUX28CBA2369OnWpUuXOg3kgw46yK1/9uzZwZTkfLdWNZqXLl3q9inctbFnz57ur8qieatWrbIxY8a4aVHa/ujRo12Z/fuXLFkSzK1LXY9VB2vWrLFnnnnGvV/TtI5x48bZ5MmTE3WgbSrYDQcH6cqVqRwKHPbbbz+3fT9fdRUNQMLHMFl3zzfffNP9PfDAA91fLavzQsv5aSqLjs3ixYvd60JQefxfPbRvqjN//LM5P8N03g0dOtS9T+9XvVRXV6c9N7QNrdMvo4eOwYQJExLlkOi5qmOSqXx6rv0Jfw6++OKLxDEvBG2rX79+btsXXHCBm5ZLvW2rzw0AAEAxK7kAdsGCBS4IEjUG1QBWgzQclEQpgJo4caJ77pdJNs2vR43Nvfbay5599tlEY1X3fy5atMgOOOAA91pyXa8MHjzYrcc3qEX7o/0Kr1sUtPrtv/DCC66B7IMm6du3r2sE53Nvapga5w8//LB7ru0lC5a9bt26ub/Lli1zf/X+s88+O1HObBx//PGu3P44ypQpU1yAqaDcS1eudOVQsKb3PfbYY+4Y+Pk6ntFtrF+/3m07FS2vsnbt2tW91rItW7Z0ZfPTVJZ169Ylgt1C0PkQPkf8OaXjn+35GbbLLru4v3qPaL900SQVbUMXAPS+8PkVLkdY+FzNpnw6B3Q+++Mr2l/tdyEoIFXWP1z+fOotnUJ9blQG3WMe/jwAAAAUq5ILYJWlKQQ1ntUATUaNzbZt27oGvu/up0c22aF061UQqwBKGeQoTdM8H+gqsPKNXVFD9+OPP040tPU+BcbJ1pUrldk36DNRY1sBneomXdfNdJShVl2G61brUyYvLF250pVDwZqWfeONN4IptfRa030wJ6pnH9SlonPOX4TQsitWrHDBip+mCwma5oPlQoie5zqnVHYFzfmcn/4CiLLcykJmkioojwb0Ej1XsymfzgGdz9med7nwQaSy/uGgsD6f62TSnZ9RhfjcAAAAFAMGcWogq1evTnQ/DT+25eiy6ircoUMH1zhXJlCBgwKTxqY6UBdIBdwKAPJpkGu5aN3mOtJxIcqRDdW7z9zqAoIuGiiwUyb229/+dsEuJOQi1/NTgZa6v2oZZVZVX9kEsvnaHj4/4SDb25blaqzzFQAAYHtGANsAlJFTcBLtJllfCiKUtUnWXVHTMmV0FNwp06dyKeuney4bIoOVDR8QKcuVqttkKuGMZn0lK4eygT7gDNNrTQ9nC7PhM7e6z1PLK3hVJlLHYvfdd3fvKWT34WR82RVM1+f8VLl1n6oCqHTHINU2VL+q53T3+2Zbvuj29Vz7WF/KdKqrs+5/DQfpDfW5zkV9PjcAAADFgAC2Afhukhr0JtzA1Eirur+yPnS/pboyhhvWul9P09Ldi+kp06eGvrJL4cGbVE4NipSufAo6FCBoRNV8af2qh2yFu756Knd5eXmdwa1Ufg2ok6105fDdNTVojj9+qrPhw4e76blkeUVBh7q7HnnkkW5ffFdhBeKaJqm6jedLWUE/sJAvu7atYDqf81PrSjZQkRc9N7QN3b+t9YfXqUGKVI50mf9syqdzPXoO6Hl9zs0wHeNoEJvv57qhPzeaxyjEAACgVBDANhB191NjV/cMKlulh0arzTX4iQo3rP161aDWvXrZrFuZPjX8165dW+f9yirpnsXofZ9h4fsgo6Px5mLAgAF1yn7zzTcngrooBX+6X1QBmd6vRnqyOtB0/c1FunJEj59Gh1YQmm9XUQXd6rId7irspzXEvZxvvfWWHXbYYYmyi7q++u3kc376nzLSQ9nP8PqSnRsaVGnWrFl17hmV8Ei8qWQqX7JzQAo1iJNoGzofdO75fcqn3rbF5wYAAKBYNamoqNgcPEcJUObI/wRNeIAan2UKj1wLAAAAANsTMrAlxt+/F73nsn379nW6FAMAAADA9oYMbAlR10V1Y1SXVTKtAAAAAOKGALZEqIuw7uXTPYL53scJAAAAANsSASwAAAAAIBa4BxYAAAAAEAsEsAAAAACAWCCABQAAAADEAgEsAAAAACAWCGABAAAAALFAAAsAAAAAiAUCWAAAAABALBDAAgAAAABigQAWAAAAABALBLAAAAAAgFgggAUAAAAAxEKTioqKzcHzotWqVStr2bKlNWvWzDZv3mxNmjQJ5gAAAADFw7d1N27caOvWrbO1a9cGc4DiUNQBbNOmTa1t27bug6sPsA9kCWABAABQjBTA+sBV7V61f1evXm2bNm0K3gHEW1F3IVbwumbNGvdB3nHHHd0HmOAVAAAAxUptXbV51fZVG/irr75ybWKgWBRtAKsPrq4+KQvbunXrYCoAAABQGtQGVkDreyICxaBoA1h1mdCHleAVAAAApUptYbWJ1TYGikHRBrAasIkPKgAAAEqdsq9qGwPFoGgDWPX5J4AFAABAqWvRokXwDIi/og1g1d+fAZsAAAC2HdpiDSvb+uU4oJgUbQALAACAbUs94tBwqF+UIgJYAAAAFBQZv8ZFfaOUEMACAACgoMgMNi7qG6WEABYAAAAAEAtNKioqivKSTVlZmW3atCl4BQAAgO3ZvvvuawceeGDS3/DfuHGjzZ8/36ZPn27r168PpiIXTZs2taqqquAVEF9kYAEAALBNdezY0U477TTr3LlzMKUu/TTisGHDrH///sEUAKWKDCwAAAC2qf33399OPfVUu/rqq1O2304//XSXfX3yySeDKcgFGVgUCzKwBTJo7Hg7b2DwAgAAABk1b97c9thjD+vUqZN73aNHD6uoqHCPLl26uGnehg0bMo+2u/dIu2L8eBsfPOLSNus98gq7YmTv4BWAdMjAFogC2D5zK+3eacEEAAAApNS9e3f7/ve/77oHp/LJJ5/Yvffe60bZHTVqlJv2xBNPuL9RCgLH9K2yyZX32tRg2qCRI23xpEk2L3i9vVLZR9jTdtOkhispGVgUCzKwAAAAaHQHHXSQLV261K655hqrrKzc6nH77bfb7rvvbj179gyWSGeQDY4ErzI1BsErgNyQgc1AmdWh3WufV8+eaDdNMht5xRjr27522qKXarOutRnYyWZHD7VumrFwslXep6/Q3nXev2X6IDtvfB9bMbvM+vY1m/3ITbZ0UGQd1bNtYs0G+eIFAADFRve8yuOPP+7+JqNuwJr/zjvvpH//wPNsfJ+5QRsruXCbLtzGqs1+zrAFPYcG7bVFtYGw1nnYilBbTG23Abaips026T03IWHr9mLNEurOfGZf801A32aspXUF7b2a7c2uaQ/2TGRg67Yd6y6XPzKwKBZkYNPQF9pQqwk4gyuB7ktl4GDru3LLtPAXSrej+9hcN32yLeo+wEburanzbNJN/mriRJtd7qdLN/dlVVm55YtwyzoqbfLKvjaC+yEAAADS6t25zKpXLg5ebc0FmKE23cQFPW3M2EHBXLP2fQeY/S6YVxNMDtW8aVNsdk1LrZ9vtw3sY90WztgqeE3aXnTBa09b8EjtNLUN7egrgjagAtShVlYT6NbOm2sdEpkOzRuRKEvtcufVhLsAPALYlHpbv55ms6dGruQtWWHV3YcmvdF+0Uu+28pUm7uwvXXwYw/oCp4bTEBX00LTbZHNiNzrsGUdNWuZOtusZ7+akgAAABQX3deqRzaaNWtm5eXltmbNmmBKXfM+r7L25V2DV1G9rVP5Ipscys7OmzTDFnXvkwgMq2c/nQhMt8ybZ7MW1DTF+ta2xAb16WaL5kYzvCnai1061Ezcsk61DaeoWefW1dU61ITGTyfagJpXHTyvmVfTVux7ph+ISlnaMuuUSH4AIIBNSV8gVbY0cpXN3ptkN1VW2tM2wn2xZBzdznc/cVfRKm3ywmA6AAAAMlLX4RtuuMH9VuzMmTODqREuwbAlIC0UBbNVLpkwyPqUz7YpW3XlTdFeTGfvTjUhaTrqwuwzsHps3WUZKGUEsCkpi9qttgtJEvMm3WSVLy2ybn3Sf1WqS4utXJq4d6KPv/cihfD6Bg3qa7ZgVrAsAABA6ZkyZYo98MADLnHw6aefBlMj3ptkM9Ruu2JkqOdabxs5Vq/n2dKVddt0vUcOsG4L5yZ6vbUP9XirO6+mPbiyp/Ub2cfKkrbJUrQXawJq6zsidNuYBpmqadbNrlnDe7NsgfW1wYkkiOb5LsSLbUV1NxvALWRASgzilFbdm+jdTfmfD7bxR9fecl97hay2y2/tIE5b7ond8rruTfqLar7kLDFd97tu6TLslql5T7fuwfoTAz4BAAAUF/0sjn7XNdUgTpp344032mOPPWZz5swJpqZX+1M6PhisdoNk1mYv67bpthrEqbzKrKb95WZHB9FUb7qjbasRjrdI0l5046ZoOd9m1G1iobFT6gzwFB3EKdx2rFGgQT0ZxAnFggB2OxINggEAAIrVkUceaYMHD7bFi5MPvtS8eXPbbbfdbMKECbZy5cpgauHVjkKc5jdYFYhmGOE4DghgUSzoQgwAAIBGN2PGDJs2bZpt3LgxmFJXdXW1Pfroow0avGbW20YelmzwJgDbChnY7QgZWAAAgMaVMgMbdAFOdAmOOTKwKBYEsAAAAECRI4BFsaALMQAAAApKAzCh8VDfKCUEsAAAACiozZuLsoPfdov6RikhgAUAAECDIDPYsKhflCICWAAAADQIMoMNi/pFKSKABQAAAADEAgEsAAAAACAWCGABAAAAALFAAAsAAAAAiAUCWAAAAABALDSpqKgoyuHLysrKbP78+cErAAAAoHT16tXLqqqqgldAfJGBBQAAAADEAgEsAAAAACAWCGABAAAAALFAAAsAAAAAiAUCWAAAAABALBDAAgAAAABigQAWAAAAABALBLAAAAAAgFgggAUAAAAAxAIBLAAAAAAgFghgAQAAAACxQAALAAAAAIgFAlgAAAAAQCwQwAIAAAAAYoEAFgAAAAAQCwSwAAAAAIBYIIAFAAAAAMQCASwAAAAAIBYIYAEAAAAAsUAACwAAAACIBQLYLL322mv25ZdfusfcuXNt4MCBwRyUksrKSlu+fLk7D/RXrwEAAAA0jiYVFRWbg+dFpayszObPnx+8qj8FsEuWLLHhw4cHU+q68MILrXfv3jZjxgx7/PHHg6n1d+qpp9qAAQPc8w0bNtif//xne/75593r+lBZTz/9dNtpp53c60KuO8yXX3X305/+NJhaP76uwwpZ7/3797eTTz7ZWrVq5V4nW/eoUaPc/jz44IM2fvz4YCoAAMD2qVevXlZVVRW8AuKLDGw9KZC64YYbrE2bNrZ27dpgamEokNpnn33sf//3f+2HP/yhLViwwAYNGuSm19e8efPsmmuucevVY+bMmQVbt6d1HXDAAfbFF18EUwpH5fdl16NQweuxxx7rgtN//OMfBV83AAAAgPohgK2noUOH2rvvvmtTp04NphTO66+/7oJM/ZUPP/zQ/d1ll13c30L617/+5bKwhXTUUUdZdXV1gwSwDaVv374umCdoBQAAALY/BLD1dNdddxVFsFNRUeGCTR8s15e6DpeXl9vLL78cTNn+KWPcvn1769y5s91xxx3uccsttxQ0Kw0AAAAgfwSwMaGuyrqXdOXKlQW7T1WBmQI0BWo9e/a02bNnB3PqR2VV12d1wy1UQBylbfgg88orrwym1o8y27rvtXXr1onuw6rvE044Yat7bgEAAAA0PgLYmDjppJPc36eeesr9LQQFlz/+8Y9doPbEE0+4e2CVOa0vdav+6quvGiwzray3DzD1XAFnoYJY3ccczhorqG/evHlisCsAAAAA2w4BbAwoOFN33D/84Q9u8KKGoGBW2cYOHToEU/KjTKW64Hbp0iWRIdU0vZ4wYYIbJKmQVB+ff/558Kp+li1b5v42xD3GAAAAAOqPALYRKIDTSMX5BHA+eP3Nb36Tsjuu3qNAsT7ZU5VL2/EDRXm5rjs6urEemqaf0bnsssvqdH8uVLnV/fmjjz4KptTSOrVubSNbql/dB6yBnDw9L+S9wQAAAADyRwBbTz5Q0m+q6v5J3acaDcp8ljDXrqgKzjp27OjWq/VrvcmCMh+85ZI9Dd//qseQIUPcSMrR+2vzWXe28lm3vxgQLrd+vzbaXVm/AazuwOpenMv9q+qirWX8+qVQv18LAAAAoH6aVFRUbA6eF5WysjIXxBTKa6+95rKIw4cPD6bkRgHtwQcf7IKtQg3C5CnQVSDXED//Etd1K2hV0K97cRsiANVvxWq9Dz74oI0fPz6YCgAAsH3q1auXVVVVBa+A+CID28B8prMhglefjRw2bFjBg8C4rlsuvPBC92io4BUAAADAtkEGNkvKwPbp08c9X7x4sY0dO9amTZvmXqN0VFZW2iWXXGItW7a0devW2c9//nMysAAAYLtHBhbFggAWAAAAKHIEsCgWdCEGAAAAAMQCASwAAAAAIBYIYAEAAAAAsUAACwAAAACIBQJYAAAAAEAsEMACAAAAAGKBABYAAAAAEAsEsAAAAACAWCCABQAAAADEAgEsAAAAACAWCGABAAAAALFAAAsAAAAAiAUCWAAAAABALBDAAgAAAABigQAWAAAAABALBLAAAAAAgFgo6gC2WbNmwTMAAACgNDVv3jx4BsRf0QawGzdutJYtWwavAAAAgNKkNrHaxkAxKNoAdt26ddahQ4fgFQAAAFCaysvLXdsYKAZFG8CuXbvWXW3q2LFjMAUAAAAoLWoLq02stjFQDJpUVFRsDp4XnaZNm1rbtm1dl4mqqipbs2aNbdiwIZgLAAAAFJ8WLVpY69atrayszI0Js3r1atu0aVMwF4i3og5gvVatWrkrTwzqBAAAgFKgBI66DZN5RbEpiQAWAAAAABB//A4sAAAAACAWCGABAAAAALFAAAsAAAAAiAUCWAAAAABALBDAAgAAAABigQAWAAAAABALBLAAAAAAgFgggAUAAAAAxAIBLAAAAAAgFghgAQAAAACxQAALAAAAAIgFAlgAAAAAQCwQwAIAAAAAYoEAFgAAAAAQCwSwAAAAAIBYIIAFAAAAAMQCASwAAAAAIBYIYAEAAAAAsUAACwAAAACIBQJYAAAAAEAsEMACAAAAAGKBABYAAAAAEAsEsAAAAACAWCCABQAAAADEAgEsAAAAACAWCGABAAAAALFAAAsAAAAAiIWSDmCffPJJe+655+zggw8Opmwfxo4da9OmTXN/G5r2XXVw9913B1Mah9+ujkGu6rNsnG2v52s+sj3Htc+FPM4N/dnSel999VW76qqrgilb21afuXSK6dzKVpy+R7L5HOic07nXUOf29i7O+3/11VfbjBkz7L777gumAADSKeoA9thjj3WN1ddffz3xiENjBQAAlIbNmzfbpk2b7Ouvvw6mAADSKdoAVldhdUV28uTJ1r9/f/e49tprrbq6OniH2SmnnGLHHXeczZw5M5jS+FRGBdkKtuNCmaP6ZmtU56p7HYNc1WfZOEiVodsezlekpwzK4YcfbjfeeKN77S+ipcvIbg/yObfi9N2V7Dhsr98j+X6/6pzTuZdPFi8u52k69dn/xrLvvvvagw8+aC+88EKdz40v+w9/+MNgCgAgnaINYPv27WuLFi1KNCTl+eeft3POOSd4BQAA0DjatGlju+66q7Vu3TqYAgDIR5OKiorNwfOioqvY++23n918880ucE3Gdyf2V+D96y+++MJlbGXNmjVbrUNXqU888cTgldnSpUtddldX9JX5HTNmjLVo0cLNW7BgQcor/Npez549g1dbttWtWzcbPXq0yx4PHTrU/dMTdYG+4IIL3HPRFdxx48Yl5ofLkUq0fG+99ZZ16dLFPv7448S6o+/x65Xrr7/eOnXq5J5LeJvR/XnmmWfqXEAIU3ZB6wpvN1qvqeouumz49c4775woQzb1kUuZPZ1b/vyQcDnTnRuiuk13bKN1L35e+HzNZp91flxyySX229/+tk5WIrweL1O5tc/aTngZvy+PPfaYW78vkz8/1q9fbxMnTkyaEfHLqr6HDBmSWCZ6zJOVNV39e9HPhi+LhMvs3yfJviui2/f7uGrVqsS0cD2LX/8uu+xSp05F+6vsSz7nq46RzhmdO9qmP0ei52yqfU+XmYrup3+d6rtQ88Ofm/C86DkcPj6+/pYsWeK+d3TcVX7Rvr3xxht25JFHurr405/+5Oov0/nrX7/99tuJ+g7vc/Tcluhx8N9B0XNYovWbqW4kWgeZjq0k27Zf7vLLL3ev023Tnx+pjkOqMqSqH7/P4WMdPZcKUReZPs9+v8LnRqr9yGf/PdXBGWecYbvvvrs1a9bMded96qmn7Pbbb7cDDjjAXfz+5je/6YLPjRs32ueff26TJk2yX//61255vx8vvfSS+x/eu3dvN33OnDk2fvx4V7ZwecTX1YEHHui2H/4ff/7559tJJ51kO+64o6t3zdM627Ztm9hH1b+2FT4m/niG16XXo0aNspr2ntu3devW2XvvvWd33XWXq1f/naHvtXAdRdd/0EEH2YUXXmh77723tWzZ0q1nypQp7h5eAGhMRZuBffjhh92Xsb7M9Y8sW/4ftf4R6R+I1qF/Op7+SenLXt2A/HvUGBNtR41Xfdn7ee3atUv8k4/SP2k1FPRPTP80Bg4cmPinr39y/p+x1qX39evXL7Ev/h9OuIu0yqoGkBpCyfh/6NqGX0blCzeYRNPVeNFf7YOoAaV/aupyp3+Magxonu92qHV/+umnifWqvCpjtnWv92l/fb2qPsLdvbOh5dSI9ctr384666xg7tbyKbOOpS6MaP3RckbPDT10TCZMmOCme+mOrRoJF198satf1bPm+0ZIMpqfyz4nk225M9E5ouX8OjQoSTqqh+9973v27LPPJsqvoCbV50Wi9e8/Y+Eul6pHfe7VcExXFr1fjTF9fsOfvTDVrcrk60ENuPLy8jrT1PhUY049PsL0GVI59fnWMVY5woGQXud67BSUHnbYYe4c0XI6R3Qu+bIk23ftlxrfmp6LdN+Fqb67tP1svgP32WefxHH3daJ922233dw0fa8okMmWyqogQ8vqMWvWLFdWlSfTcfBUhzrnw+ewPhOars9IWLq60ftVB/57VvP9/4h00n2/Sqb/TWG5lCFd/fjjpml6aH2+Xr361EU2n2eJnhu+TlLJ9Rj84Ac/cN9fCl513ikIXbx4se2www5u/6688kr3ufvyyy/dvPfff986d+5sZ599tgsywxRk67tN3zkK8HRe6n1z5851wZ7WoelTp061F198cavvDVH9nXbaaa4uFGjqnND/CF3wypXKp67JCl5VbpV/5cqVtv/++9tll12WOH6Z6BhoPeoGrTpS3eqvAmwAaGxFG8D6xoAaMmq8ZTs6oRoOCn5F65g+fXqisaqH/tnqi9tf7dR79M9JfwcPHuwajuF54eVzpeBU2xJlC/RPR12j5fjjj3f/kMMNMf1z1D88NbKTUfmi3apvvfVWt89hqi+/Xe2DMhRab6rAWLTPl156afDK7M0333RXjZWFyoZ/n/9nru3n2t1b/0z9vml5HYsePXqkLHeuZdb5o2Op7JqvH1/OZOeGqCEvCnLC0h3bXOS6z1G5ljsVbU/niDIxnuo2vM5kwtvVc9VLqs9LsvrX+alAKHze+/M8HPhHy6Ishi72iD4DqeicUGNTWQjRMdKxCk/r2rWr+yz6MmUrn2On81P7q/2WP/7xj+6vP07J9l3b0LbUkM5Fuu/CVLL9DlQZo+eG9k3fYflQWcPHUeXO9TOl71QFX+H1qIz6HxI9Lunqxp8Xy5Ytc3813/+PqI9cjkchyqDPW4cOHRLfBZLsuyrfusj28yy5nhu57H/37t1t2LBh1rx5c7d/CnwrKyvdRZqbbrrJ7YeCv08++cRdONI8ZWoVoLZv3971IAmbN2+e29aPfvQj930m2obuMf7973/vMrsbNmywv/zlL/aTn/zEXcSK+va3v+2CYC2vbWld9957r61duzZ4R/aOOeYYV5+qP61L5VdAru+sPfbYw10Ay4ayvwqgdSxULl100Pp00QcAGltRj0IsasjpCqwPZKNX0qPUgEn2T070T1ENVzVqo3wDXtvS1VL/iHbNypb+Sfh/vsn4rofhbWn/9E8vGV++ZP8sk9GVcb9e7VM21CDRhQIto+DAd2HMhhoOqnstl+kYpRIOnrKVS5kV2KqM6nIVlercUMNMDQUFOV6mY5uLfPY5LJdyp6PPjBquOleyHdgnWT34174BGpaq/vVa0zU/2/Pcfy7VCEv1eRc1zlU/vsGuz532c8WKFW6atqfgJtvPVVg+x0515i/yRKXbd03TPL0nW+m+C5Px28/mOzDZvqfbt0yiZdVzTcslY6X36mJddJ9nz57tMuzhnirp6kZBrz47+j6OZp7rI5fjUYgy6PNUVlbmvhf9sbznnnu26rGTb11k83n2cj03ctl/BWbaT2VG//znPwdTt1B3WQW3Og90Ich79913Xbmi59hHH33kstmi7w8Fqzp/sqUMZ8eOHV2wqjr35s+fn3OvJGVt9R2uoDncC0XfBwrI1V4I13M6akPpliMto3aVsvXqwbJ8+fLgHQDQeIo+gPX8F66yTdk0rvPlu2CFH6m6J9aX/rlFt1XfURh9QCd+neF/oqmokaBuT77roO+Sli01gJQx13I6RtpmvoFstupbZtSlTJ/qURk4NXq31xFq1QBTUKpgK9oYj9J5qaBGQaoyM1pGwb4agJqmTIkap8kuapWqxvwO3F4pe+e7w+q7LN8gsj4KUQYFYFpH9HiGM/yZbKu6yHa7+vzqO0H3tep7YVvTRVQFzPppHQW/nu5dbdp02zbZlLlVVlrdmhX46v+neizkcrEaAAqhZAJYSZfdyYauAOufXbJulWro6qpxrt308qUMRqbuhslEy6cGvP7Be76LZLpulVEKUtQVTA3U+gTPonWosasGRz77l618yqzzR3WVrIt2qnPDb0f3U20LKlP4CrvPknm5lFvLhY+H1pss46/GrS4GSLZdkD2df8myMpKq/vVa0zU/m8+hsiYaGEgZGt1HninI9hk47bvWrXPGB6y6Z07Z2O0hOEu375qmeXpPQ2mI78BM528q/vzNJTOe6jtV56QCGwVzuVB96KKcAnqVJdN51hDqU4Z033e5SlaObD7P9ZXN/itjWlVV5bKwus81St+R+o1WZUbD94vqub7/Pvvss2BKYfzzn/90nyPdf/uNb3wjmFp77u+0007Bq1r67lEZ1EXZC/eaUdZU72nVqpW78OCp7HqfzmtlYnXu6+KtukT7fYx+1hSk7rXXXq4btAJXdX9WRlgZal04B4DGVLQB7G233eayiWG6P0v/GJI1jrOhRqqyS/on6NetL/mHHnrI/VVjSV/+4cFS9D6VJRX/TzrXoFqNag0mEx70ReXSoCPJ6B+5uj5Gy6d/ROGrpwpY9E/LZ6ZUfnVDCou+Rw071Wv4H2d0vZmoTLkOMlMf+ZTZd0tTJs43hHydJzs3ROvUdtRFOls6Vloml+6PyahMKq8aZb5RrvMlnHXMttz+fNP9VKL3h++dCn8OsqWGV7gu/bmWrBunJKt/bW/48OFuur8QoXu99HkKZ/CTfR8oQ5NNEKvvCzX0NDiLD4h8MKNp6boCJzvPGlKyfdfnStPyvb80lWTfXfl8B6aSzfnraZvhfdb5K/5CQzbHQfcT63vNj/gr/pzUd2eyczKZdPur80z3D0bPxbDo92s+cq3zZPXju/Lq8xX+XPuBrbKRrhzZfp7zkcv+K2D829/+Zk2aNHEj9T766KNu1GCNQHzFFVe40bB1THQf7C9+8Qs3T+/RhVYFvjpPs6V61neJRjLWOapRgHX/bZgCSdW9MrCqi/vvv9/VxciRI10gHabvSk3T95BGS1a5NFJymM43dUfW97XfN+2Hfs5H3ZInTZrkPrf6HvPluuWWW+y6665zXZk9BfC6sK2yqIfNd7/7XTeWgM4R1Y8y3PX9fXgAyFbRBrC6eqn7X5TJ8w/R1dhsGyLJKLvk76fVOnVPkP45aJ3qQqkrvX4Iez30z/nll18Olt6a/yeu9eXS5VLLqeurGld+W2o06m8qycqnf2C+MS56j8rj73vSP1Dd6xMWvl9V/7BEA2+Ey6LRfXPtjhsulzIhme5PrA+tN58y+6DH14/+6gq+RM8NPSSfc84HIlpHfbpS6xxRY1jnqS9P+D4uyabcOt/0Hn+M/AjYymZ6ynD47aheNF/nUypaVg01f95q+9pGuu6J0frX9tSI03Qv2WdDWYJkF67UIPPncqoLKKoDbUPnhg+I/DTtg4L7VPQ+f2+wypFqG4WSbN/VcNVx0LxC0vqi3135fAemk835K5qmCz5+mzoXbw5+akSyOQ56r5bRsn49asyrDOnO42QGDBiQWIfq35dFPRIUwCQ7F73o92u+AUGqMiSTrH40zfek8PWvh8qfS9CWrhzZfJ7zlcv+K2B7/PHHXUCq7wq9X6Pr6qdyFNzp+L/zzjvuIt7RRx/tMpEffvihC5I1qm+2Fi5c6AJiZS510WXPPfd09Rl15513uu9PdWtWQNqrVy+3nX/961/BO2op+Hzttddcl2NlQRVQ+luAvEceecR9VrUvKrfKr33T8Va963tND/0ckLLN6vFwxBFHuP3Ta0/v8QN46bOuW330Hq1bFwEAoDEV7e/AAgCKn7+3sRBBT0PzF6PSXaQBklGmVhlhBZINeXEXAOKgpO6BBQBgW9E9huky9kAq6rKsDKuyoGQ8AZQ6MrAAgNiKUwYWyMYPfvAD1w1f3anVrXmfffZxA8bploVf/epX9sADDwTvBIDSRAYWAABgO6GRgzWolEZk1j2rGlxLAyVpQCeCVwAgAwsAAAAAiAkysAAAAACAWCCABQAAAADEAgEsAAAAACAWCGABAAAAALFAAAsAAAAAiAUCWAAAAABALBDAAgAAAABigQAWAAAAABALBLAAAAAAgFgggAUAAAAAxAIBLAAAAAAgFghgAQAAAACxQAALAAAAAIgFAlgAAAAAQCwQwAIAAAAAYoEAFgAAAAAQA2b/HwTP84TbZCSnAAAAAElFTkSuQmCC)"
      ],
      "metadata": {
        "id": "5grbTG5Y-_so"
      }
    },
    {
      "cell_type": "markdown",
      "source": [
        "**What is Non-Contiguous Data?**\n",
        "A tensor becomes non-contiguous when its elements are not laid out sequentially in memory, often due to operations like transpose, permute, or slicing.\n",
        "Accessing elements in such tensors requires additional indexing logic, making it less efficient.\n",
        "\n",
        "![image.png](data:image/png;base64,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)"
      ],
      "metadata": {
        "id": "f8ymJ3YT_IH_"
      }
    },
    {
      "cell_type": "code",
      "source": [
        "x = torch.tensor([[1, 2, 3], [4, 5, 6]])\n",
        "x=x.T\n",
        "print(f\"contiguos or not :{x.is_contiguous()}\")"
      ],
      "metadata": {
        "colab": {
          "base_uri": "https://localhost:8080/"
        },
        "id": "rJ-V6b8j-wlB",
        "outputId": "4ab79219-fc7d-4930-d54d-5a690d2e86d5"
      },
      "execution_count": null,
      "outputs": [
        {
          "output_type": "stream",
          "name": "stdout",
          "text": [
            "contiguos or not :False\n"
          ]
        }
      ]
    },
    {
      "cell_type": "code",
      "source": [
        "#any change in z will change the original tensor x\n",
        "z[:,0] =5\n",
        "z,y"
      ],
      "metadata": {
        "colab": {
          "base_uri": "https://localhost:8080/"
        },
        "id": "h_2fD54Spy3c",
        "outputId": "df4a768b-c42f-46df-c13d-06a279ff7fd9"
      },
      "execution_count": null,
      "outputs": [
        {
          "output_type": "execute_result",
          "data": {
            "text/plain": [
              "(tensor([[5., 2., 3., 4., 5., 6., 7., 8., 9.]]),\n",
              " tensor([[5., 2., 3., 4., 5., 6., 7., 8., 9.]]))"
            ]
          },
          "metadata": {},
          "execution_count": 89
        }
      ]
    },
    {
      "cell_type": "code",
      "source": [
        "#stack tensor on top of each other\n",
        "y_stacked=torch.stack([y,y,y,y],dim=0)\n",
        "y_stacked,y_stacked.shape"
      ],
      "metadata": {
        "colab": {
          "base_uri": "https://localhost:8080/"
        },
        "id": "AY-fYDEGqKd_",
        "outputId": "9c9f8ef5-5eb8-4310-c931-c8bfbf07c9c7"
      },
      "execution_count": null,
      "outputs": [
        {
          "output_type": "execute_result",
          "data": {
            "text/plain": [
              "(tensor([[[5., 2., 3., 4., 5., 6., 7., 8., 9.]],\n",
              " \n",
              "         [[5., 2., 3., 4., 5., 6., 7., 8., 9.]],\n",
              " \n",
              "         [[5., 2., 3., 4., 5., 6., 7., 8., 9.]],\n",
              " \n",
              "         [[5., 2., 3., 4., 5., 6., 7., 8., 9.]]]),\n",
              " torch.Size([4, 1, 9]))"
            ]
          },
          "metadata": {},
          "execution_count": 90
        }
      ]
    },
    {
      "cell_type": "code",
      "source": [
        "# create three tensors\n",
        "x1 = torch.tensor([1,2,3])\n",
        "x2 = torch.tensor([4,5,6])\n",
        "x3 = torch.tensor([7,8,9])\n",
        "stacked=torch.stack([x1,x2,x3])\n",
        "stacked\n"
      ],
      "metadata": {
        "colab": {
          "base_uri": "https://localhost:8080/"
        },
        "id": "px-0knnh_so1",
        "outputId": "1b907f47-9cfc-4d25-bc1f-ffe7a4b29672"
      },
      "execution_count": null,
      "outputs": [
        {
          "output_type": "execute_result",
          "data": {
            "text/plain": [
              "tensor([[1, 2, 3],\n",
              "        [4, 5, 6],\n",
              "        [7, 8, 9]])"
            ]
          },
          "metadata": {},
          "execution_count": 57
        }
      ]
    },
    {
      "cell_type": "code",
      "source": [
        "#stack tensor on top of each other\n",
        "y_stacked=torch.stack([y,y,y,y],dim=1) #dim 0 is vstack and dim 1 is hstack\n",
        "y_stacked,y_stacked.shape"
      ],
      "metadata": {
        "colab": {
          "base_uri": "https://localhost:8080/"
        },
        "id": "Vz8Q0Gekq6ty",
        "outputId": "ffe6b338-863e-4fe1-d8f8-6b48aef3de90"
      },
      "execution_count": null,
      "outputs": [
        {
          "output_type": "execute_result",
          "data": {
            "text/plain": [
              "(tensor([[[5., 2., 3., 4., 5., 6., 7., 8., 9.],\n",
              "          [5., 2., 3., 4., 5., 6., 7., 8., 9.],\n",
              "          [5., 2., 3., 4., 5., 6., 7., 8., 9.],\n",
              "          [5., 2., 3., 4., 5., 6., 7., 8., 9.]]]),\n",
              " torch.Size([1, 4, 9]))"
            ]
          },
          "metadata": {},
          "execution_count": 91
        }
      ]
    },
    {
      "cell_type": "code",
      "source": [
        "#torch.squeeze - removes all single dimentsions from target tensor\n",
        "y_squeezed=y.squeeze()"
      ],
      "metadata": {
        "id": "vwSzk2skq_xe"
      },
      "execution_count": null,
      "outputs": []
    },
    {
      "cell_type": "code",
      "source": [
        "y"
      ],
      "metadata": {
        "colab": {
          "base_uri": "https://localhost:8080/"
        },
        "id": "KUe_lYycsn5h",
        "outputId": "398b3b7e-2cbe-4182-99ee-4e52a9872c94"
      },
      "execution_count": null,
      "outputs": [
        {
          "output_type": "execute_result",
          "data": {
            "text/plain": [
              "tensor([[5., 2., 3., 4., 5., 6., 7., 8., 9.]])"
            ]
          },
          "metadata": {},
          "execution_count": 93
        }
      ]
    },
    {
      "cell_type": "code",
      "source": [
        "y.squeeze().shape #it removes all dimentions from tensor like if size is [1,1,9] after squeeze it will [9] or we can say remove extra dimension from tensor\n"
      ],
      "metadata": {
        "id": "aO5wA1jNsqgZ"
      },
      "execution_count": null,
      "outputs": []
    },
    {
      "cell_type": "code",
      "source": [
        "#unsqueeze tensor - add single dimention to target tensor at specific dim\n",
        "y.shape,y.unsqueeze(dim=0)"
      ],
      "metadata": {
        "colab": {
          "base_uri": "https://localhost:8080/"
        },
        "id": "crFcYQ_Jste6",
        "outputId": "be8d7bcd-65f8-451f-d562-eecd413e3d51"
      },
      "execution_count": null,
      "outputs": [
        {
          "output_type": "execute_result",
          "data": {
            "text/plain": [
              "(torch.Size([1, 9]), tensor([[[5., 2., 3., 4., 5., 6., 7., 8., 9.]]]))"
            ]
          },
          "metadata": {},
          "execution_count": 94
        }
      ]
    },
    {
      "cell_type": "code",
      "source": [
        "xx=torch.rand(2,3)\n",
        "xx.unsqueeze(dim=0)"
      ],
      "metadata": {
        "colab": {
          "base_uri": "https://localhost:8080/"
        },
        "id": "HhiB46MDA45u",
        "outputId": "b1680954-62a5-4373-ea67-fce01a32e877"
      },
      "execution_count": null,
      "outputs": [
        {
          "output_type": "execute_result",
          "data": {
            "text/plain": [
              "tensor([[[0.9743, 0.3755, 0.8773],\n",
              "         [0.4114, 0.6592, 0.1128]]])"
            ]
          },
          "metadata": {},
          "execution_count": 64
        }
      ]
    },
    {
      "cell_type": "code",
      "source": [
        "xx=torch.rand(2,3)\n",
        "xx.unsqueeze(dim=1)"
      ],
      "metadata": {
        "id": "fY1-lRRZBKEL",
        "outputId": "dcfde620-75d7-49e6-ad3f-6cf31077a903",
        "colab": {
          "base_uri": "https://localhost:8080/"
        }
      },
      "execution_count": null,
      "outputs": [
        {
          "output_type": "execute_result",
          "data": {
            "text/plain": [
              "tensor([[[0.0477, 0.6110, 0.1341]],\n",
              "\n",
              "        [[0.8230, 0.3716, 0.3891]]])"
            ]
          },
          "metadata": {},
          "execution_count": 63
        }
      ]
    },
    {
      "cell_type": "code",
      "source": [
        "xx=torch.rand(2,3)\n",
        "xx.unsqueeze(dim=2)"
      ],
      "metadata": {
        "id": "oePlSsrkBOPS",
        "outputId": "d659ab18-efa6-4286-ce64-5ffd666ada78",
        "colab": {
          "base_uri": "https://localhost:8080/"
        }
      },
      "execution_count": null,
      "outputs": [
        {
          "output_type": "execute_result",
          "data": {
            "text/plain": [
              "tensor([[[0.2993],\n",
              "         [0.9726],\n",
              "         [0.7108]],\n",
              "\n",
              "        [[0.5953],\n",
              "         [0.1776],\n",
              "         [0.9539]]])"
            ]
          },
          "metadata": {},
          "execution_count": 65
        }
      ]
    },
    {
      "cell_type": "code",
      "source": [
        "y.unsqueeze(dim=0).shape"
      ],
      "metadata": {
        "colab": {
          "base_uri": "https://localhost:8080/"
        },
        "id": "3xJ4BmqPtyky",
        "outputId": "ac5c53d7-711e-464b-c836-42e19dca6b23"
      },
      "execution_count": null,
      "outputs": [
        {
          "output_type": "execute_result",
          "data": {
            "text/plain": [
              "torch.Size([1, 1, 9])"
            ]
          },
          "metadata": {},
          "execution_count": 95
        }
      ]
    },
    {
      "cell_type": "code",
      "source": [
        "print(f\"Squeezed : {y_squeezed}\\n shape : {y_squeezed.shape}\")\n",
        "print('\\n')\n",
        "print(f\"Unsqueezed : {y_squeezed.unsqueeze(dim=0)}\\n shape : {y_squeezed.unsqueeze(dim=0).shape}\")\n"
      ],
      "metadata": {
        "colab": {
          "base_uri": "https://localhost:8080/"
        },
        "id": "f09bzqLkudV-",
        "outputId": "1a4958c5-ba19-4eeb-f50d-e4b7797b46d2"
      },
      "execution_count": null,
      "outputs": [
        {
          "output_type": "stream",
          "name": "stdout",
          "text": [
            "Squeezed : tensor([5., 2., 3., 4., 5., 6., 7., 8., 9.])\n",
            " shape : torch.Size([9])\n",
            "\n",
            "\n",
            "Unsqueezed : tensor([[5., 2., 3., 4., 5., 6., 7., 8., 9.]])\n",
            " shape : torch.Size([1, 9])\n"
          ]
        }
      ]
    },
    {
      "cell_type": "code",
      "source": [
        "print(f\"Squeezed : {y_squeezed}\\n shape : {y_squeezed.shape}\")\n",
        "print('\\n')\n",
        "print(f\"Unsqueezed : {y_squeezed.unsqueeze(dim=1)}\\n shape : {y_squeezed.unsqueeze(dim=1).shape}\")\n"
      ],
      "metadata": {
        "colab": {
          "base_uri": "https://localhost:8080/"
        },
        "id": "nQ_khKF_uekM",
        "outputId": "bf047043-dd7f-4cb9-9dc4-7fed81ccb2e1"
      },
      "execution_count": null,
      "outputs": [
        {
          "output_type": "stream",
          "name": "stdout",
          "text": [
            "Squeezed : tensor([5., 2., 3., 4., 5., 6., 7., 8., 9.])\n",
            " shape : torch.Size([9])\n",
            "\n",
            "\n",
            "Unsqueezed : tensor([[5.],\n",
            "        [2.],\n",
            "        [3.],\n",
            "        [4.],\n",
            "        [5.],\n",
            "        [6.],\n",
            "        [7.],\n",
            "        [8.],\n",
            "        [9.]])\n",
            " shape : torch.Size([9, 1])\n"
          ]
        }
      ]
    },
    {
      "cell_type": "markdown",
      "source": [
        "### torch.permute - rearranges the dimension of target tensor to specified order\n",
        "\n",
        "* we will use permute with images"
      ],
      "metadata": {
        "id": "P6ustg_WvQNt"
      }
    },
    {
      "cell_type": "code",
      "source": [
        "x_original=torch.rand(244,244,3) #height width colors channle(R,G,B)\n",
        "#permute to rearrange the axis or dim\n",
        "x_permuted=x_original.permute(2,0,1) #shift dimention to 0->1,1->2 and 2->0\n",
        "x_original.shape,x_permuted.shape #color channels , height , width\n"
      ],
      "metadata": {
        "colab": {
          "base_uri": "https://localhost:8080/"
        },
        "id": "Fr8TaMMbu8EA",
        "outputId": "f61234fa-19dc-4799-af4a-8f9b448cfdec"
      },
      "execution_count": null,
      "outputs": [
        {
          "output_type": "execute_result",
          "data": {
            "text/plain": [
              "(torch.Size([244, 244, 3]), torch.Size([3, 244, 244]))"
            ]
          },
          "metadata": {},
          "execution_count": 98
        }
      ]
    },
    {
      "cell_type": "code",
      "source": [
        "#lets check if we change the value of orginal will it change permuted value also\n",
        "x_original[0,0,0]=45.9\n",
        "x_original[0,0,0],x_permuted[0,0,0]"
      ],
      "metadata": {
        "colab": {
          "base_uri": "https://localhost:8080/"
        },
        "id": "-cpEqnjhxc5A",
        "outputId": "b8671cca-7e0b-442a-c8cd-232a7f88b986"
      },
      "execution_count": null,
      "outputs": [
        {
          "output_type": "execute_result",
          "data": {
            "text/plain": [
              "(tensor(45.9000), tensor(45.9000))"
            ]
          },
          "metadata": {},
          "execution_count": 99
        }
      ]
    },
    {
      "cell_type": "markdown",
      "source": [
        "#Indexing Selecting data from tensors"
      ],
      "metadata": {
        "id": "fpbbPrbiyawL"
      }
    },
    {
      "cell_type": "code",
      "source": [
        "x=torch.arange(1,10).reshape(1,3,3)\n",
        "x"
      ],
      "metadata": {
        "id": "SHQs7kh4yUSy",
        "colab": {
          "base_uri": "https://localhost:8080/"
        },
        "outputId": "635ee56b-1fe0-47d0-c14c-920b92da52c3"
      },
      "execution_count": null,
      "outputs": [
        {
          "output_type": "execute_result",
          "data": {
            "text/plain": [
              "tensor([[[1, 2, 3],\n",
              "         [4, 5, 6],\n",
              "         [7, 8, 9]]])"
            ]
          },
          "metadata": {},
          "execution_count": 107
        }
      ]
    },
    {
      "cell_type": "code",
      "source": [
        "x[0]"
      ],
      "metadata": {
        "colab": {
          "base_uri": "https://localhost:8080/"
        },
        "id": "KwIaPYLkc1Hz",
        "outputId": "5c88da12-6873-4d7a-e3fe-a224ef165164"
      },
      "execution_count": null,
      "outputs": [
        {
          "output_type": "execute_result",
          "data": {
            "text/plain": [
              "tensor([[1, 2, 3],\n",
              "        [4, 5, 6],\n",
              "        [7, 8, 9]])"
            ]
          },
          "metadata": {},
          "execution_count": 108
        }
      ]
    },
    {
      "cell_type": "code",
      "source": [
        "x[0][0]"
      ],
      "metadata": {
        "colab": {
          "base_uri": "https://localhost:8080/"
        },
        "id": "IBQcvs30dDxI",
        "outputId": "72224fcb-489d-4554-e486-759a693b003d"
      },
      "execution_count": null,
      "outputs": [
        {
          "output_type": "execute_result",
          "data": {
            "text/plain": [
              "tensor([1, 2, 3])"
            ]
          },
          "metadata": {},
          "execution_count": 109
        }
      ]
    },
    {
      "cell_type": "code",
      "source": [
        "x[0][0][0]"
      ],
      "metadata": {
        "colab": {
          "base_uri": "https://localhost:8080/"
        },
        "id": "_mROnmpedVYm",
        "outputId": "b90336b4-e62d-47b7-a227-90dd2de6d403"
      },
      "execution_count": null,
      "outputs": [
        {
          "output_type": "execute_result",
          "data": {
            "text/plain": [
              "tensor(1)"
            ]
          },
          "metadata": {},
          "execution_count": 110
        }
      ]
    },
    {
      "cell_type": "code",
      "source": [
        "x[0][2][2]"
      ],
      "metadata": {
        "colab": {
          "base_uri": "https://localhost:8080/"
        },
        "id": "6O26rAsvdXSk",
        "outputId": "5e277959-4b1f-4e2f-de8f-daa413b34733"
      },
      "execution_count": null,
      "outputs": [
        {
          "output_type": "execute_result",
          "data": {
            "text/plain": [
              "tensor(9)"
            ]
          },
          "metadata": {},
          "execution_count": 111
        }
      ]
    },
    {
      "cell_type": "code",
      "source": [
        "# we can use ':' to select all target indexs\n",
        "x[:,:,1]"
      ],
      "metadata": {
        "colab": {
          "base_uri": "https://localhost:8080/"
        },
        "id": "xxCmdFWLeHea",
        "outputId": "615366f3-1b41-4df9-bdf7-c785c9f098e7"
      },
      "execution_count": null,
      "outputs": [
        {
          "output_type": "execute_result",
          "data": {
            "text/plain": [
              "tensor([[2, 5, 8]])"
            ]
          },
          "metadata": {},
          "execution_count": 114
        }
      ]
    },
    {
      "cell_type": "code",
      "source": [
        "x[:,1,1]"
      ],
      "metadata": {
        "colab": {
          "base_uri": "https://localhost:8080/"
        },
        "id": "SXVuNX44ecyg",
        "outputId": "21673d99-8908-4ea8-f9e3-e0dfb5cee7cf"
      },
      "execution_count": null,
      "outputs": [
        {
          "output_type": "execute_result",
          "data": {
            "text/plain": [
              "tensor([5])"
            ]
          },
          "metadata": {},
          "execution_count": 116
        }
      ]
    },
    {
      "cell_type": "code",
      "source": [
        "x[:,0,:]"
      ],
      "metadata": {
        "colab": {
          "base_uri": "https://localhost:8080/"
        },
        "id": "v3-pcU2Fejno",
        "outputId": "02bf4ed9-d5b8-4c8f-9f26-0248edcce5c7"
      },
      "execution_count": null,
      "outputs": [
        {
          "output_type": "execute_result",
          "data": {
            "text/plain": [
              "tensor([[1, 2, 3]])"
            ]
          },
          "metadata": {},
          "execution_count": 117
        }
      ]
    },
    {
      "cell_type": "code",
      "source": [
        "x"
      ],
      "metadata": {
        "colab": {
          "base_uri": "https://localhost:8080/"
        },
        "id": "6_4wbO4keyVi",
        "outputId": "c58e9f11-3b73-4396-de04-a8c996691975"
      },
      "execution_count": null,
      "outputs": [
        {
          "output_type": "execute_result",
          "data": {
            "text/plain": [
              "tensor([[[1, 2, 3],\n",
              "         [4, 5, 6],\n",
              "         [7, 8, 9]]])"
            ]
          },
          "metadata": {},
          "execution_count": 118
        }
      ]
    },
    {
      "cell_type": "code",
      "source": [
        "x[0,:,2]"
      ],
      "metadata": {
        "colab": {
          "base_uri": "https://localhost:8080/"
        },
        "id": "Y_Py5UiDfGqA",
        "outputId": "5f2787f7-857e-46e9-a6fb-d80c6bfda771"
      },
      "execution_count": null,
      "outputs": [
        {
          "output_type": "execute_result",
          "data": {
            "text/plain": [
              "tensor([3, 6, 9])"
            ]
          },
          "metadata": {},
          "execution_count": 122
        }
      ]
    },
    {
      "cell_type": "markdown",
      "source": [
        "#Pytorch Tensors and Numpy\n",
        "\n",
        "Pytorch has functionality to interact with it\n",
        "\n",
        "![image.png](data:image/png;base64,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)"
      ],
      "metadata": {
        "id": "HPCX--1-fnzg"
      }
    },
    {
      "cell_type": "code",
      "source": [
        "import torch\n",
        "import numpy as np"
      ],
      "metadata": {
        "id": "eNOwNAzefL1N"
      },
      "execution_count": null,
      "outputs": []
    },
    {
      "cell_type": "code",
      "source": [
        "array=np.arange(1.,10.)\n",
        "array"
      ],
      "metadata": {
        "colab": {
          "base_uri": "https://localhost:8080/"
        },
        "id": "MDrDiXjtgf_o",
        "outputId": "a32111e2-0e73-4027-f072-266958049e06"
      },
      "execution_count": null,
      "outputs": [
        {
          "output_type": "execute_result",
          "data": {
            "text/plain": [
              "array([1., 2., 3., 4., 5., 6., 7., 8., 9.])"
            ]
          },
          "metadata": {},
          "execution_count": 125
        }
      ]
    },
    {
      "cell_type": "code",
      "source": [
        "tensor=torch.from_numpy(array).type(torch.float32)"
      ],
      "metadata": {
        "id": "4oIeQGJMgnHF"
      },
      "execution_count": null,
      "outputs": []
    },
    {
      "cell_type": "code",
      "source": [
        "tensor"
      ],
      "metadata": {
        "colab": {
          "base_uri": "https://localhost:8080/"
        },
        "id": "n29jp75Tgri8",
        "outputId": "65509708-36c3-4846-ce77-38e58ecb0c31"
      },
      "execution_count": null,
      "outputs": [
        {
          "output_type": "execute_result",
          "data": {
            "text/plain": [
              "tensor([1., 2., 3., 4., 5., 6., 7., 8., 9.])"
            ]
          },
          "metadata": {},
          "execution_count": 128
        }
      ]
    },
    {
      "cell_type": "code",
      "source": [
        "array,tensor"
      ],
      "metadata": {
        "colab": {
          "base_uri": "https://localhost:8080/"
        },
        "id": "9N20GqqFgwT4",
        "outputId": "f18330d2-b00c-4ed6-ddea-33d19013044a"
      },
      "execution_count": null,
      "outputs": [
        {
          "output_type": "execute_result",
          "data": {
            "text/plain": [
              "(array([1., 2., 3., 4., 5., 6., 7., 8., 9.]),\n",
              " tensor([1., 2., 3., 4., 5., 6., 7., 8., 9.]))"
            ]
          },
          "metadata": {},
          "execution_count": 130
        }
      ]
    },
    {
      "cell_type": "code",
      "source": [
        "tensor.dtype,array.dtype #when converting from numpy array to tensor the tensor will adopt the datatype of numpy"
      ],
      "metadata": {
        "colab": {
          "base_uri": "https://localhost:8080/"
        },
        "id": "ZyWubwvZgxoQ",
        "outputId": "cdf2a90f-cd32-4926-da65-80a994d4e0e2"
      },
      "execution_count": null,
      "outputs": [
        {
          "output_type": "execute_result",
          "data": {
            "text/plain": [
              "(torch.float32, dtype('float64'))"
            ]
          },
          "metadata": {},
          "execution_count": 132
        }
      ]
    },
    {
      "cell_type": "code",
      "source": [
        "array=array+1 #when change value of array it will not change value of tensor\n",
        "array,tensor"
      ],
      "metadata": {
        "colab": {
          "base_uri": "https://localhost:8080/"
        },
        "id": "h5DP3Y2tg20q",
        "outputId": "96ac6d2c-0786-4bdd-993b-80d3f0b38d9c"
      },
      "execution_count": null,
      "outputs": [
        {
          "output_type": "execute_result",
          "data": {
            "text/plain": [
              "(array([ 2.,  3.,  4.,  5.,  6.,  7.,  8.,  9., 10.]),\n",
              " tensor([1., 2., 3., 4., 5., 6., 7., 8., 9.]))"
            ]
          },
          "metadata": {},
          "execution_count": 133
        }
      ]
    },
    {
      "cell_type": "code",
      "source": [
        "#tensor to numpy\n",
        "tensor=torch.ones(7)"
      ],
      "metadata": {
        "id": "TUHlPP7vhLd1"
      },
      "execution_count": null,
      "outputs": []
    },
    {
      "cell_type": "code",
      "source": [
        "numpy_tensor=tensor.numpy()\n",
        "tensor,numpy_tensor"
      ],
      "metadata": {
        "colab": {
          "base_uri": "https://localhost:8080/"
        },
        "id": "rXdX4oCXk0_B",
        "outputId": "628bb457-faf4-4baa-c1bb-63bbe4c82e38"
      },
      "execution_count": null,
      "outputs": [
        {
          "output_type": "execute_result",
          "data": {
            "text/plain": [
              "(tensor([1., 1., 1., 1., 1., 1., 1.]),\n",
              " array([1., 1., 1., 1., 1., 1., 1.], dtype=float32))"
            ]
          },
          "metadata": {},
          "execution_count": 135
        }
      ]
    },
    {
      "cell_type": "code",
      "source": [
        "tensor=tensor+1\n",
        "tensor,numpy_tensor\n"
      ],
      "metadata": {
        "colab": {
          "base_uri": "https://localhost:8080/"
        },
        "id": "fi-jsPkQk51h",
        "outputId": "59c359d7-a7fd-4efd-ea10-a07f2711b80b"
      },
      "execution_count": null,
      "outputs": [
        {
          "output_type": "execute_result",
          "data": {
            "text/plain": [
              "(tensor([3., 3., 3., 3., 3., 3., 3.]),\n",
              " array([1., 1., 1., 1., 1., 1., 1.], dtype=float32))"
            ]
          },
          "metadata": {},
          "execution_count": 138
        }
      ]
    },
    {
      "cell_type": "markdown",
      "source": [
        "#Pytorch Reproducibility (trying to rake random out of random)\n",
        "\n",
        "![image.png](data:image/png;base64,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)"
      ],
      "metadata": {
        "id": "Qlwo7_ZalXXS"
      }
    },
    {
      "cell_type": "code",
      "source": [
        "tensor_1=torch.rand(3,3)\n",
        "tensor_2=torch.rand(3,3)\n",
        "print(tensor_1==tensor_2)"
      ],
      "metadata": {
        "colab": {
          "base_uri": "https://localhost:8080/"
        },
        "id": "PqTDXy5KlNH_",
        "outputId": "f56597ac-597e-4b28-f46f-ca53379499a1"
      },
      "execution_count": null,
      "outputs": [
        {
          "output_type": "stream",
          "name": "stdout",
          "text": [
            "tensor([[False, False, False],\n",
            "        [False, False, False],\n",
            "        [False, False, False]])\n"
          ]
        }
      ]
    },
    {
      "cell_type": "code",
      "source": [
        "#lets make random tensors but reproducible\n",
        "RANDOM_SEED =42\n",
        "torch.manual_seed(RANDOM_SEED)\n",
        "tensorA=torch.rand(3,3)\n",
        "torch.manual_seed(RANDOM_SEED)\n",
        "\n",
        "tensorB=torch.rand(3,3)\n",
        "print(tensorA==tensorB)\n"
      ],
      "metadata": {
        "colab": {
          "base_uri": "https://localhost:8080/"
        },
        "id": "F-uH5o1DpPqC",
        "outputId": "392d04e1-1af0-4ae8-87f3-ed6e277d1d30"
      },
      "execution_count": null,
      "outputs": [
        {
          "output_type": "stream",
          "name": "stdout",
          "text": [
            "tensor([[True, True, True],\n",
            "        [True, True, True],\n",
            "        [True, True, True]])\n"
          ]
        }
      ]
    },
    {
      "cell_type": "code",
      "source": [
        "torch.manual_seed(RANDOM_SEED)\n"
      ],
      "metadata": {
        "colab": {
          "base_uri": "https://localhost:8080/"
        },
        "id": "moTgxPUtqT4h",
        "outputId": "a703aed1-3165-4dee-8944-200df6a9ac73"
      },
      "execution_count": null,
      "outputs": [
        {
          "output_type": "execute_result",
          "data": {
            "text/plain": [
              "<torch._C.Generator at 0x7fa7d42951d0>"
            ]
          },
          "metadata": {},
          "execution_count": 141
        }
      ]
    },
    {
      "cell_type": "markdown",
      "source": [
        "#Running Tensors and pytroch objects on the GPUs making faster computation\n",
        "\n",
        "![image.png](data:image/png;base64,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)"
      ],
      "metadata": {
        "id": "7IZ8mSTKrQkT"
      }
    },
    {
      "cell_type": "code",
      "source": [
        "!nvidia-smi"
      ],
      "metadata": {
        "colab": {
          "base_uri": "https://localhost:8080/"
        },
        "id": "ykAqzomLqk44",
        "outputId": "17b4dd99-af41-4cb8-cbc1-8cd471bfa83b"
      },
      "execution_count": null,
      "outputs": [
        {
          "output_type": "stream",
          "name": "stdout",
          "text": [
            "/bin/bash: line 1: nvidia-smi: command not found\n"
          ]
        }
      ]
    },
    {
      "cell_type": "code",
      "source": [
        "#check for GPU access with pytorch\n",
        "import torch\n",
        "torch.cuda.is_available()"
      ],
      "metadata": {
        "colab": {
          "base_uri": "https://localhost:8080/"
        },
        "id": "atgoauO4t3bH",
        "outputId": "244995da-de28-4a0f-a961-5133bdaa980e"
      },
      "execution_count": null,
      "outputs": [
        {
          "output_type": "execute_result",
          "data": {
            "text/plain": [
              "False"
            ]
          },
          "metadata": {},
          "execution_count": 144
        }
      ]
    },
    {
      "cell_type": "markdown",
      "source": [
        "#setup device agnostic code"
      ],
      "metadata": {
        "id": "rfzgRGwvudpd"
      }
    },
    {
      "cell_type": "code",
      "source": [
        "device='cuda' if torch.cuda.is_available() else 'cpu'\n",
        "device"
      ],
      "metadata": {
        "colab": {
          "base_uri": "https://localhost:8080/",
          "height": 35
        },
        "id": "-dh2Isi4uKhR",
        "outputId": "2d5c476e-6f03-45c6-eec0-272b3641f216"
      },
      "execution_count": null,
      "outputs": [
        {
          "output_type": "execute_result",
          "data": {
            "text/plain": [
              "'cpu'"
            ],
            "application/vnd.google.colaboratory.intrinsic+json": {
              "type": "string"
            }
          },
          "metadata": {},
          "execution_count": 145
        }
      ]
    },
    {
      "cell_type": "code",
      "source": [
        "#count number of devices\n",
        "torch.cuda.device_count()"
      ],
      "metadata": {
        "colab": {
          "base_uri": "https://localhost:8080/"
        },
        "id": "iGGKCMGjus6E",
        "outputId": "85ab6536-98d8-40ab-b352-5ceb85754714"
      },
      "execution_count": null,
      "outputs": [
        {
          "output_type": "execute_result",
          "data": {
            "text/plain": [
              "1"
            ]
          },
          "metadata": {},
          "execution_count": 4
        }
      ]
    },
    {
      "cell_type": "markdown",
      "source": [
        "#Putting tensors(or models) on the GPU"
      ],
      "metadata": {
        "id": "ttzuvpONft9_"
      }
    },
    {
      "cell_type": "code",
      "source": [
        "import torch\n",
        "#create tensor(default on cpu\n",
        "# ten=torch.arange(1.,20.,).to(device='cpu')\n",
        "# ten=torch.arange(1.,20.,device='cpu')\n",
        "ten=torch.arange(1.,20.,)\n",
        "ten.device"
      ],
      "metadata": {
        "id": "OYEtK5r-u_3b",
        "colab": {
          "base_uri": "https://localhost:8080/"
        },
        "outputId": "6d52bd84-fe6e-49eb-8a91-9118f6b8617c"
      },
      "execution_count": null,
      "outputs": [
        {
          "output_type": "execute_result",
          "data": {
            "text/plain": [
              "device(type='cpu')"
            ]
          },
          "metadata": {},
          "execution_count": 4
        }
      ]
    },
    {
      "cell_type": "code",
      "source": [
        "#move tensor to GPu if availiable\n",
        "device='cuda' if torch.cuda.is_available() else 'cpu'\n",
        "device"
      ],
      "metadata": {
        "colab": {
          "base_uri": "https://localhost:8080/",
          "height": 35
        },
        "id": "rjbUGoH3gal4",
        "outputId": "c6c3b269-4313-40e7-db12-d7f23a4c2d3f"
      },
      "execution_count": null,
      "outputs": [
        {
          "output_type": "execute_result",
          "data": {
            "text/plain": [
              "'cpu'"
            ],
            "application/vnd.google.colaboratory.intrinsic+json": {
              "type": "string"
            }
          },
          "metadata": {},
          "execution_count": 6
        }
      ]
    },
    {
      "cell_type": "code",
      "source": [
        "tensor_gpu=ten.to(device)"
      ],
      "metadata": {
        "id": "3l7AN_OlhTs2"
      },
      "execution_count": null,
      "outputs": []
    },
    {
      "cell_type": "code",
      "source": [
        "tensor_gpu.device"
      ],
      "metadata": {
        "colab": {
          "base_uri": "https://localhost:8080/"
        },
        "id": "-JDkF_nzhg8G",
        "outputId": "ca3a2488-526f-4f88-c1dc-a7dd188a3e01"
      },
      "execution_count": null,
      "outputs": [
        {
          "output_type": "execute_result",
          "data": {
            "text/plain": [
              "device(type='cpu')"
            ]
          },
          "metadata": {},
          "execution_count": 8
        }
      ]
    },
    {
      "cell_type": "markdown",
      "source": [
        "#we can't convert tensor to numpy if tensor is on GPU numpy not work on GPU"
      ],
      "metadata": {
        "id": "IFv37uUViIhm"
      }
    },
    {
      "cell_type": "code",
      "source": [
        "#moving tensor back to cpu\n",
        "tensor_gpu.cpu().numpy()"
      ],
      "metadata": {
        "colab": {
          "base_uri": "https://localhost:8080/"
        },
        "id": "_761qZSchjD9",
        "outputId": "f9288f41-28fb-4675-c684-b3c5ae5c6f19"
      },
      "execution_count": null,
      "outputs": [
        {
          "output_type": "execute_result",
          "data": {
            "text/plain": [
              "array([ 1.,  2.,  3.,  4.,  5.,  6.,  7.,  8.,  9., 10., 11., 12., 13.,\n",
              "       14., 15., 16., 17., 18., 19.], dtype=float32)"
            ]
          },
          "metadata": {},
          "execution_count": 13
        }
      ]
    },
    {
      "cell_type": "code",
      "source": [
        "torch.cuda.manual_seed(42)"
      ],
      "metadata": {
        "id": "Tsetu3k_iXuO"
      },
      "execution_count": null,
      "outputs": []
    },
    {
      "cell_type": "code",
      "source": [
        "!nvidia-smi"
      ],
      "metadata": {
        "colab": {
          "base_uri": "https://localhost:8080/"
        },
        "id": "1RLV8XJzibek",
        "outputId": "2da9a0bd-b3fb-4373-c1c4-fabbbdadbd35"
      },
      "execution_count": null,
      "outputs": [
        {
          "output_type": "stream",
          "name": "stdout",
          "text": [
            "Sat Sep 28 07:47:24 2024       \n",
            "+---------------------------------------------------------------------------------------+\n",
            "| NVIDIA-SMI 535.104.05             Driver Version: 535.104.05   CUDA Version: 12.2     |\n",
            "|-----------------------------------------+----------------------+----------------------+\n",
            "| GPU  Name                 Persistence-M | Bus-Id        Disp.A | Volatile Uncorr. ECC |\n",
            "| Fan  Temp   Perf          Pwr:Usage/Cap |         Memory-Usage | GPU-Util  Compute M. |\n",
            "|                                         |                      |               MIG M. |\n",
            "|=========================================+======================+======================|\n",
            "|   0  Tesla T4                       Off | 00000000:00:04.0 Off |                    0 |\n",
            "| N/A   56C    P8              10W /  70W |      0MiB / 15360MiB |      0%      Default |\n",
            "|                                         |                      |                  N/A |\n",
            "+-----------------------------------------+----------------------+----------------------+\n",
            "                                                                                         \n",
            "+---------------------------------------------------------------------------------------+\n",
            "| Processes:                                                                            |\n",
            "|  GPU   GI   CI        PID   Type   Process name                            GPU Memory |\n",
            "|        ID   ID                                                             Usage      |\n",
            "|=======================================================================================|\n",
            "|  No running processes found                                                           |\n",
            "+---------------------------------------------------------------------------------------+\n"
          ]
        }
      ]
    },
    {
      "cell_type": "code",
      "source": [
        "import torch\n",
        "device='cuda' if torch.cuda.is_available() else 'cpu'\n",
        "device"
      ],
      "metadata": {
        "colab": {
          "base_uri": "https://localhost:8080/",
          "height": 35
        },
        "id": "ADiVrSJmmOKr",
        "outputId": "ed684120-cb7b-4134-a8fa-da2b11d428dd"
      },
      "execution_count": null,
      "outputs": [
        {
          "output_type": "execute_result",
          "data": {
            "text/plain": [
              "'cuda'"
            ],
            "application/vnd.google.colaboratory.intrinsic+json": {
              "type": "string"
            }
          },
          "metadata": {},
          "execution_count": 6
        }
      ]
    },
    {
      "cell_type": "code",
      "source": [],
      "metadata": {
        "id": "vEU95cvgmTkW"
      },
      "execution_count": null,
      "outputs": []
    }
  ]
}